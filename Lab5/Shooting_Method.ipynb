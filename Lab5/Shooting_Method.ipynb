{
 "cells": [
  {
   "cell_type": "markdown",
   "id": "2b9a8f86",
   "metadata": {},
   "source": [
    "# Решение краевой задачи методом стрельбы\n",
    "### $\\begin{cases}\n",
    "    \\frac{d^2y}{dy^2} = f(x, y, \\frac{dy}{dx}),\n",
    "    \\\\\n",
    "    y(x_0)=y_0,\n",
    "    \\\\\n",
    "    y(x_f)=y_f\n",
    "\\end{cases}$\n",
    "\n",
    "### Мы переходим от краевой задачи к системе дифференциальных уравнений 1 порядка\n",
    "\n",
    "### $\\begin{cases}\n",
    "       \\begin{cases}\n",
    "           \\frac{dy}{dx}=z,\\\\\n",
    "           y(x_{0})=y_{0}\n",
    "       \\end{cases}\\\\\n",
    "   \\begin{cases}\n",
    "       \\frac{dz}{dx}=f(x, y, z),\\\\\n",
    "       y'(x_{0})=a\n",
    "   \\end{cases}\n",
    "\\end{cases}$"
   ]
  },
  {
   "cell_type": "markdown",
   "id": "e8071a3c",
   "metadata": {},
   "source": [
    "Зададим сразу параметры среды, в том числе точность вычислений $\\epsilon$, и некоторые настройки $matplotlib$"
   ]
  },
  {
   "cell_type": "code",
   "execution_count": 69,
   "id": "38236ef2",
   "metadata": {},
   "outputs": [],
   "source": [
    "import matplotlib.pyplot as plt\n",
    "import numpy as np\n",
    "import math\n",
    "\n",
    "#-------------------------------------------------------\n",
    "\n",
    "plt.style.use('classic')\n",
    "plt.style.use('dark_background')\n",
    "\n",
    "#-------------------------------------------------------\n",
    "\n",
    "eps = 1e-5"
   ]
  },
  {
   "cell_type": "markdown",
   "id": "3e8c9f41",
   "metadata": {},
   "source": [
    "### Зададим нашу краевую задачу\n",
    "### $y''-2y'+y=0$ <br/> $\\begin{cases}\n",
    "    y(0)=0,\n",
    "    \\\\\n",
    "    y(1)=e\n",
    "\\end{cases}$"
   ]
  },
  {
   "cell_type": "code",
   "execution_count": 14,
   "id": "3ed9ebf7",
   "metadata": {},
   "outputs": [],
   "source": [
    "def f(x, y, z):\n",
    "    return 2*z - y"
   ]
  },
  {
   "cell_type": "markdown",
   "id": "8f17810d",
   "metadata": {},
   "source": [
    "Для данной краевой задачи функция\n",
    "<b>$y(x)=xe^x$</b> является решением."
   ]
  },
  {
   "cell_type": "code",
   "execution_count": 15,
   "id": "d07ad403",
   "metadata": {},
   "outputs": [],
   "source": [
    "def solution(x):\n",
    "    return x*math.e**x"
   ]
  },
  {
   "cell_type": "markdown",
   "id": "de39f026",
   "metadata": {},
   "source": [
    "Граничные условия имеют вид<br/>\n",
    "$\\begin{cases}\n",
    "    y(0)=0,\n",
    "    \\\\\n",
    "    y(1)=e\n",
    "\\end{cases}$\n",
    "\n",
    "Здесь<br/>\n",
    "$x_0=0, y_0=0,$<br/>$x_f=1, y_f=e$"
   ]
  },
  {
   "cell_type": "code",
   "execution_count": 17,
   "id": "c965ca1a",
   "metadata": {},
   "outputs": [],
   "source": [
    "x_0 = 0\n",
    "y_0 = 0\n",
    "x_f = 1\n",
    "y_f = math.e"
   ]
  },
  {
   "cell_type": "markdown",
   "id": "c019a4f5",
   "metadata": {},
   "source": [
    "Перейдём от краевой задачи к системе двух уравнений\n",
    "\n",
    "$\\begin{cases}\n",
    "       \\begin{cases}\n",
    "           \\frac{dy}{dx}=z,\\\\\n",
    "           y(0)=0\n",
    "       \\end{cases}\\\\\n",
    "   \\begin{cases}\n",
    "       \\frac{dz}{dx}=2z - y,\\\\\n",
    "       z(0)=a\n",
    "   \\end{cases}\n",
    "\\end{cases}$\n",
    "\n",
    "где $a$ - какое-то неизвестное число, которые мы будет варьировать."
   ]
  },
  {
   "cell_type": "markdown",
   "id": "6e25962e",
   "metadata": {},
   "source": [
    " "
   ]
  },
  {
   "cell_type": "markdown",
   "id": "8b188090",
   "metadata": {},
   "source": [
    "Напишем метод Ньютона для нахождения корня уравнения $F(x)=0$"
   ]
  },
  {
   "cell_type": "code",
   "execution_count": 58,
   "id": "e65da546",
   "metadata": {},
   "outputs": [],
   "source": [
    "def Newton_Method(f, df, x0, eps):\n",
    "    \"\"\"\n",
    "    Ищет решение f(x)=0 методом Ньютона\n",
    "    \n",
    "    f - функция от x, для которой ищем решение\n",
    "    df - производная по x от f\n",
    "    x0 - начальная точка\n",
    "    eps - погрешность\n",
    "    \n",
    "    returns:\n",
    "    x, для которого abs(f(x)) < eps\n",
    "    \"\"\"\n",
    "    \n",
    "    while True:\n",
    "        delta = abs(f(x0))\n",
    "        if delta < eps:\n",
    "            return x0\n",
    "        x0 = x0 - f(x0)/df(x0)"
   ]
  },
  {
   "cell_type": "markdown",
   "id": "884922f8",
   "metadata": {},
   "source": [
    "Здесь $f$ — функция, для которой ищем корень, $df$ — её производная, $x_0$ — начальная точка для нахождения корня, $\\epsilon$ — точность."
   ]
  },
  {
   "cell_type": "markdown",
   "id": "4aa5e999",
   "metadata": {},
   "source": [
    " "
   ]
  },
  {
   "cell_type": "markdown",
   "id": "2f480e3d",
   "metadata": {},
   "source": [
    "Напишем функцию \"выстрела\" для нашего метода"
   ]
  },
  {
   "cell_type": "code",
   "execution_count": 59,
   "id": "9079c457",
   "metadata": {},
   "outputs": [],
   "source": [
    "def Shooting(x0, x1, y0, a, n, function=f):\n",
    "    \"\"\"\n",
    "    Рассчитывает один \"выстрел\" по методу стрельбы\n",
    "    \n",
    "    x0, x1 - диапазон x, на котором производится расчет\n",
    "    y0 - y(x0)\n",
    "    a - \"угол выстрела\", т.е. наклон касательной к y, т.е. y'(x0) = z(x0)\n",
    "    n - количество точек, на котороые разбивается отрезок [x0, x1]\n",
    "    function - вторая производная функции y (f в выражении y''= z = f(x, y, z))\n",
    "    \n",
    "    returns:\n",
    "    конечное значение пули после выстрела, т.е. y(x1)\n",
    "    \n",
    "    \"\"\"\n",
    "    h = (x1 - x0) / n\n",
    "    X = x0\n",
    "    Y = y0\n",
    "    Z = a\n",
    "    for i in range(n):\n",
    "        Y = Y + h * Z\n",
    "        Z = Z + h * function(X, Y, Z)  \n",
    "    return Y"
   ]
  },
  {
   "cell_type": "markdown",
   "id": "5967fe28",
   "metadata": {},
   "source": [
    "Здесь $x_0$ — левая граница рассматриваемего отрезка, $x_1$ — правая граница, $y_0$ — значение функции в $x_0$, $a$ — варьируемое значение $y'(x_0)$, $n$ — количество делений отрезка $[x_0, x_1]$, $function$ — функция $f(x, y, z)$."
   ]
  },
  {
   "cell_type": "markdown",
   "id": "2d37bd96",
   "metadata": {},
   "source": [
    " "
   ]
  },
  {
   "cell_type": "markdown",
   "id": "d779faa9",
   "metadata": {},
   "source": [
    "Далее реализуем сам метод стрельбы для нахождения значения $y'(x_0)$. Для этого будем использовать уже написанную функцию \"выстрела\" и функцию $dF$ - функцию для численного нахождения значенния производной в точке."
   ]
  },
  {
   "cell_type": "code",
   "execution_count": 60,
   "id": "13a484d2",
   "metadata": {},
   "outputs": [],
   "source": [
    "def Shooting_Method(x0, y0, x1, y1, function=f, eps=1e-3):\n",
    "    \"\"\"\n",
    "    Поиск решение ОДУ методом стрельбы\n",
    "\n",
    "    (x0, y0) - начальная точка\n",
    "    (x1, y1) - конечная точка    \n",
    "    function(x, y, z) - f, в выражении если y'' = z = f(x, y, z)\n",
    "    eps = 1e-3 - погрешность\n",
    "    \n",
    "    return:\n",
    "    Угол стрельбы, y'(x0)\n",
    "    \"\"\"\n",
    "    \n",
    "    def F(ksi):\n",
    "        return Shooting(x_0, x_f, y_0, ksi, 1000, function) - y_f\n",
    "    \n",
    "    def dF(ksi):\n",
    "        return (F(ksi+eps) - F(ksi)) / eps\n",
    "    \n",
    "    return Newton_Method(F, dF, x_0, eps)"
   ]
  },
  {
   "cell_type": "markdown",
   "id": "521de93c",
   "metadata": {},
   "source": [
    "$x_0$ — левая граница рассматриваемего отрезка, $x_1$ — правая граница, $y_0$ — значение функции в $x_0$, $y_1$ — значение функции в $x_1$, $function$ — функция $f(x, y, y')$, $\\epsilon$ — допустимая погрешность."
   ]
  },
  {
   "cell_type": "markdown",
   "id": "365334a7",
   "metadata": {},
   "source": [
    " "
   ]
  },
  {
   "cell_type": "markdown",
   "id": "c754f01c",
   "metadata": {},
   "source": [
    "Для визуализации полученного решения напишем функцию, которая будет рисовать соответствующие графики полученного и оригинального решения краевой задачи."
   ]
  },
  {
   "cell_type": "code",
   "execution_count": 70,
   "id": "47e6ac3e",
   "metadata": {},
   "outputs": [
    {
     "name": "stdout",
     "output_type": "stream",
     "text": [
      "Полученное значение начального наклона: 1.0021663108506622\n"
     ]
    },
    {
     "data": {
      "image/png": "[encoded data removed]",
      "text/plain": [
       "<Figure size 640x480 with 1 Axes>"
      ]
     },
     "metadata": {},
     "output_type": "display_data"
    }
   ],
   "source": [
    "def Plot_Solutions(x0, x1, y0, y_prime, n, function=f):\n",
    "    h = (x1 - x0) / n \n",
    "    \n",
    "    X = np.linspace(x0, x1, n + 1) \n",
    "    Y = []\n",
    "    Y.append(y0)\n",
    "    Z = []\n",
    "    Z.append(y_prime)\n",
    "    \n",
    "    for i in range(n):\n",
    "        Y.append(Y[i] + h * Z[i])\n",
    "        Z.append(Z[i] + h * function(X[i], Y[i], Z[i]))\n",
    "    \n",
    "    SOL = [solution(i) for i in X]  # Массив точных значений решения краевой задачи \n",
    "    \n",
    "    plt.plot(X, Y, linewidth=4, color=\"lime\", label=\"Shooting Method\")                     # Строим полученное нами решение\n",
    "    plt.plot(X, SOL, linewidth=2, color=\"m\", linestyle=\"-\", label=\"True Solution\")  # Строим оригинальное решение\n",
    "    \n",
    "    plt.grid(True)\n",
    "    plt.legend(loc=\"upper left\", fontsize=12)\n",
    "    plt.xlabel(\"x\")\n",
    "    plt.ylabel(\"y\")\n",
    "    \n",
    "    return\n",
    "    \n",
    "y_prime_0 = Shooting_Method(x_0, y_0, x_f, y_f, f, eps)  # Находим значение угла, при котором наш выстрел будет успешным\n",
    "print(\"Полученное значение начального наклона:\", y_prime_0)\n",
    "Plot_Solutions(x_0, x_f, y_0, y_prime_0, 1000, f)  # Строим графики решений"
   ]
  },
  {
   "cell_type": "markdown",
   "id": "bc121fb6",
   "metadata": {},
   "source": [
    "## Заключение\n",
    "Как видно из графика, метод стрельбы крайне точно находит решение краевой задачи."
   ]
  }
 ],
 "metadata": {
  "kernelspec": {
   "display_name": "jlabtest matplotlib",
   "language": "python",
   "name": "jlabtest"
  },
  "language_info": {
   "codemirror_mode": {
    "name": "ipython",
    "version": 3
   },
   "file_extension": ".py",
   "mimetype": "text/x-python",
   "name": "python",
   "nbconvert_exporter": "python",
   "pygments_lexer": "ipython3",
   "version": "3.7.10"
  }
 },
 "nbformat": 4,
 "nbformat_minor": 5
}
