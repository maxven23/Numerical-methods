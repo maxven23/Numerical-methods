{
 "cells": [
  {
   "cell_type": "markdown",
   "id": "21669795",
   "metadata": {},
   "source": [
    "# Решение краевой задачи методами стрельбы и прогонки\n",
    "\n",
    "## Метод стрельбы \n",
    "\n",
    "## $\\frac{d^2y}{dx^2} + p(x)\\frac{dy}{dx} + q(x)y = F(x)$\n",
    "\n",
    "### $\\begin{cases}\n",
    "    \\frac{d^2y}{dx^2} = f(x, y, \\frac{dy}{dx}) = -p(x)\\frac{dy}{dx} - q(x)y + F(x),\n",
    "    \\\\\n",
    "    A_1y(x_0)+A_2y'(x_0)=C_1,\n",
    "    \\\\\n",
    "    B_1y(x_f)+B_2y'(x_f)=C_2\n",
    "\\end{cases}$"
   ]
  },
  {
   "cell_type": "markdown",
   "id": "42b9d778",
   "metadata": {},
   "source": [
    "### Для реализации метода стрельбы мы переходим от краевой задачи к системе дифференциальных уравнений 1 порядка\n",
    "\n",
    "### $\\begin{cases}\n",
    "       \\begin{cases}\n",
    "           \\frac{dy}{dx}=z,\\\\\n",
    "           y(x_{0})=\\frac{A-A_2a}{A_1}\n",
    "       \\end{cases}\\\\\n",
    "   \\begin{cases}\n",
    "       \\frac{dz}{dx}=-p(x)z - q(x)y + F(x),\\\\\n",
    "       z(x_{0})=y'(x_{0})=a\n",
    "   \\end{cases}\n",
    "\\end{cases}$"
   ]
  },
  {
   "cell_type": "markdown",
   "id": "38f0d2ef",
   "metadata": {},
   "source": [
    "Зададим сразу параметры среды, в том числе точность вычислений $\\epsilon$, и некоторые настройки $matplotlib$"
   ]
  },
  {
   "cell_type": "code",
   "execution_count": 24,
   "id": "e3fdee0c",
   "metadata": {},
   "outputs": [],
   "source": [
    "import matplotlib.pyplot as plt\n",
    "import numpy as np\n",
    "import math\n",
    "import sympy\n",
    "\n",
    "#-------------------------------------------------------\n",
    "\n",
    "plt.style.use('classic')\n",
    "plt.style.use('dark_background')\n",
    "\n",
    "#-------------------------------------------------------\n",
    "\n",
    "eps = 1e-3"
   ]
  },
  {
   "cell_type": "markdown",
   "id": "9c03680e",
   "metadata": {},
   "source": [
    "### Зададим нашу краевую задачу\n",
    "### $y''+\\frac{1}{(1 + x)}y'+\\frac{2}{ch^2(x)}y=\\frac{1}{ch^2(x)}\\left( \\frac{1}{1+x}+2ln(1+x) \\right)$ <br/> $\\begin{cases}\n",
    "    y(0)=0,\n",
    "    \\\\\n",
    "    y(1)-y'(1)=0.5348\n",
    "\\end{cases}$\n",
    "\n",
    "Здесь $p(x)=\\frac{1}{1+x}$, $q(x)=\\frac{2}{ch^2(x)}$, $F(x)=\\frac{1}{ch^2(x)}\\left( \\frac{1}{1+x}+2ln(1+x) \\right):$"
   ]
  },
  {
   "cell_type": "code",
   "execution_count": 25,
   "id": "900e0201",
   "metadata": {},
   "outputs": [],
   "source": [
    "def p(x):\n",
    "    return (1 / (1 + x))\n",
    "\n",
    "def q(x):\n",
    "    return (2 / (np.cosh(x))**2)\n",
    "\n",
    "def F(x):\n",
    "    return (1 / (np.cosh(x))**2) * (1 / (1 + x) + 2 * np.log(1 + x))\n",
    "\n",
    "def f(x, y, z):\n",
    "    return (-1) * p(x) * z - q(x) * y + F(x)"
   ]
  },
  {
   "cell_type": "markdown",
   "id": "aa186292",
   "metadata": {},
   "source": [
    "Для данной краевой задачи функция\n",
    "<b>$y(x) = ln(1+x) + th(x)$</b> является решением."
   ]
  },
  {
   "cell_type": "code",
   "execution_count": 26,
   "id": "10056d55",
   "metadata": {},
   "outputs": [],
   "source": [
    "def solution(x):\n",
    "    return (np.log(1 + x) + np.tanh(x))"
   ]
  },
  {
   "cell_type": "markdown",
   "id": "3a506c16",
   "metadata": {},
   "source": [
    "Граничные условия имеют вид<br/>\n",
    "$\\begin{cases}\n",
    "    y(0)=1,\n",
    "    \\\\\n",
    "    y(1)-2y'(1)=0.1704\n",
    "\\end{cases}$\n",
    "\n",
    "Здесь<br/>\n",
    "$x_0=0,$<br/>$x_f=1$"
   ]
  },
  {
   "cell_type": "code",
   "execution_count": 27,
   "id": "a651a0be",
   "metadata": {},
   "outputs": [],
   "source": [
    "x_0 = 0\n",
    "x_f = 1\n",
    "\n",
    "x0 = 0\n",
    "xf = 1\n",
    "\n",
    "A_1 = 1\n",
    "A_2 = 0\n",
    "A = 0\n",
    "\n",
    "B_1 = 1\n",
    "B_2 = -1\n",
    "#B = 0.5348\n",
    "B = 0.5347669949016841281421936650212687135710820033874208510041790693"
   ]
  },
  {
   "cell_type": "markdown",
   "id": "7d21c599",
   "metadata": {},
   "source": [
    "Перейдём от краевой задачи к системе двух уравнений\n",
    "\n",
    "$\\begin{cases}\n",
    "       \\begin{cases}\n",
    "           \\frac{dy}{dx}=z,\\\\\n",
    "           y(0)=0\n",
    "       \\end{cases}\\\\\n",
    "   \\begin{cases}\n",
    "       \\frac{dz}{dx}=\\frac{1}{ch^2(x)}\\left( \\frac{1}{1+x}+2ln(1+x) \\right)-\\frac{1}{1+x}z-\\frac{2}{ch^2(x)}y,\\\\\n",
    "       z(0)=y'(0)=a\n",
    "   \\end{cases}\n",
    "\\end{cases}$\n",
    "\n",
    "где $a$ - какое-то неизвестное число, которые мы будет варьировать."
   ]
  },
  {
   "cell_type": "markdown",
   "id": "503014ab",
   "metadata": {},
   "source": [
    " "
   ]
  },
  {
   "cell_type": "markdown",
   "id": "5afdf428",
   "metadata": {},
   "source": [
    "Напишем метод Ньютона/дихотомии для нахождения корня уравнения $f(x)=0$"
   ]
  },
  {
   "cell_type": "code",
   "execution_count": 28,
   "id": "227f5e87",
   "metadata": {},
   "outputs": [],
   "source": [
    "def Newton_Method(F, dF, x0, eps = 1e-3):\n",
    "    \"\"\"\n",
    "    Ищет решение f(x)=0 методом Ньютона\n",
    "    \n",
    "    F - функция от x, для которой ищем решение\n",
    "    dF - производная по x от F\n",
    "    x0 - начальная точка\n",
    "    eps - погрешность\n",
    "    \n",
    "    returns:\n",
    "    x, для которого abs(f(x)) < eps\n",
    "    \"\"\"\n",
    "    \n",
    "    while True:\n",
    "        delta = abs(F(x0))\n",
    "        print(delta)\n",
    "        print(eps)\n",
    "        if delta < eps:\n",
    "            return x0\n",
    "        x0 = x0 - F(x0)/dF(x0)\n",
    "        \n",
    "def Dichotomy(Func, a, b, eps=1e-6):\n",
    "    \"\"\"\n",
    "    Ищет решение f(x)=0 методом Ньютона\n",
    "    \n",
    "    F - функция от x, для которой ищем решение\n",
    "    a - левая граница отрезка\n",
    "    b - правая граница отрезка\n",
    "    eps - погрешность\n",
    "    \n",
    "    returns:\n",
    "    x, для которого abs(f(x)) < eps\n",
    "    \"\"\"\n",
    "    \n",
    "    if Func(a) == 0:\n",
    "        return a\n",
    "    elif Func(b) == 0:\n",
    "        return b\n",
    "    else:\n",
    "        x = (a + b) / 2\n",
    "        while abs(Func(x)) > eps:\n",
    "            #print(abs(Func(x)))\n",
    "            x = (a + b) / 2\n",
    "            if Func(x)*Func(b) <= 0:\n",
    "                a = x\n",
    "            else:\n",
    "                b = x\n",
    "        return x"
   ]
  },
  {
   "cell_type": "markdown",
   "id": "1b937f37",
   "metadata": {},
   "source": [
    "Здесь $f$ — функция, для которой ищем корень, $df$ — её производная, $x_0$ — начальная точка для нахождения корня, $\\epsilon$ — точность."
   ]
  },
  {
   "cell_type": "markdown",
   "id": "1d464c90",
   "metadata": {},
   "source": [
    " "
   ]
  },
  {
   "cell_type": "markdown",
   "id": "2c49b953",
   "metadata": {},
   "source": [
    "Напишем функцию \"выстрела\" для нашего метода"
   ]
  },
  {
   "cell_type": "code",
   "execution_count": 29,
   "id": "8eca4c65",
   "metadata": {},
   "outputs": [],
   "source": [
    "def Shooting(x0, x1, A1, A2, A, a, n, function=f):\n",
    "    h = (x1 - x0) / n\n",
    "    X = x0\n",
    "    Y = (A - A2 * a) / A1\n",
    "    Z = a\n",
    "    #for i in range(n):\n",
    "    #    X, Y, Z = X + h, Y + h * Z, Z + h * function(X, Y, Z)\n",
    "    #    Y = Y + h * Z\n",
    "    #    Z = Z + h * function(X, Y, Z)  \n",
    "    for i in range(n):\n",
    "        q1 = function(X, Y, Z)\n",
    "        k1 = Z\n",
    "        \n",
    "        q2 = function(X + h/2, Y + h * k1 / 2, Z + h * q1 / 2)\n",
    "        k2 = Z + q1 * h / 2\n",
    "        \n",
    "        q3 = function(X + h/2, Y + h * k2 / 2, Z + h * q2 / 2)\n",
    "        k3 = Z + q2 * h / 2\n",
    "        \n",
    "        q4 = function(X + h, Y + h * k3, Z + h * q3)\n",
    "        k4 = Z + q3 * h\n",
    "        \n",
    "        Z += h * (q1 + 2*q2 + 2*q3 + q4) / 6\n",
    "        Y += h * (k1 + 2*k2 + 2*k3 + k4) / 6\n",
    "        X += h\n",
    "    return Y, Z"
   ]
  },
  {
   "cell_type": "markdown",
   "id": "4d9d7ee7",
   "metadata": {},
   "source": [
    "Здесь $x_0$ — левая граница рассматриваемего отрезка, $x_1$ — правая граница, $y_0$ — значение функции в $x_0$, $a$ — варьируемое значение $y'(x_0)$, $n$ — количество делений отрезка $[x_0, x_1]$, $function$ — функция $f(x, y, z)$."
   ]
  },
  {
   "cell_type": "markdown",
   "id": "a7865be6",
   "metadata": {},
   "source": [
    " "
   ]
  },
  {
   "cell_type": "markdown",
   "id": "a9c83946",
   "metadata": {},
   "source": [
    "Далее реализуем сам метод стрельбы для нахождения значения $y'(x_0)$. Для этого будем использовать уже написанную функцию \"выстрела\" и функцию $dF$ - функцию для численного нахождения значенния производной в точке."
   ]
  },
  {
   "cell_type": "code",
   "execution_count": 30,
   "id": "a7ccbdfa",
   "metadata": {},
   "outputs": [],
   "source": [
    "def Shooting_Method(x0, x1, A1, A2, A, B1, B2, B, n, function=f, eps=1e-12):\n",
    "    \"\"\"\n",
    "    Поиск решение ОДУ методом стрельбы\n",
    "\n",
    "    (x0, y0) - начальная точка\n",
    "    (x1, y1) - конечная точка    \n",
    "    function(x, y, z) - f, в выражении если y'' = z = f(x, y, z)\n",
    "    eps = 1e-6 - погрешность\n",
    "    \n",
    "    return:\n",
    "    Угол стрельбы, y'(x0)\n",
    "    \"\"\"\n",
    "    def Func(ksi):\n",
    "        Y, Z = Shooting(x_0, x1, A1, A2, A, ksi, n, function)\n",
    "        #print(\"y(1):\\t\\t\", Y)\n",
    "        #print(\"y'(1):\\t\\t\", Z)\n",
    "        #print(\"y(1)-y'(1):\\t\", Y - Z)\n",
    "        #print()\n",
    "        return B1 * Y + B2 * Z - B\n",
    "    \n",
    "    h1 = 1e-3\n",
    "    \n",
    "    a1 = 1\n",
    "    a2 = a1 + h1\n",
    "    \n",
    "    y1, z1 = Shooting(x_0, x1, A1, A2, A, a1, n, function)\n",
    "    y2, z2 = Shooting(x_0, x1, A1, A2, A, a2, n, function)\n",
    "    \n",
    "    while (Func(a1) * Func(a2)) > 0:\n",
    "        a1, a2 = a2, a2 + h1\n",
    "        y1, z1 = Shooting(x_0, x1, A1, A2, A, a1, n, function)\n",
    "        y2, z2 = Shooting(x_0, x1, A1, A2, A, a2, n, function)\n",
    "    \n",
    "    def dF(ksi):\n",
    "        return (Func(ksi+eps) - Func(ksi-eps)) / (2*eps)\n",
    "    \n",
    "    return Dichotomy(Func, a1, a2)"
   ]
  },
  {
   "cell_type": "markdown",
   "id": "26f2918a",
   "metadata": {},
   "source": [
    "$x_0$ — левая граница рассматриваемего отрезка, $x_1$ — правая граница, $y_0$ — значение функции в $x_0$, $y_1$ — значение функции в $x_1$, $function$ — функция $f(x, y, y')$, $\\epsilon$ — допустимая погрешность."
   ]
  },
  {
   "cell_type": "markdown",
   "id": "84488786",
   "metadata": {},
   "source": [
    " "
   ]
  },
  {
   "cell_type": "markdown",
   "id": "6c1e55aa",
   "metadata": {},
   "source": [
    "Для визуализации полученного решения напишем функцию, которая будет рисовать соответствующие графики полученного и оригинального решения краевой задачи."
   ]
  },
  {
   "cell_type": "code",
   "execution_count": 31,
   "id": "adbd346c",
   "metadata": {},
   "outputs": [],
   "source": [
    "def Solve_Eq(x0, x1, y0, y_prime0, n, function=f):\n",
    "    h = (x1 - x0) / (n)\n",
    "    \n",
    "    X = np.linspace(x0, x1, n + 1)\n",
    "    sx = x0\n",
    "    Y = []\n",
    "    sy = y0\n",
    "    Y.append(y0)\n",
    "    Z = []\n",
    "    sz = y_prime0\n",
    "    Z.append(y_prime0)\n",
    "    \n",
    "    for i in range(n):\n",
    "        q1 = function(sx, sy, sz)\n",
    "        k1 = sz\n",
    "        \n",
    "        q2 = function(sx + h/2, sy + h * k1 / 2, sz + h * q1 / 2)\n",
    "        k2 = sz + q1 * h / 2\n",
    "        \n",
    "        q3 = function(sx + h/2, sy + h * k2 / 2, sz + h * q2 / 2)\n",
    "        k3 = sz + q2 * h / 2\n",
    "        \n",
    "        q4 = function(sx + h, sy + h * k3, sz + h * q3)\n",
    "        k4 = sz + q3 * h\n",
    "        \n",
    "        sz += h * (q1 + 2*q2 + 2*q3 + q4) / 6\n",
    "        sy += h * (k1 + 2*k2 + 2*k3 + k4) / 6\n",
    "        sx += h\n",
    "        \n",
    "        Y.append(sy)\n",
    "        Z.append(sz)\n",
    "        \n",
    "    return Y"
   ]
  },
  {
   "cell_type": "code",
   "execution_count": 33,
   "id": "170c653c",
   "metadata": {},
   "outputs": [
    {
     "name": "stdout",
     "output_type": "stream",
     "text": [
      "Полученное значение начального наклона: 1.99999804687489\n",
      "\n",
      "y(1): \t\t1.4547413365157102\n",
      "y'(1): \t\t0.9199743416140261\n",
      "y(1)-y'(1): \t0.5347669949016841\n"
     ]
    },
    {
     "data": {
      "image/png": "[encoded data removed]",
      "text/plain": [
       "<Figure size 640x480 with 1 Axes>"
      ]
     },
     "metadata": {},
     "output_type": "display_data"
    }
   ],
   "source": [
    "def Plot_Solutions(x0, x1, y0, y_prime, n, function=f):\n",
    "    \n",
    "    X = np.linspace(x0, x1, n + 1)\n",
    "    Y = Solve_Eq(x0, x1, y0, y_prime, n, function)\n",
    "        \n",
    "#     for i in range(n): \n",
    "#        #sx = sx + h\n",
    "#        sx, sy, sz = sx + h, sy + h * sz, sz + h * function(sx, sy, sz)\n",
    "#        #sy = sy + h * sz\n",
    "#        Y.append(sy)\n",
    "#        #sz = sz + h * function(sx, sy, sz)\n",
    "#        Z.append(sz)\n",
    "    \n",
    "    SOL = [solution(i) for i in np.linspace(x0, x1, 1000)]  # Массив точных значений решения краевой задачи \n",
    "    \n",
    "    plt.plot(np.linspace(x0, x1, 1000), SOL, linewidth=3, color=\"white\", linestyle=\"-\", label=\"True Solution\")  # Строим оригинальное решение\n",
    "    plt.plot(X, Y, linewidth=2, color=\"blue\", linestyle=\"--\", label=\"Shooting Method\")                     # Строим полученное нами решение\n",
    "    \n",
    "    \n",
    "    plt.grid(True)\n",
    "    plt.legend(loc=\"upper left\", fontsize=12)\n",
    "    plt.xlabel(\"x\")\n",
    "    plt.ylabel(\"y\")\n",
    "    \n",
    "    return\n",
    "    \n",
    "n = 20\n",
    "y_prime_0 = Shooting_Method(x_0, x_f, A_1, A_2, A, B_1, B_2, B, n, f)  # Находим значение угла, при котором наш выстрел будет успешным\n",
    "print(\"Полученное значение начального наклона:\", y_prime_0)\n",
    "\n",
    "print(\"\\ny(1): \\t\\t1.4547413365157102\")\n",
    "print(\"y'(1): \\t\\t0.9199743416140261\")\n",
    "print(\"y(1)-y'(1): \\t0.5347669949016841\")\n",
    "\n",
    "y_0 = (A - A_2 * y_prime_0) / A_1\n",
    "\n",
    "Plot_Solutions(x_0, x_f, y_0, y_prime_0, n, f)  # Строим графики решений"
   ]
  },
  {
   "cell_type": "code",
   "execution_count": 12,
   "id": "45e8ff67",
   "metadata": {},
   "outputs": [],
   "source": [
    "# def max_error_SM(trueY, calcY):\n",
    "#     errY = [abs(trueY[i] - calcY[i]) for i in range(len(calcY))]\n",
    "#     return max(errY)\n",
    "\n",
    "# def log_graph_SM(x0, xf, y0, yprime0, function=f):\n",
    "#     errY = []\n",
    "#     hY = []\n",
    "#     for n in range(10, 1000, 10):\n",
    "#         X = np.linspace(x0, xf, n+1)\n",
    "#         SOL = [solution(i) for i in X]\n",
    "#         Y = Solve_Eq(x0, xf, y0, yprime0, n, function)\n",
    "#         hY.append(np.log((xf - x0) / n))\n",
    "#         errY.append(np.log(max_error_SM(SOL, Y)))\n",
    "#     return errY, hY\n",
    "        \n",
    "# errY, hY = log_graph_SM(x_0, x_f, y_0, y_prime_0)\n",
    "# plt.plot(hY, errY)\n",
    "# plt.grid(True)"
   ]
  },
  {
   "cell_type": "markdown",
   "id": "f9cee704",
   "metadata": {},
   "source": [
    " "
   ]
  },
  {
   "cell_type": "markdown",
   "id": "0e8d44f4",
   "metadata": {},
   "source": [
    " "
   ]
  },
  {
   "cell_type": "markdown",
   "id": "81181740",
   "metadata": {},
   "source": [
    "## Метод прогонки (алгоритм трёхдиагональной матрицы)\n",
    "\n",
    "### $ \\begin{cases}\n",
    "    y''+p(x)y'+q(x)y=f(x)\\\\\n",
    "    A_1y(a)+B_1y'(a)=C_1\\\\\n",
    "    A_2y(b)+B_2y'(b)=C_2\n",
    "    \\end{cases} $\n",
    "\n",
    "### Наша задача имеет следующий вид:\n",
    "\n",
    "### $ \\begin{cases}\n",
    "y''+\\frac{1}{1+x}y'+\\frac{2}{ch^2(x)}y=\\frac{1}{ch^2(x)}\\left( \\frac{1}{1+x}+2ln(1+x) \\right)\\\\\n",
    "y(0)=0\\\\\n",
    "y(1)-y'(1)=0.5348\n",
    "\\end{cases} $\n",
    "\n",
    "#### Решением этой задачи является функция \n",
    "\n",
    "$ y(x) = ln(1+x)+th(x)$"
   ]
  },
  {
   "cell_type": "markdown",
   "id": "693ca5e7",
   "metadata": {},
   "source": [
    "Зададим сразу все имеющиеся у нас параметры и функции:"
   ]
  },
  {
   "cell_type": "code",
   "execution_count": 36,
   "id": "f096affa",
   "metadata": {},
   "outputs": [],
   "source": [
    "def p(x):\n",
    "    return (1 / (1 + x))\n",
    "\n",
    "def q(x):\n",
    "    return (2 / (np.cosh(x))**2)\n",
    "\n",
    "def f(x):\n",
    "    return (1 / (np.cosh(x))**2) * (1 / (1 + x) + 2 * np.log(1 + x))\n",
    "\n",
    "def solution(x):\n",
    "    return (np.log(1 + x) + np.tanh(x))\n",
    "\n",
    "A1 = 1\n",
    "B1 = 0\n",
    "C1 = 0\n",
    "\n",
    "A2 = 1\n",
    "B2 = -1\n",
    "#C2 = 0.5348\n",
    "C2 = 0.534766994901684    # Более точное значение нужно для более точного построения графиков ошибки\n",
    "\n",
    "x0 = 0\n",
    "xf = 1"
   ]
  },
  {
   "cell_type": "markdown",
   "id": "0db5414e",
   "metadata": {},
   "source": [
    "### Для реализации метода прогнки будем пользоваться разностной апроксимацией производных\n",
    "\n",
    "Первую производную функции $y(x)$ в точке $x_i$ можно записать через значения функции в $i-1$ и $i+1$ точках:\n",
    "\n",
    "$y'(x_i)=\\frac{y_{i+1}-y_{i-1}}{2h}$\n",
    "\n",
    "Вторую производную, соответственно:\n",
    "\n",
    "$y''(x_i)=\\frac{y_{i+1}-2y_i+y_{i-1}}{h^2}$\n",
    "\n",
    "В таком случае, используя равномерную сетку $h = \\frac{x_f - x_0}{n}$, $y(x_i)=y_i$, $p(x_i)=p_i, q(x_i)=q_i, f(x_i)=f_i$, получим:\n",
    "\n",
    "$ \\begin{cases}\n",
    "A_1y_0+B_1\\frac{y_1-y_0}{h}=C_1 \\\\\n",
    "\\frac{y_{k+1}-2y_k+y_{k-1}}{h^2}+p_k\\frac{y_{k+1}-y_{k-1}}{2h}+q_ky_k=f_k \\\\\n",
    "A_2y_n+B_2\\frac{y_{n-1}-y_n}{h}=C_2\n",
    "\\end{cases}$"
   ]
  },
  {
   "cell_type": "markdown",
   "id": "0260eaed",
   "metadata": {},
   "source": [
    "$A_1y_0+B_1\\frac{y_1-y_{-1}}{2h}=C_1$\n",
    "\n",
    "$\\frac{y_1-2y_0+y_{-1}}{h^2}+p_0\\frac{y_1-y_{-1}}{2h}+q_0y_0=f_0$"
   ]
  },
  {
   "cell_type": "markdown",
   "id": "f09d2d7e",
   "metadata": {},
   "source": [
    "Из первого:\n",
    "\n",
    "$\\frac{y_1-y_{-1}}{2h}=\\frac{C_1 - A_1y_1}{B_1}$\n",
    "\n",
    "$y_{-1}=y_1 - 2h\\frac{C_1 - A_1y_0}{B_1}$\n",
    "\n",
    "Подставим во второе:\n",
    "\n",
    "$2y_1-2y_0-\\frac{hA_1}{B_1}y_0-\\frac{h^2A_1}{B_1}y_0+h^2q_0y_0=f_0h^2-p_0\\frac{h^2C_1}{B_1}+2\\frac{hC_1}{B_1}$"
   ]
  },
  {
   "cell_type": "markdown",
   "id": "970cb7e6",
   "metadata": {},
   "source": [
    "Переобозначаем коэффициенты:\n",
    "\n",
    "$\\begin{cases}\n",
    "b_0y_0+c_0y_1=d_0 \\\\\n",
    "a_ky_{k-1}+b_ky_k+c_ky_{k+1}=d_k \\\\\n",
    "a_ny_{n-1}+b_ny_n=d_n\n",
    "\\end{cases}$\n",
    "\n",
    "$\\begin{cases}\n",
    "a_0=0\\\\\n",
    "b_0=-hB_1+h^2A_1\\\\\n",
    "c_0=hB_1\\\\\n",
    "d_0=C_1\\\\\n",
    "a_k=1-\\frac{hp_k}{2}\\\\\n",
    "b_k=-2+h^2q_k\\\\\n",
    "c_k=1+\\frac{hp_k}{2}\\\\\n",
    "d_k=f_k\\\\\n",
    "a_n=hB_2\\\\\n",
    "b_n=-hB_2+h^2A_2\\\\\n",
    "c_n=0\\\\\n",
    "d_n=C_2\n",
    "\\end{cases}$"
   ]
  },
  {
   "cell_type": "markdown",
   "id": "1bc8e804",
   "metadata": {},
   "source": [
    "Составим матрицу из полученных равенств:\n",
    "\n",
    "$\\begin{pmatrix}\n",
    "b_0 & c_0 & & & \\\\\n",
    "a_1 & b_1 & c_1 & & \\\\\n",
    "& a_2 & \\ddots & \\ddots & \\\\\n",
    "& & \\ddots & \\ddots & c_{n_1} \\\\\n",
    "& & & a_n & b_n \\\\\n",
    "\\end{pmatrix}$\n",
    "$\\begin{pmatrix}\n",
    "y_0 \\\\\n",
    "y_1 \\\\\n",
    "y_2 \\\\\n",
    "\\dots \\\\\n",
    "y_n\n",
    "\\end{pmatrix}$\n",
    "$=$\n",
    "$\\begin{pmatrix}\n",
    "d_0 \\\\\n",
    "d_1 \\\\\n",
    "d_2 \\\\\n",
    "\\dots \\\\\n",
    "d_n\n",
    "\\end{pmatrix}$"
   ]
  },
  {
   "cell_type": "code",
   "execution_count": 37,
   "id": "5a9be3b1",
   "metadata": {},
   "outputs": [
    {
     "name": "stdout",
     "output_type": "stream",
     "text": [
      "\u001b[34m 1.000\u001b[34m 0.000\u001b[30m 0.000\u001b[30m 0.000\u001b[30m 0.000\u001b[30m 0.000\u001b[30m 0.000\u001b[30m 0.000\u001b[30m 0.000\u001b[30m 0.000\u001b[30m 0.000\u001b[30m 0.000\u001b[30m 0.000\u001b[30m 0.000\u001b[30m 0.000\u001b[30m 0.000\u001b[30m 0.000\u001b[30m 0.000\u001b[30m 0.000\u001b[30m 0.000\u001b[30m 0.000\n",
      "\u001b[34m 0.976\u001b[34m-1.995\u001b[34m 1.024\u001b[30m 0.000\u001b[30m 0.000\u001b[30m 0.000\u001b[30m 0.000\u001b[30m 0.000\u001b[30m 0.000\u001b[30m 0.000\u001b[30m 0.000\u001b[30m 0.000\u001b[30m 0.000\u001b[30m 0.000\u001b[30m 0.000\u001b[30m 0.000\u001b[30m 0.000\u001b[30m 0.000\u001b[30m 0.000\u001b[30m 0.000\u001b[30m 0.000\n",
      "\u001b[30m 0.000\u001b[34m 0.977\u001b[34m-1.995\u001b[34m 1.023\u001b[30m 0.000\u001b[30m 0.000\u001b[30m 0.000\u001b[30m 0.000\u001b[30m 0.000\u001b[30m 0.000\u001b[30m 0.000\u001b[30m 0.000\u001b[30m 0.000\u001b[30m 0.000\u001b[30m 0.000\u001b[30m 0.000\u001b[30m 0.000\u001b[30m 0.000\u001b[30m 0.000\u001b[30m 0.000\u001b[30m 0.000\n",
      "\u001b[30m 0.000\u001b[30m 0.000\u001b[34m 0.978\u001b[34m-1.995\u001b[34m 1.022\u001b[30m 0.000\u001b[30m 0.000\u001b[30m 0.000\u001b[30m 0.000\u001b[30m 0.000\u001b[30m 0.000\u001b[30m 0.000\u001b[30m 0.000\u001b[30m 0.000\u001b[30m 0.000\u001b[30m 0.000\u001b[30m 0.000\u001b[30m 0.000\u001b[30m 0.000\u001b[30m 0.000\u001b[30m 0.000\n",
      "\u001b[30m 0.000\u001b[30m 0.000\u001b[30m 0.000\u001b[34m 0.979\u001b[34m-1.995\u001b[34m 1.021\u001b[30m 0.000\u001b[30m 0.000\u001b[30m 0.000\u001b[30m 0.000\u001b[30m 0.000\u001b[30m 0.000\u001b[30m 0.000\u001b[30m 0.000\u001b[30m 0.000\u001b[30m 0.000\u001b[30m 0.000\u001b[30m 0.000\u001b[30m 0.000\u001b[30m 0.000\u001b[30m 0.000\n",
      "\u001b[30m 0.000\u001b[30m 0.000\u001b[30m 0.000\u001b[30m 0.000\u001b[34m 0.980\u001b[34m-1.995\u001b[34m 1.020\u001b[30m 0.000\u001b[30m 0.000\u001b[30m 0.000\u001b[30m 0.000\u001b[30m 0.000\u001b[30m 0.000\u001b[30m 0.000\u001b[30m 0.000\u001b[30m 0.000\u001b[30m 0.000\u001b[30m 0.000\u001b[30m 0.000\u001b[30m 0.000\u001b[30m 0.000\n",
      "\u001b[30m 0.000\u001b[30m 0.000\u001b[30m 0.000\u001b[30m 0.000\u001b[30m 0.000\u001b[34m 0.981\u001b[34m-1.995\u001b[34m 1.019\u001b[30m 0.000\u001b[30m 0.000\u001b[30m 0.000\u001b[30m 0.000\u001b[30m 0.000\u001b[30m 0.000\u001b[30m 0.000\u001b[30m 0.000\u001b[30m 0.000\u001b[30m 0.000\u001b[30m 0.000\u001b[30m 0.000\u001b[30m 0.000\n",
      "\u001b[30m 0.000\u001b[30m 0.000\u001b[30m 0.000\u001b[30m 0.000\u001b[30m 0.000\u001b[30m 0.000\u001b[34m 0.981\u001b[34m-1.996\u001b[34m 1.019\u001b[30m 0.000\u001b[30m 0.000\u001b[30m 0.000\u001b[30m 0.000\u001b[30m 0.000\u001b[30m 0.000\u001b[30m 0.000\u001b[30m 0.000\u001b[30m 0.000\u001b[30m 0.000\u001b[30m 0.000\u001b[30m 0.000\n",
      "\u001b[30m 0.000\u001b[30m 0.000\u001b[30m 0.000\u001b[30m 0.000\u001b[30m 0.000\u001b[30m 0.000\u001b[30m 0.000\u001b[34m 0.982\u001b[34m-1.996\u001b[34m 1.018\u001b[30m 0.000\u001b[30m 0.000\u001b[30m 0.000\u001b[30m 0.000\u001b[30m 0.000\u001b[30m 0.000\u001b[30m 0.000\u001b[30m 0.000\u001b[30m 0.000\u001b[30m 0.000\u001b[30m 0.000\n",
      "\u001b[30m 0.000\u001b[30m 0.000\u001b[30m 0.000\u001b[30m 0.000\u001b[30m 0.000\u001b[30m 0.000\u001b[30m 0.000\u001b[30m 0.000\u001b[34m 0.983\u001b[34m-1.996\u001b[34m 1.017\u001b[30m 0.000\u001b[30m 0.000\u001b[30m 0.000\u001b[30m 0.000\u001b[30m 0.000\u001b[30m 0.000\u001b[30m 0.000\u001b[30m 0.000\u001b[30m 0.000\u001b[30m 0.000\n",
      "\u001b[30m 0.000\u001b[30m 0.000\u001b[30m 0.000\u001b[30m 0.000\u001b[30m 0.000\u001b[30m 0.000\u001b[30m 0.000\u001b[30m 0.000\u001b[30m 0.000\u001b[34m 0.983\u001b[34m-1.996\u001b[34m 1.017\u001b[30m 0.000\u001b[30m 0.000\u001b[30m 0.000\u001b[30m 0.000\u001b[30m 0.000\u001b[30m 0.000\u001b[30m 0.000\u001b[30m 0.000\u001b[30m 0.000\n",
      "\u001b[30m 0.000\u001b[30m 0.000\u001b[30m 0.000\u001b[30m 0.000\u001b[30m 0.000\u001b[30m 0.000\u001b[30m 0.000\u001b[30m 0.000\u001b[30m 0.000\u001b[30m 0.000\u001b[34m 0.984\u001b[34m-1.996\u001b[34m 1.016\u001b[30m 0.000\u001b[30m 0.000\u001b[30m 0.000\u001b[30m 0.000\u001b[30m 0.000\u001b[30m 0.000\u001b[30m 0.000\u001b[30m 0.000\n",
      "\u001b[30m 0.000\u001b[30m 0.000\u001b[30m 0.000\u001b[30m 0.000\u001b[30m 0.000\u001b[30m 0.000\u001b[30m 0.000\u001b[30m 0.000\u001b[30m 0.000\u001b[30m 0.000\u001b[30m 0.000\u001b[34m 0.984\u001b[34m-1.996\u001b[34m 1.016\u001b[30m 0.000\u001b[30m 0.000\u001b[30m 0.000\u001b[30m 0.000\u001b[30m 0.000\u001b[30m 0.000\u001b[30m 0.000\n",
      "\u001b[30m 0.000\u001b[30m 0.000\u001b[30m 0.000\u001b[30m 0.000\u001b[30m 0.000\u001b[30m 0.000\u001b[30m 0.000\u001b[30m 0.000\u001b[30m 0.000\u001b[30m 0.000\u001b[30m 0.000\u001b[30m 0.000\u001b[34m 0.985\u001b[34m-1.997\u001b[34m 1.015\u001b[30m 0.000\u001b[30m 0.000\u001b[30m 0.000\u001b[30m 0.000\u001b[30m 0.000\u001b[30m 0.000\n",
      "\u001b[30m 0.000\u001b[30m 0.000\u001b[30m 0.000\u001b[30m 0.000\u001b[30m 0.000\u001b[30m 0.000\u001b[30m 0.000\u001b[30m 0.000\u001b[30m 0.000\u001b[30m 0.000\u001b[30m 0.000\u001b[30m 0.000\u001b[30m 0.000\u001b[34m 0.985\u001b[34m-1.997\u001b[34m 1.015\u001b[30m 0.000\u001b[30m 0.000\u001b[30m 0.000\u001b[30m 0.000\u001b[30m 0.000\n",
      "\u001b[30m 0.000\u001b[30m 0.000\u001b[30m 0.000\u001b[30m 0.000\u001b[30m 0.000\u001b[30m 0.000\u001b[30m 0.000\u001b[30m 0.000\u001b[30m 0.000\u001b[30m 0.000\u001b[30m 0.000\u001b[30m 0.000\u001b[30m 0.000\u001b[30m 0.000\u001b[34m 0.986\u001b[34m-1.997\u001b[34m 1.014\u001b[30m 0.000\u001b[30m 0.000\u001b[30m 0.000\u001b[30m 0.000\n",
      "\u001b[30m 0.000\u001b[30m 0.000\u001b[30m 0.000\u001b[30m 0.000\u001b[30m 0.000\u001b[30m 0.000\u001b[30m 0.000\u001b[30m 0.000\u001b[30m 0.000\u001b[30m 0.000\u001b[30m 0.000\u001b[30m 0.000\u001b[30m 0.000\u001b[30m 0.000\u001b[30m 0.000\u001b[34m 0.986\u001b[34m-1.997\u001b[34m 1.014\u001b[30m 0.000\u001b[30m 0.000\u001b[30m 0.000\n",
      "\u001b[30m 0.000\u001b[30m 0.000\u001b[30m 0.000\u001b[30m 0.000\u001b[30m 0.000\u001b[30m 0.000\u001b[30m 0.000\u001b[30m 0.000\u001b[30m 0.000\u001b[30m 0.000\u001b[30m 0.000\u001b[30m 0.000\u001b[30m 0.000\u001b[30m 0.000\u001b[30m 0.000\u001b[30m 0.000\u001b[34m 0.986\u001b[34m-1.997\u001b[34m 1.014\u001b[30m 0.000\u001b[30m 0.000\n",
      "\u001b[30m 0.000\u001b[30m 0.000\u001b[30m 0.000\u001b[30m 0.000\u001b[30m 0.000\u001b[30m 0.000\u001b[30m 0.000\u001b[30m 0.000\u001b[30m 0.000\u001b[30m 0.000\u001b[30m 0.000\u001b[30m 0.000\u001b[30m 0.000\u001b[30m 0.000\u001b[30m 0.000\u001b[30m 0.000\u001b[30m 0.000\u001b[34m 0.987\u001b[34m-1.998\u001b[34m 1.013\u001b[30m 0.000\n",
      "\u001b[30m 0.000\u001b[30m 0.000\u001b[30m 0.000\u001b[30m 0.000\u001b[30m 0.000\u001b[30m 0.000\u001b[30m 0.000\u001b[30m 0.000\u001b[30m 0.000\u001b[30m 0.000\u001b[30m 0.000\u001b[30m 0.000\u001b[30m 0.000\u001b[30m 0.000\u001b[30m 0.000\u001b[30m 0.000\u001b[30m 0.000\u001b[30m 0.000\u001b[34m 0.987\u001b[34m-1.998\u001b[34m 1.013\n",
      "\u001b[30m 0.000\u001b[30m 0.000\u001b[30m 0.000\u001b[30m 0.000\u001b[30m 0.000\u001b[30m 0.000\u001b[30m 0.000\u001b[30m 0.000\u001b[30m 0.000\u001b[30m 0.000\u001b[30m 0.000\u001b[30m 0.000\u001b[30m 0.000\u001b[30m 0.000\u001b[30m 0.000\u001b[30m 0.000\u001b[30m 0.000\u001b[30m 0.000\u001b[30m 0.000\u001b[34m 2.000\u001b[34m-1.897\n"
     ]
    }
   ],
   "source": [
    "n = 21\n",
    "h = 1 / (n - 1)\n",
    "X = np.linspace(x0, xf, n)\n",
    "#print(X)\n",
    "\n",
    "P = [p(i) for i in X]\n",
    "Q = [q(i) for i in X]\n",
    "F = [f(i) for i in X]\n",
    "\n",
    "A = []\n",
    "A.append(0)\n",
    "B = []\n",
    "B.append(A1)\n",
    "C = []\n",
    "C.append(0)\n",
    "D = []\n",
    "D.append(C1)\n",
    "\n",
    "for i in range(1, n - 1):\n",
    "    A.append(1 - h * P[i] / 2)\n",
    "    B.append(-2 + Q[i]*h*h)\n",
    "    C.append(1 + h * P[i] / 2)\n",
    "    D.append(F[i]*h*h)\n",
    "\n",
    "A.append(2)\n",
    "B.append(-2 - 2 * h * A2 / B2 - P[-1] * A2 * h*h / B2 + Q[-1] * h*h)\n",
    "C.append(0)\n",
    "D.append(F[-1] * h*h - h*h * P[-1] * C2 / B2 - 2 * h * C2 / B2)\n",
    "\n",
    "Matrix=[[0 for i in range(n)] for _ in range(n)]\n",
    "#print(Matrix)\n",
    "\n",
    "for i in range(n):\n",
    "    if i == 0:\n",
    "        Matrix[i][i] = B[i]\n",
    "        Matrix[i][i+1] = C[i]\n",
    "    elif i == n - 1:\n",
    "        Matrix[i][i] = B[i]\n",
    "        Matrix[i][i-1] = A[i]\n",
    "    else:\n",
    "        Matrix[i][i] = B[i]\n",
    "        Matrix[i][i-1] = A[i]\n",
    "        Matrix[i][i+1] = C[i]\n",
    "\n",
    "# print(\"i \\ j\\t\", end='')\n",
    "# for k in range(n):\n",
    "#     print(f'   {k}  ', end=\"\")\n",
    "# print(\"\\t      D\")\n",
    "for i in range(n):\n",
    "    #print(f\"{i}\", \"\\t\", end=\"\")\n",
    "    for j in range(n):\n",
    "        if i == j or i == j + 1 or i == j - 1:\n",
    "            print(\"\\033[34m{}\".format(f'{Matrix[i][j]: .3f}'), end=\"\")\n",
    "        else:\n",
    "            print(\"\\033[30m{}\".format(f'{Matrix[i][j]: .3f}'), end=\"\")\n",
    "    print()\n",
    "    #print(\"\\t\", \"\\033[30m{}\".format(f'{D[i]: .6f}'))\n",
    "#print(np.linalg.cond(Matrix))"
   ]
  },
  {
   "cell_type": "markdown",
   "id": "8f3ac407",
   "metadata": {},
   "source": [
    "Каждое уравнение матрицы имеет вид:\n",
    "\n",
    "$a_{k+1}y_{k}+b_{k+1}y_{k+1}+c_{k+1}y_{k+2}=d_{k+1}$\n",
    "\n",
    "$b_0y_0+c_0y_1=d_0$\n",
    "\n",
    "$y_0=-\\frac{c_0}{b_0}y_1+\\frac{d_0}{b_0}$\n",
    "\n",
    "Подставим во второе уравнение:\n",
    "\n",
    "$a_1y_0+b_1y_1+c_1y_2=d_1$\n",
    "\n",
    "$a_1\\left(-\\frac{c_0}{b_0}y_1+\\frac{d_0}{b_0}\\right)+b_1y_1+c_1y_2=d_1$"
   ]
  },
  {
   "cell_type": "markdown",
   "id": "89721613",
   "metadata": {},
   "source": [
    "$\\left(b_1-\\frac{a_1c_0}{b_0}\\right)y_1+c_1y_2=\\left( d_1-\\frac{a_1d_0}{b_0} \\right)$\n",
    "\n",
    "$\\left( b_1+a_1A_0 \\right)y_1+c_1y_2=\\left( d_1-a_1B_0 \\right)$<br/><br/>\n",
    "\n",
    "$A_0=-\\frac{c_0}{b_0}$<br/> $B_0=\\frac{d_0}{b_0}$"
   ]
  },
  {
   "cell_type": "markdown",
   "id": "956ac6ac",
   "metadata": {},
   "source": [
    "$\\left( b_1 + a_1A_0 \\right)y_1=\\left(d_1-a_1B_0 \\right)-c_1y_2$\n",
    "\n",
    "$y_1=\\frac{d_1-a_1B_0}{b_1 + a_1A_0}-\\frac{c_1}{b_1 + a_1A_0}y_2$\n",
    "\n",
    "$y_1=B_1+A_1y_2$<br/><br/>\n",
    "\n",
    "$A_1=-\\frac{c_1}{b_1 + a_1A_0}$\n",
    "\n",
    "$B_1=\\frac{d_1-a_1B_0}{b_1 + a_1A_0}$"
   ]
  },
  {
   "cell_type": "markdown",
   "id": "5a4f98ad",
   "metadata": {},
   "source": [
    "Обобщая эту формулу на все точки, получаем:\n",
    "\n",
    "$y_i=B_i+A_iy_{i+1}$<br/><br/>\n",
    "\n",
    "$A_i=-\\frac{c_i}{b_i + a_iA_{i-1}}$\n",
    "\n",
    "$B_i=\\frac{d_i-a_iB_{i-1}}{b_i + a_iA_{i-1}}$"
   ]
  },
  {
   "cell_type": "markdown",
   "id": "56ff5c61",
   "metadata": {},
   "source": [
    "При этом, для $y_n$ мы получим, что $A_n = 0$ или же $y_n=B_n$"
   ]
  },
  {
   "cell_type": "markdown",
   "id": "b373a733",
   "metadata": {},
   "source": [
    "Напишем функцию прямого хода для решения нашей системы уравнений (последовательное исключение переменных):"
   ]
  },
  {
   "cell_type": "code",
   "execution_count": 38,
   "id": "a4f8aec0",
   "metadata": {},
   "outputs": [],
   "source": [
    "def forward_path(A, B, C, D, n):\n",
    "    AA = [-C[0]  / B[0]]\n",
    "    BB = [D[0] / B[0]]\n",
    "    for i in range(1, n):\n",
    "        AA.append(- C[i] / (B[i] + A[i] * AA[i-1]))\n",
    "        BB.append((D[i] - A[i]*BB[i-1]) / (B[i] + A[i] * AA[i-1]))\n",
    "    return AA, BB\n",
    "\n",
    "AA, BB = forward_path(A, B, C, D, n)"
   ]
  },
  {
   "cell_type": "markdown",
   "id": "ffade1af",
   "metadata": {},
   "source": [
    "Так как мы сделали прямую прогонку нашей матрицы, мы исключили из последнего уравнения все переменные, кроме $y_n$, поэтому мы можем спокойно найти $y_n$:\n",
    "\n",
    "$y_n=B_n$\n",
    "\n",
    "Зная значение $y_n$, мы можем вычислить значение $y_{n-1}$, зная значения $b_n$, $c_n$, $d_n$:\n",
    "\n",
    "$y_{n-1}=B_{n-1}+A_{n-1}y_n$"
   ]
  },
  {
   "cell_type": "markdown",
   "id": "81b7ce24",
   "metadata": {},
   "source": [
    "Напишем функцию обратного хода:"
   ]
  },
  {
   "cell_type": "code",
   "execution_count": 39,
   "id": "06d4aec1",
   "metadata": {},
   "outputs": [],
   "source": [
    "def backward_path(AA, BB, n):\n",
    "    Y = []\n",
    "    Y.append(BB[n-1])\n",
    "    for i in range(n - 2, -1, -1):\n",
    "        Y.append(BB[i] + AA[i] * Y[n - i - 2])\n",
    "    return Y[::-1]\n",
    "\n",
    "Y = backward_path(AA, BB, n)\n"
   ]
  },
  {
   "cell_type": "code",
   "execution_count": 40,
   "id": "a068f498",
   "metadata": {},
   "outputs": [
    {
     "name": "stdout",
     "output_type": "stream",
     "text": [
      "1.4549518075569003\n",
      "1.4547413365157102\n"
     ]
    }
   ],
   "source": [
    "trueX = np.linspace(x0, xf, 1000)\n",
    "trueY = [solution(i) for i in trueX]\n",
    "\n",
    "print(Y[-1])\n",
    "print(trueY[-1])\n",
    "\n",
    "# plt.plot(trueX, trueY, color=\"aqua\", label=\"Реальное решение\")\n",
    "# plt.plot(X, Y, color=\"yellow\", linestyle=\"--\", label=\"Метод прогонки порядка 2\")\n",
    "# plt.legend(loc=\"lower right\", fontsize=12)\n",
    "# plt.grid(True)"
   ]
  },
  {
   "cell_type": "code",
   "execution_count": 41,
   "id": "244c9bb0",
   "metadata": {},
   "outputs": [],
   "source": [
    "def printMatrix(A, B, C, n):\n",
    "    Matrix=[[0 for i in range(n)] for _ in range(n)]\n",
    "    #print(Matrix)\n",
    "\n",
    "    for i in range(n):\n",
    "        if i == 0:\n",
    "            Matrix[i][i] = B[i]\n",
    "            Matrix[i][i+1] = C[i]\n",
    "        elif i == n - 1:\n",
    "            Matrix[i][i] = B[i]\n",
    "            Matrix[i][i-1] = A[i]\n",
    "        else:\n",
    "            Matrix[i][i] = B[i]\n",
    "            Matrix[i][i-1] = A[i]\n",
    "            Matrix[i][i+1] = C[i]\n",
    "\n",
    "\n",
    "    for i in range(n):\n",
    "        for j in range(n):\n",
    "            if i == j or i == j + 1 or i == j - 1:\n",
    "                print(\"\\033[34m{}\".format(f'{Matrix[i][j]: .3f}'), end=\"\")\n",
    "            else:\n",
    "                print(\"\\033[30m{}\".format(f'{Matrix[i][j]: .3f}'), end=\"\")\n",
    "        print()"
   ]
  },
  {
   "cell_type": "code",
   "execution_count": 44,
   "id": "a4545dc5",
   "metadata": {},
   "outputs": [],
   "source": [
    "def TridiagMatrixMethod(a, b, n, A1, B1, C1, A2, B2, C2, p=p, q=q, f=f, order=2):\n",
    "    h = (b - a) / n\n",
    "    X = np.linspace(a, b, n + 1)\n",
    "    P = [p(i) for i in X]\n",
    "    Q = [q(i) for i in X]\n",
    "    F = [f(i) for i in X]\n",
    "\n",
    "    A = []\n",
    "    A.append(0)\n",
    "    B = []\n",
    "    B.append(A1 / (h*h))\n",
    "    C = []\n",
    "    C.append(0)\n",
    "    D = []\n",
    "    D.append(C1 / (h*h))\n",
    "\n",
    "    for i in range(1, n):\n",
    "        A.append(1 / (h*h) - P[i] / (2*h))\n",
    "        B.append(-2/(h*h) + Q[i])\n",
    "        C.append(1 / (h*h) + P[i] / (2*h))\n",
    "        D.append(F[i])\n",
    "    \n",
    "    if order==2:\n",
    "        A.append(2 / (h*h))\n",
    "        B.append((-2 / (h*h) - 2 * A2 / (B2 * h) - P[n] * A2 / B2 + Q[n]))\n",
    "        C.append(0)\n",
    "        D.append((F[n] - P[n] * C2 / B2 - 2 * C2 / (B2 * h)))\n",
    "    elif order==1:\n",
    "        A.append(-B2 / h)\n",
    "        B.append(A2 + B2 / h)\n",
    "        C.append(0)\n",
    "        D.append(C2)\n",
    "    \n",
    "    # printMatrix(A, B, C, n)\n",
    "    \n",
    "    AA, BB = forward_path(A, B, C, D, n + 1)\n",
    "    Y = backward_path(AA, BB, n + 1)\n",
    "\n",
    "    return Y"
   ]
  },
  {
   "cell_type": "code",
   "execution_count": 45,
   "id": "87ffd85b",
   "metadata": {},
   "outputs": [
    {
     "name": "stdout",
     "output_type": "stream",
     "text": [
      "1.4547413365157102\n",
      "1.4862612112988332\n",
      "1.4549518075569057\n"
     ]
    },
    {
     "data": {
      "image/png": "[encoded data removed]",
      "text/plain": [
       "<Figure size 640x480 with 1 Axes>"
      ]
     },
     "metadata": {},
     "output_type": "display_data"
    }
   ],
   "source": [
    "n = 20\n",
    "\n",
    "trueX = np.linspace(x0, xf, 1000)\n",
    "trueY = [solution(i) for i in trueX]\n",
    "\n",
    "X = np.linspace(x0, xf, n + 1)\n",
    "Y1 = TridiagMatrixMethod(x0, xf, n, A1, B1, C1, A2, B2, C2, order=1)\n",
    "Y2 = TridiagMatrixMethod(x0, xf, n, A1, B1, C1, A2, B2, C2, order=2)\n",
    "\n",
    "print(trueY[-1])\n",
    "print(Y1[-1])\n",
    "print(Y2[-1])\n",
    "\n",
    "plt.plot(trueX, trueY, color=\"white\", label=\"Real solution\")\n",
    "plt.plot(X, Y1, color=\"yellow\", linestyle=\"--\", label=\"First order TDM Alg.\")\n",
    "plt.plot(X, Y2, color=\"blue\", linestyle=\"--\", label=\"Second order TDM Alg.\")\n",
    "\n",
    "plt.legend(loc=\"lower right\", fontsize=12)\n",
    "plt.grid(True)"
   ]
  },
  {
   "cell_type": "code",
   "execution_count": 46,
   "id": "9b626d22",
   "metadata": {},
   "outputs": [],
   "source": [
    "def max_err(exactArr, calcArr):\n",
    "    errors = [abs(exactArr[i] - calcArr[i]) for i in range(len(calcArr))]\n",
    "    return max(errors)\n",
    "\n",
    "def log_graph(a=x0, b=xf, A1=A1, B1=B1, C1=C1, A2=A2, B2=B2, C2=C2, order=2):\n",
    "    errArr =[]\n",
    "    hArr = []\n",
    "    for n in range(10, 1000, 10):\n",
    "        calcArr = TridiagMatrixMethod(a, b, n, A1, B1, C1, A2, B2, C2, p, q, f, order)\n",
    "        exactArr = [solution(i) for i in np.linspace(a, b, n + 1)]\n",
    "        errArr.append(np.log(max_err(exactArr, calcArr)))\n",
    "        hArr.append(np.log((b - a) / n))\n",
    "    return errArr, hArr"
   ]
  },
  {
   "cell_type": "code",
   "execution_count": 47,
   "id": "c54bd30d",
   "metadata": {},
   "outputs": [
    {
     "data": {
      "image/png": "[encoded data removed]",
      "text/plain": [
       "<Figure size 640x480 with 1 Axes>"
      ]
     },
     "metadata": {},
     "output_type": "display_data"
    }
   ],
   "source": [
    "#-------------------------------\n",
    "xs = np.linspace(-6, -3, 100)\n",
    "def ff(x):\n",
    "    return x\n",
    "\n",
    "def fff(x):\n",
    "    return 2*x - 1.8\n",
    "#-------------------------------\n",
    "\n",
    "errArr, hArr = log_graph(order=1)\n",
    "plt.plot(hArr, errArr, color=\"aqua\", label=\"First order TDM alg.\")\n",
    "\n",
    "plt.plot(xs, ff(xs), label=\"~x\")\n",
    "\n",
    "#-------------------------------\n",
    "\n",
    "errArr, hArr = log_graph(order=2)\n",
    "plt.plot(hArr, errArr, color=\"white\", label=\"Second order TDM alg.\")\n",
    "\n",
    "plt.plot(xs, fff(xs), label=\"~2x\")\n",
    "\n",
    "plt.legend(loc=\"lower right\")\n",
    "plt.grid(True)"
   ]
  },
  {
   "cell_type": "markdown",
   "id": "871f6f56",
   "metadata": {},
   "source": [
    " "
   ]
  }
 ],
 "metadata": {
  "kernelspec": {
   "display_name": "jlabtest matplotlib",
   "language": "python",
   "name": "jlabtest"
  },
  "language_info": {
   "codemirror_mode": {
    "name": "ipython",
    "version": 3
   },
   "file_extension": ".py",
   "mimetype": "text/x-python",
   "name": "python",
   "nbconvert_exporter": "python",
   "pygments_lexer": "ipython3",
   "version": "3.7.10"
  }
 },
 "nbformat": 4,
 "nbformat_minor": 5
}
