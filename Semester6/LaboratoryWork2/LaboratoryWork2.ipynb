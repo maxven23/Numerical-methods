{
 "cells": [
  {
   "cell_type": "markdown",
   "metadata": {},
   "source": [
    "<h3><center><b>Свирин Максим Сергеевич | Б19-501</b></center></h3>"
   ]
  },
  {
   "cell_type": "markdown",
   "metadata": {},
   "source": [
    "<center>Будем искать численное решение уравнения теплопроводности:</center>\n",
    "\n",
    "$$\n",
    "\\begin{cases}\n",
    "u_t=a^2u_{xx}+f(x,t)\n",
    "\\\\\n",
    "u(x,0)=\\phi(x)\n",
    "\\\\\n",
    "\\alpha_{1}u_x(0,t)+\\beta_{1}u(0,t)=\\gamma_{1}\n",
    "\\\\\n",
    "\\alpha_{2}u_x(l,t)+\\beta_{2}u(l,t)=\\gamma_{2}\n",
    "\\end{cases}\n",
    "$$"
   ]
  },
  {
   "cell_type": "markdown",
   "metadata": {},
   "source": [
    "---\n",
    "\n",
    "<center>Для решения будет использована разностная схема с весами:</center><br/>\n",
    "\n",
    "<center><img width=\"40%\" height=\"40%\" src=\"./src/scheme.svg\" class=\"edge\"></center>"
   ]
  },
  {
   "cell_type": "markdown",
   "metadata": {},
   "source": [
    "$$\n",
    "\\begin{cases}\n",
    "\\frac{u_k^{n+1} - u_k^n}{\\tau} = a^2 \\cdot \\frac{1}{h^2} \\bigg( \\sigma \\Big( u_{k+1}^{n+1} - 2u_{k}^{n+1} + u_{k-1}^{n+1} \\Big) + (1-\\sigma) \\Big( u_{k+1}^{n} - 2u_{k}^{n} + u_{k-1}^{n} \\Big) \\bigg) + f_{k}^{n+\\frac{1}{2}}\n",
    "\\\\\n",
    "u_{k}^{0}=\\phi_{k}=\\phi(x=x_k)\n",
    "\\\\\n",
    "\\alpha_{1} \\frac{u_{1}^{n+1} - u_{0}^{n+1}}{h} +\\beta_{1}u_{0}^{n+1}=\\gamma_{1}\n",
    "\\\\\n",
    "\\alpha_{2} \\frac{u_{M}^{n+1} - u_{M-1}^{n+1}}{h} +\\beta_{2}u_{M}^{n+1}=\\gamma_{2}\n",
    "\\end{cases}\n",
    "$$"
   ]
  },
  {
   "cell_type": "markdown",
   "metadata": {},
   "source": [
    "Проведём некоторые преобразования и получим:\n",
    "\n",
    "$$\n",
    "\\begin{cases}\n",
    "u_{k+1}^{n+1}\\left( \\frac{a^2\\tau\\sigma}{h^2} \\right) + u_{k}^{n+1} \\left( -\\frac{2a^2\\tau\\sigma}{h^2} - 1 \\right) + u_{k-1}^{n+1} \\left( \\frac{a^2\\tau\\sigma}{h^2} \\right) = - u_{k}^{n} - \\tau f_{k}^{n+\\frac{1}{2}} + (\\sigma - 1) \\frac{a^2\\tau}{h^2} \\left( u_{k+1}^{n} - 2u_{k}^{n} + u_{k-1}^{n} \\right)\n",
    "\\\\\n",
    "u_{k}^{0}=\\phi_{k}\n",
    "\\\\\n",
    "u_{0}^{n+1} \\left( - \\frac{\\alpha_{1}}{h} + \\beta_{1} \\right) + u_{1}^{n+1} \\frac{\\alpha_{1}}{h}  = \\gamma_{1} = d_0\n",
    "\\\\\n",
    "u_{M}^{n+1} \\left( \\frac{\\alpha_{2}}{h} + \\beta_{2} \\right) + u_{M-1}^{n+1} \\left( - \\frac{\\alpha_{2}}{h} \\right)  = \\gamma_{2} = d_M\n",
    "\n",
    "\\end{cases}\n",
    "$$\n",
    "\n",
    "---"
   ]
  },
  {
   "cell_type": "markdown",
   "metadata": {},
   "source": [
    "Переобозначим коэффициенты:\n",
    "\n",
    "Для $k=\\overline{1,M-1}$:\n",
    "$$\n",
    "\\begin{cases}\n",
    "a_k = \\frac{a^2\\tau\\sigma}{h^2}\n",
    "\\\\\n",
    "b_k = -\\frac{2a^2\\tau\\sigma}{h^2} - 1\n",
    "\\\\\n",
    "c_k = \\frac{a^2\\tau\\sigma}{h^2}\n",
    "\\\\\n",
    "d_k = - u_{k}^{n} - \\tau f_{k}^{n+\\frac{1}{2}} + (\\sigma - 1) \\frac{a^2\\tau}{h^2} \\left( u_{k+1}^{n} - 2u_{k}^{n} + u_{k-1}^{n} \\right)\n",
    "\\end{cases}\n",
    "$$\n",
    "\n",
    "Для остальных k:\n",
    "$$\n",
    "\\begin{cases}\n",
    "a_0 = 0\n",
    "\\\\\n",
    "b_0 = - \\frac{\\alpha_{1}}{h} + \\beta_{1}\n",
    "\\\\\n",
    "c_0 = \\frac{\\alpha_{1}}{h}\n",
    "\\\\\n",
    "d_0 = \\gamma_{1}\n",
    "\\\\\n",
    "a_M = - \\frac{\\alpha_{2}}{h}\n",
    "\\\\\n",
    "b_M = \\frac{\\alpha_{2}}{h} + \\beta_{2}\n",
    "\\\\\n",
    "c_M = 0\n",
    "\\\\\n",
    "d_M = \\gamma_{2}\n",
    "\\end{cases}\n",
    "$$\n",
    "\n",
    "После переобозначения имеем:\n",
    "$$\n",
    "\\begin{cases}\n",
    "u_{k+1}^{n+1} a_k + u_{k}^{n+1} b_k + u_{k-1}^{n+1} c_k = d_k \\qquad  k=\\overline{1,M-1}\n",
    "\\\\\n",
    "u_{k}^{0}=\\phi_{k}\n",
    "\\\\\n",
    "u_{0}^{n+1} b_0 + u_{1}^{n+1} c_0 = d_0\n",
    "\\\\\n",
    "u_{M-1}^{n+1} a_M + u_{0}^{n+1} b_M = d_M\n",
    "\n",
    "\\end{cases}\n",
    "$$\n",
    "\n",
    "---"
   ]
  },
  {
   "cell_type": "markdown",
   "metadata": {},
   "source": [
    "Составим матрицу из полученных уравнений:\n",
    "\n",
    "$$\\begin{pmatrix}\n",
    "b_0 & c_0 & & & \\\\\n",
    "a_1 & b_1 & c_1 & & \\\\\n",
    "& a_2 & \\ddots & \\ddots & \\\\\n",
    "& & \\ddots & \\ddots & c_{M-1} \\\\\n",
    "& & & a_M & b_M \\\\\n",
    "\\end{pmatrix}\n",
    "\\begin{pmatrix}\n",
    "u_0^{n+1} \\\\\n",
    "u_1^{n+1} \\\\\n",
    "u_2^{n+1} \\\\\n",
    "\\dots \\\\\n",
    "u_M^{n+1}\n",
    "\\end{pmatrix}\n",
    "=\n",
    "\\begin{pmatrix}\n",
    "d_0 \\\\\n",
    "d_1 \\\\\n",
    "d_2 \\\\\n",
    "\\dots \\\\\n",
    "d_M\n",
    "\\end{pmatrix}$$"
   ]
  },
  {
   "cell_type": "markdown",
   "metadata": {},
   "source": [
    "Мы имеем $N$ систем уравнений $(M+1) \\times (M+1)$\n",
    "\n",
    "---"
   ]
  },
  {
   "cell_type": "markdown",
   "metadata": {},
   "source": [
    "<center><img width=\"50%\" height=\"50%\" src=\"./src/task.jpg\"></center>"
   ]
  },
  {
   "cell_type": "markdown",
   "metadata": {},
   "source": [
    "<center><img width=\"50%\" height=\"50%\" src=\"./src/14.jpg\"></center>"
   ]
  },
  {
   "cell_type": "code",
   "execution_count": 1,
   "metadata": {},
   "outputs": [],
   "source": [
    "import numpy as np\n",
    "import matplotlib.pyplot as plt\n",
    "import sympy\n",
    "import plotly.graph_objects as gr\n",
    "from mpl_toolkits import mplot3d\n",
    "from mpl_toolkits.mplot3d import axes3d"
   ]
  },
  {
   "cell_type": "markdown",
   "metadata": {},
   "source": [
    "Зададим функции и постоянные, используемые в уравнении:"
   ]
  },
  {
   "cell_type": "code",
   "execution_count": 90,
   "metadata": {},
   "outputs": [],
   "source": [
    "# Правая часть уравнения теплопроводности\n",
    "def f(x, t):\n",
    "    return (-3) * (1 + np.cosh(1 - x - t)**2 + np.sinh(2 - 2*x - 2*t)) / (8 * np.cosh(1 - x - t)**(3/2))\n",
    "\n",
    "# Функкция начального условия\n",
    "def phi(x):\n",
    "    return 3 / 2 * np.cosh(1 - x)**(1/2)\n",
    "\n",
    "# Граничные условия\n",
    "A1 = 0\n",
    "B1 = 1\n",
    "C1 = lambda t: 3 / 2 * (np.cosh(1 - t))**(1/2)\n",
    "\n",
    "A2 = -2\n",
    "B2 = 1\n",
    "C2 = lambda t: 3 / 2 * (np.cosh(t) - np.sinh(t)) / np.cosh(t)**(1/2)\n",
    "\n",
    "# Параметр a уравнения\n",
    "a = 1\n",
    "\n",
    "# Настоящее решение уравнения\n",
    "def solution(x, t):\n",
    "    return 3 / 2 * np.cosh(1 - x - t)**(1/2)"
   ]
  },
  {
   "cell_type": "code",
   "execution_count": 106,
   "metadata": {},
   "outputs": [],
   "source": [
    "# Правая часть уравнения теплопроводности\n",
    "def f(x, t):\n",
    "    return (2 - 8 * x**2 / 3) * np.exp(t - x*x)\n",
    "\n",
    "# Функкция начального условия\n",
    "def phi(x):\n",
    "    return 2 / 3 * np.exp(-x*x)\n",
    "\n",
    "# Граничные условия\n",
    "A1 = -1\n",
    "B1 = 1\n",
    "C1 = lambda t: 2 / 3 * np.exp(t)\n",
    "\n",
    "A2 = 1\n",
    "B2 = 1\n",
    "C2 = lambda t: -2 / 3 * np.exp(t-1)\n",
    "\n",
    "# Параметр a уравнения\n",
    "a = 1\n",
    "\n",
    "# Настоящее решение уравнения\n",
    "def solution(x, t):\n",
    "    return 2 / 3 * np.exp(t - x*x)"
   ]
  },
  {
   "cell_type": "markdown",
   "metadata": {},
   "source": [
    "Зададим параметры пространственно-временной сетки:"
   ]
  },
  {
   "cell_type": "code",
   "execution_count": 107,
   "metadata": {},
   "outputs": [],
   "source": [
    "h = 0.05\n",
    "l = 1\n",
    "N = int(l / h)+1\n",
    "X = np.linspace(0, l, num=N)\n",
    "\n",
    "# T = float(input(\"Введите максимальное время T:\\t\"))\n",
    "t = 1\n",
    "\n",
    "# dt = float(input(\"Введите шаг временной сетки dt:\\t\"))\n",
    "dt = 0.05\n",
    "\n",
    "M = int(t / dt) + 1\n",
    "T = np.linspace(0, t, num=M)\n",
    "\n",
    "# Задаём сигму\n",
    "sigma = 0.5"
   ]
  },
  {
   "cell_type": "markdown",
   "metadata": {},
   "source": [
    "Напишем алгоритм решения системы уравнений с тридиагональной матрицей:"
   ]
  },
  {
   "cell_type": "code",
   "execution_count": 108,
   "metadata": {},
   "outputs": [],
   "source": [
    "def TridiagMatrixMethod(m, u, l=l, A1=A1, B1=B1, C1=C1, A2=A2, B2=B2, C2=C2, sigma=sigma, h=h, N=N, dt=dt, T=T, f=f, order=1):\n",
    "    \n",
    "    # Функция \"прямого хода\" по матрице\n",
    "    def forward_path(A, B, C, D, n=N-1):\n",
    "        AA = [-C[0]  / B[0]]\n",
    "        BB = [D[0] / B[0]]\n",
    "        for i in range(1, n):\n",
    "            AA.append(- C[i] / (B[i] + A[i] * AA[i-1]))\n",
    "            BB.append((D[i] - A[i]*BB[i-1]) / (B[i] + A[i] * AA[i-1]))\n",
    "        return AA, BB\n",
    "\n",
    "    # Функция \"обратного хода\" по матрице\n",
    "    def backward_path(AA, BB, n=N-1):\n",
    "        Y = []\n",
    "        Y.append(BB[n-1])\n",
    "        for i in range(n - 2, -1, -1):\n",
    "            Y.append(BB[i] + AA[i] * Y[n - i - 2])\n",
    "        return Y[::-1]\n",
    "    \n",
    "    X = np.linspace(0, l, N+1)\n",
    "\n",
    "    cur = a * a * dt / h / h\n",
    "\n",
    "    A = [0]\n",
    "    B = [0]\n",
    "    C = [0]\n",
    "    D = [0]\n",
    "    \n",
    "    for i in range(1, N - 1):\n",
    "        A.append(cur * sigma)\n",
    "        B.append((-2) * cur * sigma - 1)\n",
    "        C.append(cur * sigma)\n",
    "        D.append(-u[m][i] - dt*f(X[i], T[m] + dt / 2) + (sigma - 1) * a * a * dt / h / h * (u[m][i+1] - 2 * u[m][i] + u[m][i-1]))\n",
    "        \n",
    "\n",
    "    if order == 1:\n",
    "        A[0] = (0)\n",
    "        B[0] = (-A1 / h + B1)\n",
    "        C[0] = (A1 / h)\n",
    "        D[0] = (C1(T[m+1]))\n",
    "\n",
    "        A.append(-A2 / h)\n",
    "        B.append(A2 / h + B2)\n",
    "        C.append(0)\n",
    "        D.append(C2(T[m+1]))\n",
    "    \n",
    "    elif order == 2:\n",
    "        \n",
    "        A[0] = (0)\n",
    "        B[0] = (A1 - h * B1 + A1 / 2 / cur / sigma) / h\n",
    "        C[0] = (-A1) / h\n",
    "        D[0] = (-h*C1(T[m+1]) + A1/2/cur/sigma*(u[m][0] + dt*f(X[0],T[m]+dt/2)) + (sigma-1)/sigma*((A1-h*B1)*u[m][0] - A1*u[m][1] + h*C1(T[m]))) / h\n",
    "\n",
    "        A.append((A2) / h)\n",
    "        B.append(-(A2 + h*B2 + A2/2/cur/sigma) / h)\n",
    "        C.append(0)\n",
    "        D.append(((-h*C2(T[m+1]) - A2/2/cur/sigma*(u[m][-1] + dt*f(X[-1],T[m]+dt/2)) - (sigma-1)/sigma*((A2+h*B2)*u[m][-1] - A2*u[m][-2] - h*C2(T[m])))) / h)\n",
    "        \n",
    "    else:\n",
    "        raise ValueError(\"Incorrect order of algorithm (avail.: 1, 2)\")\n",
    "\n",
    "    AA, BB = forward_path(A, B, C, D, N)\n",
    "    Y = backward_path(AA, BB, N)\n",
    "\n",
    "    return Y"
   ]
  },
  {
   "cell_type": "markdown",
   "metadata": {},
   "source": [
    "Построим решения нашей задачи на основе вышеизложенной теории:"
   ]
  },
  {
   "cell_type": "code",
   "execution_count": 109,
   "metadata": {},
   "outputs": [],
   "source": [
    "def solver_h(N=N, M=M, order=1):\n",
    "    u = np.zeros(shape=(M, N))\n",
    "    u[0] = [phi(x) for x in X]\n",
    "    for i in range(1, M):\n",
    "        u[i] = TridiagMatrixMethod(i - 1, u, order=order)\n",
    "    return u"
   ]
  },
  {
   "cell_type": "markdown",
   "metadata": {},
   "source": [
    "Сделаем визуализацию решения:"
   ]
  },
  {
   "cell_type": "code",
   "execution_count": 110,
   "metadata": {},
   "outputs": [
    {
     "data": {
      "image/png": "[encoded data removed]",
      "text/plain": [
       "<Figure size 720x720 with 1 Axes>"
      ]
     },
     "metadata": {
      "needs_background": "light"
     },
     "output_type": "display_data"
    }
   ],
   "source": [
    "%matplotlib inline\n",
    "def plot_u(X=X, T=T, order=1):\n",
    "  fig = plt.figure(figsize=(10, 10))\n",
    "  ax = fig.add_subplot(projection='3d')\n",
    "\n",
    "  Xs, Ts = np.meshgrid(X, T)\n",
    "  u = solver_h(order=order)\n",
    "\n",
    "  ax.set_xlabel('x')\n",
    "  ax.set_ylabel('t')\n",
    "  ax.set_zlabel('u(x,t)')\n",
    "  ax.title.set_text(\"Полученное и оригинальное решения\")\n",
    "  \n",
    "  ax.plot_surface(Xs, Ts, solution(Xs, Ts), color=\"purple\", alpha=1, label=\"Real\")\n",
    "  ax.plot_surface(Xs, Ts, u, color=\"yellow\", alpha=0.5, label=\"Calc\")\n",
    "\n",
    "plot_u(order=1)"
   ]
  },
  {
   "cell_type": "code",
   "execution_count": 111,
   "metadata": {},
   "outputs": [
    {
     "data": {
      "image/png": "[encoded data removed]",
      "text/plain": [
       "<Figure size 720x720 with 1 Axes>"
      ]
     },
     "metadata": {
      "needs_background": "light"
     },
     "output_type": "display_data"
    }
   ],
   "source": [
    "plot_u(order=2)"
   ]
  },
  {
   "cell_type": "markdown",
   "metadata": {},
   "source": [
    "Оценим ошибки полученного решения:"
   ]
  },
  {
   "cell_type": "code",
   "execution_count": 113,
   "metadata": {},
   "outputs": [],
   "source": [
    "def error_graph(X=X, T=T, order=1):\n",
    "    Xs, Ts = np.meshgrid(X, T)\n",
    "    fig = gr.Figure(data=[gr.Surface(z=np.abs(solution(Xs, Ts) - solver_h(order=order)), x=Xs, y=Ts)])\n",
    "    fig.update_layout(scene = dict(\n",
    "                        xaxis_title='x',\n",
    "                        yaxis_title='t',\n",
    "                        zaxis_title='|u(x,t)-u0(x,t)|'),\n",
    "                        width=1000,\n",
    "                        height=600,\n",
    "                        margin=dict(r=10, b=20, l=10, t=60), \n",
    "                        title=f\"Модуль ошибки в каждой точке сетки ({order} порядок точности производной)\")\n",
    "    fig.show()"
   ]
  },
  {
   "cell_type": "code",
   "execution_count": 114,
   "metadata": {},
   "outputs": [
    {
     "data": {
      "application/vnd.plotly.v1+json": {
       "config": {
        "plotlyServerURL": "https://plot.ly"
       },
       "data": [
        {
         "type": "surface",
         "x": [
          [
           0,
           0.05,
           0.1,
           0.15000000000000002,
           0.2,
           0.25,
           0.30000000000000004,
           0.35000000000000003,
           0.4,
           0.45,
           0.5,
           0.55,
           0.6000000000000001,
           0.65,
           0.7000000000000001,
           0.75,
           0.8,
           0.8500000000000001,
           0.9,
           0.9500000000000001,
           1
          ],
          [
           0,
           0.05,
           0.1,
           0.15000000000000002,
           0.2,
           0.25,
           0.30000000000000004,
           0.35000000000000003,
           0.4,
           0.45,
           0.5,
           0.55,
           0.6000000000000001,
           0.65,
           0.7000000000000001,
           0.75,
           0.8,
           0.8500000000000001,
           0.9,
           0.9500000000000001,
           1
          ],
          [
           0,
           0.05,
           0.1,
           0.15000000000000002,
           0.2,
           0.25,
           0.30000000000000004,
           0.35000000000000003,
           0.4,
           0.45,
           0.5,
           0.55,
           0.6000000000000001,
           0.65,
           0.7000000000000001,
           0.75,
           0.8,
           0.8500000000000001,
           0.9,
           0.9500000000000001,
           1
          ],
          [
           0,
           0.05,
           0.1,
           0.15000000000000002,
           0.2,
           0.25,
           0.30000000000000004,
           0.35000000000000003,
           0.4,
           0.45,
           0.5,
           0.55,
           0.6000000000000001,
           0.65,
           0.7000000000000001,
           0.75,
           0.8,
           0.8500000000000001,
           0.9,
           0.9500000000000001,
           1
          ],
          [
           0,
           0.05,
           0.1,
           0.15000000000000002,
           0.2,
           0.25,
           0.30000000000000004,
           0.35000000000000003,
           0.4,
           0.45,
           0.5,
           0.55,
           0.6000000000000001,
           0.65,
           0.7000000000000001,
           0.75,
           0.8,
           0.8500000000000001,
           0.9,
           0.9500000000000001,
           1
          ],
          [
           0,
           0.05,
           0.1,
           0.15000000000000002,
           0.2,
           0.25,
           0.30000000000000004,
           0.35000000000000003,
           0.4,
           0.45,
           0.5,
           0.55,
           0.6000000000000001,
           0.65,
           0.7000000000000001,
           0.75,
           0.8,
           0.8500000000000001,
           0.9,
           0.9500000000000001,
           1
          ],
          [
           0,
           0.05,
           0.1,
           0.15000000000000002,
           0.2,
           0.25,
           0.30000000000000004,
           0.35000000000000003,
           0.4,
           0.45,
           0.5,
           0.55,
           0.6000000000000001,
           0.65,
           0.7000000000000001,
           0.75,
           0.8,
           0.8500000000000001,
           0.9,
           0.9500000000000001,
           1
          ],
          [
           0,
           0.05,
           0.1,
           0.15000000000000002,
           0.2,
           0.25,
           0.30000000000000004,
           0.35000000000000003,
           0.4,
           0.45,
           0.5,
           0.55,
           0.6000000000000001,
           0.65,
           0.7000000000000001,
           0.75,
           0.8,
           0.8500000000000001,
           0.9,
           0.9500000000000001,
           1
          ],
          [
           0,
           0.05,
           0.1,
           0.15000000000000002,
           0.2,
           0.25,
           0.30000000000000004,
           0.35000000000000003,
           0.4,
           0.45,
           0.5,
           0.55,
           0.6000000000000001,
           0.65,
           0.7000000000000001,
           0.75,
           0.8,
           0.8500000000000001,
           0.9,
           0.9500000000000001,
           1
          ],
          [
           0,
           0.05,
           0.1,
           0.15000000000000002,
           0.2,
           0.25,
           0.30000000000000004,
           0.35000000000000003,
           0.4,
           0.45,
           0.5,
           0.55,
           0.6000000000000001,
           0.65,
           0.7000000000000001,
           0.75,
           0.8,
           0.8500000000000001,
           0.9,
           0.9500000000000001,
           1
          ],
          [
           0,
           0.05,
           0.1,
           0.15000000000000002,
           0.2,
           0.25,
           0.30000000000000004,
           0.35000000000000003,
           0.4,
           0.45,
           0.5,
           0.55,
           0.6000000000000001,
           0.65,
           0.7000000000000001,
           0.75,
           0.8,
           0.8500000000000001,
           0.9,
           0.9500000000000001,
           1
          ],
          [
           0,
           0.05,
           0.1,
           0.15000000000000002,
           0.2,
           0.25,
           0.30000000000000004,
           0.35000000000000003,
           0.4,
           0.45,
           0.5,
           0.55,
           0.6000000000000001,
           0.65,
           0.7000000000000001,
           0.75,
           0.8,
           0.8500000000000001,
           0.9,
           0.9500000000000001,
           1
          ],
          [
           0,
           0.05,
           0.1,
           0.15000000000000002,
           0.2,
           0.25,
           0.30000000000000004,
           0.35000000000000003,
           0.4,
           0.45,
           0.5,
           0.55,
           0.6000000000000001,
           0.65,
           0.7000000000000001,
           0.75,
           0.8,
           0.8500000000000001,
           0.9,
           0.9500000000000001,
           1
          ],
          [
           0,
           0.05,
           0.1,
           0.15000000000000002,
           0.2,
           0.25,
           0.30000000000000004,
           0.35000000000000003,
           0.4,
           0.45,
           0.5,
           0.55,
           0.6000000000000001,
           0.65,
           0.7000000000000001,
           0.75,
           0.8,
           0.8500000000000001,
           0.9,
           0.9500000000000001,
           1
          ],
          [
           0,
           0.05,
           0.1,
           0.15000000000000002,
           0.2,
           0.25,
           0.30000000000000004,
           0.35000000000000003,
           0.4,
           0.45,
           0.5,
           0.55,
           0.6000000000000001,
           0.65,
           0.7000000000000001,
           0.75,
           0.8,
           0.8500000000000001,
           0.9,
           0.9500000000000001,
           1
          ],
          [
           0,
           0.05,
           0.1,
           0.15000000000000002,
           0.2,
           0.25,
           0.30000000000000004,
           0.35000000000000003,
           0.4,
           0.45,
           0.5,
           0.55,
           0.6000000000000001,
           0.65,
           0.7000000000000001,
           0.75,
           0.8,
           0.8500000000000001,
           0.9,
           0.9500000000000001,
           1
          ],
          [
           0,
           0.05,
           0.1,
           0.15000000000000002,
           0.2,
           0.25,
           0.30000000000000004,
           0.35000000000000003,
           0.4,
           0.45,
           0.5,
           0.55,
           0.6000000000000001,
           0.65,
           0.7000000000000001,
           0.75,
           0.8,
           0.8500000000000001,
           0.9,
           0.9500000000000001,
           1
          ],
          [
           0,
           0.05,
           0.1,
           0.15000000000000002,
           0.2,
           0.25,
           0.30000000000000004,
           0.35000000000000003,
           0.4,
           0.45,
           0.5,
           0.55,
           0.6000000000000001,
           0.65,
           0.7000000000000001,
           0.75,
           0.8,
           0.8500000000000001,
           0.9,
           0.9500000000000001,
           1
          ],
          [
           0,
           0.05,
           0.1,
           0.15000000000000002,
           0.2,
           0.25,
           0.30000000000000004,
           0.35000000000000003,
           0.4,
           0.45,
           0.5,
           0.55,
           0.6000000000000001,
           0.65,
           0.7000000000000001,
           0.75,
           0.8,
           0.8500000000000001,
           0.9,
           0.9500000000000001,
           1
          ],
          [
           0,
           0.05,
           0.1,
           0.15000000000000002,
           0.2,
           0.25,
           0.30000000000000004,
           0.35000000000000003,
           0.4,
           0.45,
           0.5,
           0.55,
           0.6000000000000001,
           0.65,
           0.7000000000000001,
           0.75,
           0.8,
           0.8500000000000001,
           0.9,
           0.9500000000000001,
           1
          ],
          [
           0,
           0.05,
           0.1,
           0.15000000000000002,
           0.2,
           0.25,
           0.30000000000000004,
           0.35000000000000003,
           0.4,
           0.45,
           0.5,
           0.55,
           0.6000000000000001,
           0.65,
           0.7000000000000001,
           0.75,
           0.8,
           0.8500000000000001,
           0.9,
           0.9500000000000001,
           1
          ]
         ],
         "y": [
          [
           0,
           0,
           0,
           0,
           0,
           0,
           0,
           0,
           0,
           0,
           0,
           0,
           0,
           0,
           0,
           0,
           0,
           0,
           0,
           0,
           0
          ],
          [
           0.05,
           0.05,
           0.05,
           0.05,
           0.05,
           0.05,
           0.05,
           0.05,
           0.05,
           0.05,
           0.05,
           0.05,
           0.05,
           0.05,
           0.05,
           0.05,
           0.05,
           0.05,
           0.05,
           0.05,
           0.05
          ],
          [
           0.1,
           0.1,
           0.1,
           0.1,
           0.1,
           0.1,
           0.1,
           0.1,
           0.1,
           0.1,
           0.1,
           0.1,
           0.1,
           0.1,
           0.1,
           0.1,
           0.1,
           0.1,
           0.1,
           0.1,
           0.1
          ],
          [
           0.15000000000000002,
           0.15000000000000002,
           0.15000000000000002,
           0.15000000000000002,
           0.15000000000000002,
           0.15000000000000002,
           0.15000000000000002,
           0.15000000000000002,
           0.15000000000000002,
           0.15000000000000002,
           0.15000000000000002,
           0.15000000000000002,
           0.15000000000000002,
           0.15000000000000002,
           0.15000000000000002,
           0.15000000000000002,
           0.15000000000000002,
           0.15000000000000002,
           0.15000000000000002,
           0.15000000000000002,
           0.15000000000000002
          ],
          [
           0.2,
           0.2,
           0.2,
           0.2,
           0.2,
           0.2,
           0.2,
           0.2,
           0.2,
           0.2,
           0.2,
           0.2,
           0.2,
           0.2,
           0.2,
           0.2,
           0.2,
           0.2,
           0.2,
           0.2,
           0.2
          ],
          [
           0.25,
           0.25,
           0.25,
           0.25,
           0.25,
           0.25,
           0.25,
           0.25,
           0.25,
           0.25,
           0.25,
           0.25,
           0.25,
           0.25,
           0.25,
           0.25,
           0.25,
           0.25,
           0.25,
           0.25,
           0.25
          ],
          [
           0.30000000000000004,
           0.30000000000000004,
           0.30000000000000004,
           0.30000000000000004,
           0.30000000000000004,
           0.30000000000000004,
           0.30000000000000004,
           0.30000000000000004,
           0.30000000000000004,
           0.30000000000000004,
           0.30000000000000004,
           0.30000000000000004,
           0.30000000000000004,
           0.30000000000000004,
           0.30000000000000004,
           0.30000000000000004,
           0.30000000000000004,
           0.30000000000000004,
           0.30000000000000004,
           0.30000000000000004,
           0.30000000000000004
          ],
          [
           0.35000000000000003,
           0.35000000000000003,
           0.35000000000000003,
           0.35000000000000003,
           0.35000000000000003,
           0.35000000000000003,
           0.35000000000000003,
           0.35000000000000003,
           0.35000000000000003,
           0.35000000000000003,
           0.35000000000000003,
           0.35000000000000003,
           0.35000000000000003,
           0.35000000000000003,
           0.35000000000000003,
           0.35000000000000003,
           0.35000000000000003,
           0.35000000000000003,
           0.35000000000000003,
           0.35000000000000003,
           0.35000000000000003
          ],
          [
           0.4,
           0.4,
           0.4,
           0.4,
           0.4,
           0.4,
           0.4,
           0.4,
           0.4,
           0.4,
           0.4,
           0.4,
           0.4,
           0.4,
           0.4,
           0.4,
           0.4,
           0.4,
           0.4,
           0.4,
           0.4
          ],
          [
           0.45,
           0.45,
           0.45,
           0.45,
           0.45,
           0.45,
           0.45,
           0.45,
           0.45,
           0.45,
           0.45,
           0.45,
           0.45,
           0.45,
           0.45,
           0.45,
           0.45,
           0.45,
           0.45,
           0.45,
           0.45
          ],
          [
           0.5,
           0.5,
           0.5,
           0.5,
           0.5,
           0.5,
           0.5,
           0.5,
           0.5,
           0.5,
           0.5,
           0.5,
           0.5,
           0.5,
           0.5,
           0.5,
           0.5,
           0.5,
           0.5,
           0.5,
           0.5
          ],
          [
           0.55,
           0.55,
           0.55,
           0.55,
           0.55,
           0.55,
           0.55,
           0.55,
           0.55,
           0.55,
           0.55,
           0.55,
           0.55,
           0.55,
           0.55,
           0.55,
           0.55,
           0.55,
           0.55,
           0.55,
           0.55
          ],
          [
           0.6000000000000001,
           0.6000000000000001,
           0.6000000000000001,
           0.6000000000000001,
           0.6000000000000001,
           0.6000000000000001,
           0.6000000000000001,
           0.6000000000000001,
           0.6000000000000001,
           0.6000000000000001,
           0.6000000000000001,
           0.6000000000000001,
           0.6000000000000001,
           0.6000000000000001,
           0.6000000000000001,
           0.6000000000000001,
           0.6000000000000001,
           0.6000000000000001,
           0.6000000000000001,
           0.6000000000000001,
           0.6000000000000001
          ],
          [
           0.65,
           0.65,
           0.65,
           0.65,
           0.65,
           0.65,
           0.65,
           0.65,
           0.65,
           0.65,
           0.65,
           0.65,
           0.65,
           0.65,
           0.65,
           0.65,
           0.65,
           0.65,
           0.65,
           0.65,
           0.65
          ],
          [
           0.7000000000000001,
           0.7000000000000001,
           0.7000000000000001,
           0.7000000000000001,
           0.7000000000000001,
           0.7000000000000001,
           0.7000000000000001,
           0.7000000000000001,
           0.7000000000000001,
           0.7000000000000001,
           0.7000000000000001,
           0.7000000000000001,
           0.7000000000000001,
           0.7000000000000001,
           0.7000000000000001,
           0.7000000000000001,
           0.7000000000000001,
           0.7000000000000001,
           0.7000000000000001,
           0.7000000000000001,
           0.7000000000000001
          ],
          [
           0.75,
           0.75,
           0.75,
           0.75,
           0.75,
           0.75,
           0.75,
           0.75,
           0.75,
           0.75,
           0.75,
           0.75,
           0.75,
           0.75,
           0.75,
           0.75,
           0.75,
           0.75,
           0.75,
           0.75,
           0.75
          ],
          [
           0.8,
           0.8,
           0.8,
           0.8,
           0.8,
           0.8,
           0.8,
           0.8,
           0.8,
           0.8,
           0.8,
           0.8,
           0.8,
           0.8,
           0.8,
           0.8,
           0.8,
           0.8,
           0.8,
           0.8,
           0.8
          ],
          [
           0.8500000000000001,
           0.8500000000000001,
           0.8500000000000001,
           0.8500000000000001,
           0.8500000000000001,
           0.8500000000000001,
           0.8500000000000001,
           0.8500000000000001,
           0.8500000000000001,
           0.8500000000000001,
           0.8500000000000001,
           0.8500000000000001,
           0.8500000000000001,
           0.8500000000000001,
           0.8500000000000001,
           0.8500000000000001,
           0.8500000000000001,
           0.8500000000000001,
           0.8500000000000001,
           0.8500000000000001,
           0.8500000000000001
          ],
          [
           0.9,
           0.9,
           0.9,
           0.9,
           0.9,
           0.9,
           0.9,
           0.9,
           0.9,
           0.9,
           0.9,
           0.9,
           0.9,
           0.9,
           0.9,
           0.9,
           0.9,
           0.9,
           0.9,
           0.9,
           0.9
          ],
          [
           0.9500000000000001,
           0.9500000000000001,
           0.9500000000000001,
           0.9500000000000001,
           0.9500000000000001,
           0.9500000000000001,
           0.9500000000000001,
           0.9500000000000001,
           0.9500000000000001,
           0.9500000000000001,
           0.9500000000000001,
           0.9500000000000001,
           0.9500000000000001,
           0.9500000000000001,
           0.9500000000000001,
           0.9500000000000001,
           0.9500000000000001,
           0.9500000000000001,
           0.9500000000000001,
           0.9500000000000001,
           0.9500000000000001
          ],
          [
           1,
           1,
           1,
           1,
           1,
           1,
           1,
           1,
           1,
           1,
           1,
           1,
           1,
           1,
           1,
           1,
           1,
           1,
           1,
           1,
           1
          ]
         ],
         "z": [
          [
           0,
           0,
           0,
           0,
           0,
           0,
           0,
           0,
           0,
           0,
           0,
           0,
           0,
           0,
           0,
           0,
           0,
           0,
           0,
           0,
           0
          ],
          [
           0.0046502248394469925,
           0.0031328059115932616,
           0.001940165462851029,
           0.0009691455638821678,
           0.00014868416932023454,
           0.0005684555617548881,
           0.0012119597733122323,
           0.0017987955920694132,
           0.002336995104086692,
           0.002828672829912948,
           0.0032724772877672503,
           0.003665621960382115,
           0.004005605291791392,
           0.0042917091490327075,
           0.004526357705578521,
           0.004716422234599449,
           0.004874571116326609,
           0.005020788720305036,
           0.005184223054243986,
           0.005405572789575652,
           0.0057402936905174284
          ],
          [
           0.007108567215445616,
           0.0056243445680035364,
           0.004076584704364228,
           0.002549865506114357,
           0.0010870541297285374,
           0.0002922535726197495,
           0.0015804056120719556,
           0.002775086956805839,
           0.0038758016198202627,
           0.004882330170894678,
           0.005794399742412026,
           0.00661203809804467,
           0.007336236185476297,
           0.00796963719588839,
           0.008517017863061804,
           0.008985335771238168,
           0.009383084845496215,
           0.009718623990797315,
           0.009997008377502004,
           0.010214638297249778,
           0.010350715188419346
          ],
          [
           0.00703018285548318,
           0.0054477200659026614,
           0.003923839173692878,
           0.0023941502049042995,
           0.0008442676154121198,
           0.0007156413438479392,
           0.002264840852911343,
           0.0037793840515458754,
           0.005235774552010741,
           0.006612656030007047,
           0.007891504235118751,
           0.009056841711172936,
           0.010096233569747426,
           0.01100018836805905,
           0.011762044510881697,
           0.012377953216751059,
           0.012847174986764964,
           0.01317310617509354,
           0.013365784801756708,
           0.013447156699893437,
           0.013461219797795188
          ],
          [
           0.0068687073296925805,
           0.005179013902490093,
           0.0034172266015172204,
           0.0016426573963945756,
           0.00012454209315193587,
           0.001875828173059535,
           0.0036022450043161625,
           0.005290409645362315,
           0.00692233198589598,
           0.008476848394355474,
           0.00993155161456627,
           0.011264704411411142,
           0.012456939917710796,
           0.0134926991619152,
           0.014361400145758374,
           0.015058297142467869,
           0.0155848646901674,
           0.015948285258688077,
           0.016159146857574358,
           0.01622561870045197,
           0.016140926089115215
          ],
          [
           0.006207433213662128,
           0.0043804353383322114,
           0.0025597170324144214,
           0.0006997452797329329,
           0.0011963665341218066,
           0.0031075371624027515,
           0.0050073779925290385,
           0.006868740279430519,
           0.008665068021300182,
           0.01037081223422276,
           0.011961798598198459,
           0.013415782803954501,
           0.014713140653456191,
           0.015837540565120878,
           0.01677644469209072,
           0.017521351628037585,
           0.01806784648931936,
           0.018415832153511502,
           0.018570919519168783,
           0.018549109504258032,
           0.018389046726851987
          ],
          [
           0.005640147858130717,
           0.0036752004355520285,
           0.0016482135336514103,
           0.0003952260292803267,
           0.0024431424692321624,
           0.004487101471504551,
           0.006512805685254475,
           0.008499148839530068,
           0.01042014721485518,
           0.01224742577135196,
           0.013952444256742247,
           0.01550828661305248,
           0.016891070016723964,
           0.01808109177990158,
           0.019063828172496744,
           0.019830857245737077,
           0.02038066785059134,
           0.02071904240389799,
           0.020858060966770564,
           0.020811388485634685,
           0.02058067883793746
          ],
          [
           0.004943033871426694,
           0.002828026912615411,
           0.0007058626061526851,
           0.0014568226247955174,
           0.0036487788825686485,
           0.005845856825434481,
           0.008020934062969332,
           0.010146093411174117,
           0.01219282784117437,
           0.014132290967349692,
           0.01593604763849077,
           0.01757721899064313,
           0.01903177501969766,
           0.02027973334851041,
           0.021306063674488396,
           0.0221011483462773,
           0.02266074856954514,
           0.022985689100448292,
           0.023082154858507176,
           0.022965101749391537,
           0.022670816195636656
          ],
          [
           0.004352439701823196,
           0.002086792570610174,
           0.0002295043674821473,
           0.0025596451328908643,
           0.004894672736472039,
           0.0072236469085975585,
           0.00952723933414823,
           0.01177897862044297,
           0.01394815189616494,
           0.016002475932781812,
           0.017910181738100106,
           0.01964160998285802,
           0.021170476598852073,
           0.022474930011470717,
           0.02353849002766062,
           0.0243509498533796,
           0.02490929164510447,
           0.025218481579234453,
           0.025291373402734685,
           0.02514521554441773,
           0.02478809555958139
          ],
          [
           0.003724653874151329,
           0.001300297521365179,
           0.0011349056962492998,
           0.0036056248852662787,
           0.0060960278448145555,
           0.008580663008856515,
           0.01103172663820462,
           0.013419749677022197,
           0.015713510219448,
           0.017880614782234905,
           0.01988874453882694,
           0.021707236373218475,
           0.023308698536368633,
           0.02467045127605616,
           0.02577563947986672,
           0.026613878044432715,
           0.02718130739381608,
           0.02748009024267095,
           0.027518002750008208,
           0.027310632301021154,
           0.02689347885983262
          ],
          [
           0.0031828650162248895,
           0.0005975714579411484,
           0.0020291155640743685,
           0.004666415906430688,
           0.007305981123016281,
           0.009933587158511337,
           0.012525422082678928,
           0.015050720282783203,
           0.017474993822713003,
           0.019762597228517143,
           0.021878669248833083,
           0.02379069470313011,
           0.025469838123663435,
           0.02689210113156515,
           0.0280393217103051,
           0.028900064283133298,
           0.02947049875021157,
           0.029755301957098745,
           0.029768081471255092,
           0.029528933224765297,
           0.02905143687581624
          ],
          [
           0.002630838068841568,
           0.00012276712094827502,
           0.0028880558924606614,
           0.0056831140687632065,
           0.00848913326892653,
           0.011279592115714498,
           0.01402529564463073,
           0.016694274483470384,
           0.019251874433674043,
           0.021661825766892462,
           0.02388793235798048,
           0.025895947669286157,
           0.027655363187303883,
           0.029140966724541806,
           0.030334080585325163,
           0.031223371482210216,
           0.031805074632212604,
           0.03208251437069232,
           0.03206529651627443,
           0.03177048039902314,
           0.031233856270033167
          ],
          [
           0.0021442270179441447,
           0.0007816333790664487,
           0.003741768071174878,
           0.006709659854013061,
           0.009676266656721388,
           0.012623835295053842,
           0.015524426850971773,
           0.018343372261299118,
           0.021042530523762037,
           0.023582708604217295,
           0.025925562652447054,
           0.028035261670762424,
           0.029880004794915815,
           0.03143336455336909,
           0.03267540693250637,
           0.03359359719469024,
           0.0341836045758499,
           0.03445016192991224,
           0.03440775286180231,
           0.034079012709916645,
           0.03348251218070858
          ],
          [
           0.001656255162127307,
           0.0014495127415767861,
           0.004566843768632145,
           0.007708627500981224,
           0.010853847331945055,
           0.013974691071304335,
           0.01703984544958681,
           0.020014097820585608,
           0.022858826839847746,
           0.025533569179922333,
           0.027998073033831172,
           0.030214390569695104,
           0.03214879074143584,
           0.033773409199780335,
           0.03506759143867866,
           0.03601885070313482,
           0.03662327593607473,
           0.03688517335914565,
           0.03681606192264886,
           0.03643501418846684,
           0.03577894313106589
          ],
          [
           0.0012176641499002105,
           0.002073515330829556,
           0.005393507273314002,
           0.00871883626524661,
           0.012038992862331899,
           0.015332604298826213,
           0.018567754591244823,
           0.021705891342099992,
           0.02470499932554393,
           0.027521935901949623,
           0.03011440060754267,
           0.03244278711586257,
           0.03447193307043417,
           0.03617267659055323,
           0.03752312392972157,
           0.038509602668215015,
           0.0391274049735324,
           0.03938154914306902,
           0.03928756652098764,
           0.03887055087971003,
           0.038153819789070675
          ],
          [
           0.0007805402601073208,
           0.002704359344258389,
           0.006200376985219691,
           0.00971615691116079,
           0.013228815650978776,
           0.01670887886551875,
           0.020122274061351808,
           0.023429959888844776,
           0.026588906894672748,
           0.029554119669733758,
           0.03228099301241283,
           0.034727591513328715,
           0.0368566915982258,
           0.03863754018323151,
           0.04004730896551212,
           0.04107218713744987,
           0.041707959163888475,
           0.04195980002394717,
           0.04184120031236871,
           0.0413736499743218,
           0.040595877802750424
          ],
          [
           0.00038067353077897437,
           0.0033048949912748427,
           0.007015058012449726,
           0.010728489175523936,
           0.014432710512310765,
           0.018102661336083292,
           0.021702429986208305,
           0.02518938472263632,
           0.0285172526721027,
           0.03163846094052247,
           0.03450626501651932,
           0.037076840921240084,
           0.03931128544745266,
           0.04117739136384402,
           0.042651076494614304,
           0.04371741466783663,
           0.04437134971884582,
           0.04461834976311363,
           0.04447519219011853,
           0.043969491307881636,
           0.04312924338347168
          ],
          [
           0.00001735467631314158,
           0.003912763625080196,
           0.007818775917878273,
           0.011740458019766198,
           0.015653160030484115,
           0.0195253211855686,
           0.02331953952489929,
           0.02699243829634823,
           0.030496157799655865,
           0.03378078353214753,
           0.03679696908334318,
           0.03949840457286968,
           0.04184401589527975,
           0.04379986404530034,
           0.045340726934965714,
           0.04645131881512454,
           0.04712701558099841,
           0.04737380464004659,
           0.04720721626219759,
           0.046651496638022594,
           0.04574780440969617
          ],
          [
           0.0003874567222963421,
           0.004501048171334787,
           0.008635963733617524,
           0.01277234464852195,
           0.016895386423364966,
           0.020976242333285322,
           0.02497485353574902,
           0.028844175893532054,
           0.032533204852797315,
           0.035989413413760385,
           0.039161109055315,
           0.04199979863024872,
           0.04446244692544554,
           0.04651347237282799,
           0.04812634830103901,
           0.049284738640064774,
           0.04998321848879794,
           0.05022783386203189,
           0.05003682341004945,
           0.04944048139087076,
           0.048471545805848004
          ],
          [
           0.0007564881269683799,
           0.0050984462233278904,
           0.009450539770664568,
           0.013814730676223741,
           0.018164556503172946,
           0.022465925322607827,
           0.02667757548870875,
           0.030751310936647958,
           0.03463399495258468,
           0.03827034520387307,
           0.04160581106544625,
           0.04458925069744968,
           0.04717532349787956,
           0.049326564757300684,
           0.051015115039149794,
           0.05222406422170223,
           0.05294830394715755,
           0.053194619457749615,
           0.05298067092001235,
           0.05233377448660237,
           0.051298092635176595
          ],
          [
           0.0011049782075163161,
           0.0056850384611388805,
           0.010283892287627827,
           0.014882608069133996,
           0.01946376899398561,
           0.02399459376141877,
           0.028430617848288264,
           0.032719955269380874,
           0.0368063328738637,
           0.040631707121758565,
           0.0441389029138044,
           0.04727427501093606,
           0.049990233166496534,
           0.05224746392369295,
           0.05401671572690647,
           0.05528006266348662,
           0.05603166445090979,
           0.05627825312139778,
           0.05603975648239279,
           0.055349379145362754,
           0.05424476843261605
          ]
         ]
        }
       ],
       "layout": {
        "height": 600,
        "margin": {
         "b": 20,
         "l": 10,
         "r": 10,
         "t": 60
        },
        "scene": {
         "xaxis": {
          "title": {
           "text": "x"
          }
         },
         "yaxis": {
          "title": {
           "text": "t"
          }
         },
         "zaxis": {
          "title": {
           "text": "|u(x,t)-u0(x,t)|"
          }
         }
        },
        "template": {
         "data": {
          "bar": [
           {
            "error_x": {
             "color": "#2a3f5f"
            },
            "error_y": {
             "color": "#2a3f5f"
            },
            "marker": {
             "line": {
              "color": "#E5ECF6",
              "width": 0.5
             },
             "pattern": {
              "fillmode": "overlay",
              "size": 10,
              "solidity": 0.2
             }
            },
            "type": "bar"
           }
          ],
          "barpolar": [
           {
            "marker": {
             "line": {
              "color": "#E5ECF6",
              "width": 0.5
             },
             "pattern": {
              "fillmode": "overlay",
              "size": 10,
              "solidity": 0.2
             }
            },
            "type": "barpolar"
           }
          ],
          "carpet": [
           {
            "aaxis": {
             "endlinecolor": "#2a3f5f",
             "gridcolor": "white",
             "linecolor": "white",
             "minorgridcolor": "white",
             "startlinecolor": "#2a3f5f"
            },
            "baxis": {
             "endlinecolor": "#2a3f5f",
             "gridcolor": "white",
             "linecolor": "white",
             "minorgridcolor": "white",
             "startlinecolor": "#2a3f5f"
            },
            "type": "carpet"
           }
          ],
          "choropleth": [
           {
            "colorbar": {
             "outlinewidth": 0,
             "ticks": ""
            },
            "type": "choropleth"
           }
          ],
          "contour": [
           {
            "colorbar": {
             "outlinewidth": 0,
             "ticks": ""
            },
            "colorscale": [
             [
              0,
              "#0d0887"
             ],
             [
              0.1111111111111111,
              "#46039f"
             ],
             [
              0.2222222222222222,
              "#7201a8"
             ],
             [
              0.3333333333333333,
              "#9c179e"
             ],
             [
              0.4444444444444444,
              "#bd3786"
             ],
             [
              0.5555555555555556,
              "#d8576b"
             ],
             [
              0.6666666666666666,
              "#ed7953"
             ],
             [
              0.7777777777777778,
              "#fb9f3a"
             ],
             [
              0.8888888888888888,
              "#fdca26"
             ],
             [
              1,
              "#f0f921"
             ]
            ],
            "type": "contour"
           }
          ],
          "contourcarpet": [
           {
            "colorbar": {
             "outlinewidth": 0,
             "ticks": ""
            },
            "type": "contourcarpet"
           }
          ],
          "heatmap": [
           {
            "colorbar": {
             "outlinewidth": 0,
             "ticks": ""
            },
            "colorscale": [
             [
              0,
              "#0d0887"
             ],
             [
              0.1111111111111111,
              "#46039f"
             ],
             [
              0.2222222222222222,
              "#7201a8"
             ],
             [
              0.3333333333333333,
              "#9c179e"
             ],
             [
              0.4444444444444444,
              "#bd3786"
             ],
             [
              0.5555555555555556,
              "#d8576b"
             ],
             [
              0.6666666666666666,
              "#ed7953"
             ],
             [
              0.7777777777777778,
              "#fb9f3a"
             ],
             [
              0.8888888888888888,
              "#fdca26"
             ],
             [
              1,
              "#f0f921"
             ]
            ],
            "type": "heatmap"
           }
          ],
          "heatmapgl": [
           {
            "colorbar": {
             "outlinewidth": 0,
             "ticks": ""
            },
            "colorscale": [
             [
              0,
              "#0d0887"
             ],
             [
              0.1111111111111111,
              "#46039f"
             ],
             [
              0.2222222222222222,
              "#7201a8"
             ],
             [
              0.3333333333333333,
              "#9c179e"
             ],
             [
              0.4444444444444444,
              "#bd3786"
             ],
             [
              0.5555555555555556,
              "#d8576b"
             ],
             [
              0.6666666666666666,
              "#ed7953"
             ],
             [
              0.7777777777777778,
              "#fb9f3a"
             ],
             [
              0.8888888888888888,
              "#fdca26"
             ],
             [
              1,
              "#f0f921"
             ]
            ],
            "type": "heatmapgl"
           }
          ],
          "histogram": [
           {
            "marker": {
             "pattern": {
              "fillmode": "overlay",
              "size": 10,
              "solidity": 0.2
             }
            },
            "type": "histogram"
           }
          ],
          "histogram2d": [
           {
            "colorbar": {
             "outlinewidth": 0,
             "ticks": ""
            },
            "colorscale": [
             [
              0,
              "#0d0887"
             ],
             [
              0.1111111111111111,
              "#46039f"
             ],
             [
              0.2222222222222222,
              "#7201a8"
             ],
             [
              0.3333333333333333,
              "#9c179e"
             ],
             [
              0.4444444444444444,
              "#bd3786"
             ],
             [
              0.5555555555555556,
              "#d8576b"
             ],
             [
              0.6666666666666666,
              "#ed7953"
             ],
             [
              0.7777777777777778,
              "#fb9f3a"
             ],
             [
              0.8888888888888888,
              "#fdca26"
             ],
             [
              1,
              "#f0f921"
             ]
            ],
            "type": "histogram2d"
           }
          ],
          "histogram2dcontour": [
           {
            "colorbar": {
             "outlinewidth": 0,
             "ticks": ""
            },
            "colorscale": [
             [
              0,
              "#0d0887"
             ],
             [
              0.1111111111111111,
              "#46039f"
             ],
             [
              0.2222222222222222,
              "#7201a8"
             ],
             [
              0.3333333333333333,
              "#9c179e"
             ],
             [
              0.4444444444444444,
              "#bd3786"
             ],
             [
              0.5555555555555556,
              "#d8576b"
             ],
             [
              0.6666666666666666,
              "#ed7953"
             ],
             [
              0.7777777777777778,
              "#fb9f3a"
             ],
             [
              0.8888888888888888,
              "#fdca26"
             ],
             [
              1,
              "#f0f921"
             ]
            ],
            "type": "histogram2dcontour"
           }
          ],
          "mesh3d": [
           {
            "colorbar": {
             "outlinewidth": 0,
             "ticks": ""
            },
            "type": "mesh3d"
           }
          ],
          "parcoords": [
           {
            "line": {
             "colorbar": {
              "outlinewidth": 0,
              "ticks": ""
             }
            },
            "type": "parcoords"
           }
          ],
          "pie": [
           {
            "automargin": true,
            "type": "pie"
           }
          ],
          "scatter": [
           {
            "marker": {
             "colorbar": {
              "outlinewidth": 0,
              "ticks": ""
             }
            },
            "type": "scatter"
           }
          ],
          "scatter3d": [
           {
            "line": {
             "colorbar": {
              "outlinewidth": 0,
              "ticks": ""
             }
            },
            "marker": {
             "colorbar": {
              "outlinewidth": 0,
              "ticks": ""
             }
            },
            "type": "scatter3d"
           }
          ],
          "scattercarpet": [
           {
            "marker": {
             "colorbar": {
              "outlinewidth": 0,
              "ticks": ""
             }
            },
            "type": "scattercarpet"
           }
          ],
          "scattergeo": [
           {
            "marker": {
             "colorbar": {
              "outlinewidth": 0,
              "ticks": ""
             }
            },
            "type": "scattergeo"
           }
          ],
          "scattergl": [
           {
            "marker": {
             "colorbar": {
              "outlinewidth": 0,
              "ticks": ""
             }
            },
            "type": "scattergl"
           }
          ],
          "scattermapbox": [
           {
            "marker": {
             "colorbar": {
              "outlinewidth": 0,
              "ticks": ""
             }
            },
            "type": "scattermapbox"
           }
          ],
          "scatterpolar": [
           {
            "marker": {
             "colorbar": {
              "outlinewidth": 0,
              "ticks": ""
             }
            },
            "type": "scatterpolar"
           }
          ],
          "scatterpolargl": [
           {
            "marker": {
             "colorbar": {
              "outlinewidth": 0,
              "ticks": ""
             }
            },
            "type": "scatterpolargl"
           }
          ],
          "scatterternary": [
           {
            "marker": {
             "colorbar": {
              "outlinewidth": 0,
              "ticks": ""
             }
            },
            "type": "scatterternary"
           }
          ],
          "surface": [
           {
            "colorbar": {
             "outlinewidth": 0,
             "ticks": ""
            },
            "colorscale": [
             [
              0,
              "#0d0887"
             ],
             [
              0.1111111111111111,
              "#46039f"
             ],
             [
              0.2222222222222222,
              "#7201a8"
             ],
             [
              0.3333333333333333,
              "#9c179e"
             ],
             [
              0.4444444444444444,
              "#bd3786"
             ],
             [
              0.5555555555555556,
              "#d8576b"
             ],
             [
              0.6666666666666666,
              "#ed7953"
             ],
             [
              0.7777777777777778,
              "#fb9f3a"
             ],
             [
              0.8888888888888888,
              "#fdca26"
             ],
             [
              1,
              "#f0f921"
             ]
            ],
            "type": "surface"
           }
          ],
          "table": [
           {
            "cells": {
             "fill": {
              "color": "#EBF0F8"
             },
             "line": {
              "color": "white"
             }
            },
            "header": {
             "fill": {
              "color": "#C8D4E3"
             },
             "line": {
              "color": "white"
             }
            },
            "type": "table"
           }
          ]
         },
         "layout": {
          "annotationdefaults": {
           "arrowcolor": "#2a3f5f",
           "arrowhead": 0,
           "arrowwidth": 1
          },
          "autotypenumbers": "strict",
          "coloraxis": {
           "colorbar": {
            "outlinewidth": 0,
            "ticks": ""
           }
          },
          "colorscale": {
           "diverging": [
            [
             0,
             "#8e0152"
            ],
            [
             0.1,
             "#c51b7d"
            ],
            [
             0.2,
             "#de77ae"
            ],
            [
             0.3,
             "#f1b6da"
            ],
            [
             0.4,
             "#fde0ef"
            ],
            [
             0.5,
             "#f7f7f7"
            ],
            [
             0.6,
             "#e6f5d0"
            ],
            [
             0.7,
             "#b8e186"
            ],
            [
             0.8,
             "#7fbc41"
            ],
            [
             0.9,
             "#4d9221"
            ],
            [
             1,
             "#276419"
            ]
           ],
           "sequential": [
            [
             0,
             "#0d0887"
            ],
            [
             0.1111111111111111,
             "#46039f"
            ],
            [
             0.2222222222222222,
             "#7201a8"
            ],
            [
             0.3333333333333333,
             "#9c179e"
            ],
            [
             0.4444444444444444,
             "#bd3786"
            ],
            [
             0.5555555555555556,
             "#d8576b"
            ],
            [
             0.6666666666666666,
             "#ed7953"
            ],
            [
             0.7777777777777778,
             "#fb9f3a"
            ],
            [
             0.8888888888888888,
             "#fdca26"
            ],
            [
             1,
             "#f0f921"
            ]
           ],
           "sequentialminus": [
            [
             0,
             "#0d0887"
            ],
            [
             0.1111111111111111,
             "#46039f"
            ],
            [
             0.2222222222222222,
             "#7201a8"
            ],
            [
             0.3333333333333333,
             "#9c179e"
            ],
            [
             0.4444444444444444,
             "#bd3786"
            ],
            [
             0.5555555555555556,
             "#d8576b"
            ],
            [
             0.6666666666666666,
             "#ed7953"
            ],
            [
             0.7777777777777778,
             "#fb9f3a"
            ],
            [
             0.8888888888888888,
             "#fdca26"
            ],
            [
             1,
             "#f0f921"
            ]
           ]
          },
          "colorway": [
           "#636efa",
           "#EF553B",
           "#00cc96",
           "#ab63fa",
           "#FFA15A",
           "#19d3f3",
           "#FF6692",
           "#B6E880",
           "#FF97FF",
           "#FECB52"
          ],
          "font": {
           "color": "#2a3f5f"
          },
          "geo": {
           "bgcolor": "white",
           "lakecolor": "white",
           "landcolor": "#E5ECF6",
           "showlakes": true,
           "showland": true,
           "subunitcolor": "white"
          },
          "hoverlabel": {
           "align": "left"
          },
          "hovermode": "closest",
          "mapbox": {
           "style": "light"
          },
          "paper_bgcolor": "white",
          "plot_bgcolor": "#E5ECF6",
          "polar": {
           "angularaxis": {
            "gridcolor": "white",
            "linecolor": "white",
            "ticks": ""
           },
           "bgcolor": "#E5ECF6",
           "radialaxis": {
            "gridcolor": "white",
            "linecolor": "white",
            "ticks": ""
           }
          },
          "scene": {
           "xaxis": {
            "backgroundcolor": "#E5ECF6",
            "gridcolor": "white",
            "gridwidth": 2,
            "linecolor": "white",
            "showbackground": true,
            "ticks": "",
            "zerolinecolor": "white"
           },
           "yaxis": {
            "backgroundcolor": "#E5ECF6",
            "gridcolor": "white",
            "gridwidth": 2,
            "linecolor": "white",
            "showbackground": true,
            "ticks": "",
            "zerolinecolor": "white"
           },
           "zaxis": {
            "backgroundcolor": "#E5ECF6",
            "gridcolor": "white",
            "gridwidth": 2,
            "linecolor": "white",
            "showbackground": true,
            "ticks": "",
            "zerolinecolor": "white"
           }
          },
          "shapedefaults": {
           "line": {
            "color": "#2a3f5f"
           }
          },
          "ternary": {
           "aaxis": {
            "gridcolor": "white",
            "linecolor": "white",
            "ticks": ""
           },
           "baxis": {
            "gridcolor": "white",
            "linecolor": "white",
            "ticks": ""
           },
           "bgcolor": "#E5ECF6",
           "caxis": {
            "gridcolor": "white",
            "linecolor": "white",
            "ticks": ""
           }
          },
          "title": {
           "x": 0.05
          },
          "xaxis": {
           "automargin": true,
           "gridcolor": "white",
           "linecolor": "white",
           "ticks": "",
           "title": {
            "standoff": 15
           },
           "zerolinecolor": "white",
           "zerolinewidth": 2
          },
          "yaxis": {
           "automargin": true,
           "gridcolor": "white",
           "linecolor": "white",
           "ticks": "",
           "title": {
            "standoff": 15
           },
           "zerolinecolor": "white",
           "zerolinewidth": 2
          }
         }
        },
        "title": {
         "text": "Модуль ошибки в каждой точке сетки (1 порядок точности производной)"
        },
        "width": 1000
       }
      }
     },
     "metadata": {},
     "output_type": "display_data"
    }
   ],
   "source": [
    "error_graph(order=1)"
   ]
  },
  {
   "cell_type": "code",
   "execution_count": 115,
   "metadata": {},
   "outputs": [
    {
     "data": {
      "application/vnd.plotly.v1+json": {
       "config": {
        "plotlyServerURL": "https://plot.ly"
       },
       "data": [
        {
         "type": "surface",
         "x": [
          [
           0,
           0.05,
           0.1,
           0.15000000000000002,
           0.2,
           0.25,
           0.30000000000000004,
           0.35000000000000003,
           0.4,
           0.45,
           0.5,
           0.55,
           0.6000000000000001,
           0.65,
           0.7000000000000001,
           0.75,
           0.8,
           0.8500000000000001,
           0.9,
           0.9500000000000001,
           1
          ],
          [
           0,
           0.05,
           0.1,
           0.15000000000000002,
           0.2,
           0.25,
           0.30000000000000004,
           0.35000000000000003,
           0.4,
           0.45,
           0.5,
           0.55,
           0.6000000000000001,
           0.65,
           0.7000000000000001,
           0.75,
           0.8,
           0.8500000000000001,
           0.9,
           0.9500000000000001,
           1
          ],
          [
           0,
           0.05,
           0.1,
           0.15000000000000002,
           0.2,
           0.25,
           0.30000000000000004,
           0.35000000000000003,
           0.4,
           0.45,
           0.5,
           0.55,
           0.6000000000000001,
           0.65,
           0.7000000000000001,
           0.75,
           0.8,
           0.8500000000000001,
           0.9,
           0.9500000000000001,
           1
          ],
          [
           0,
           0.05,
           0.1,
           0.15000000000000002,
           0.2,
           0.25,
           0.30000000000000004,
           0.35000000000000003,
           0.4,
           0.45,
           0.5,
           0.55,
           0.6000000000000001,
           0.65,
           0.7000000000000001,
           0.75,
           0.8,
           0.8500000000000001,
           0.9,
           0.9500000000000001,
           1
          ],
          [
           0,
           0.05,
           0.1,
           0.15000000000000002,
           0.2,
           0.25,
           0.30000000000000004,
           0.35000000000000003,
           0.4,
           0.45,
           0.5,
           0.55,
           0.6000000000000001,
           0.65,
           0.7000000000000001,
           0.75,
           0.8,
           0.8500000000000001,
           0.9,
           0.9500000000000001,
           1
          ],
          [
           0,
           0.05,
           0.1,
           0.15000000000000002,
           0.2,
           0.25,
           0.30000000000000004,
           0.35000000000000003,
           0.4,
           0.45,
           0.5,
           0.55,
           0.6000000000000001,
           0.65,
           0.7000000000000001,
           0.75,
           0.8,
           0.8500000000000001,
           0.9,
           0.9500000000000001,
           1
          ],
          [
           0,
           0.05,
           0.1,
           0.15000000000000002,
           0.2,
           0.25,
           0.30000000000000004,
           0.35000000000000003,
           0.4,
           0.45,
           0.5,
           0.55,
           0.6000000000000001,
           0.65,
           0.7000000000000001,
           0.75,
           0.8,
           0.8500000000000001,
           0.9,
           0.9500000000000001,
           1
          ],
          [
           0,
           0.05,
           0.1,
           0.15000000000000002,
           0.2,
           0.25,
           0.30000000000000004,
           0.35000000000000003,
           0.4,
           0.45,
           0.5,
           0.55,
           0.6000000000000001,
           0.65,
           0.7000000000000001,
           0.75,
           0.8,
           0.8500000000000001,
           0.9,
           0.9500000000000001,
           1
          ],
          [
           0,
           0.05,
           0.1,
           0.15000000000000002,
           0.2,
           0.25,
           0.30000000000000004,
           0.35000000000000003,
           0.4,
           0.45,
           0.5,
           0.55,
           0.6000000000000001,
           0.65,
           0.7000000000000001,
           0.75,
           0.8,
           0.8500000000000001,
           0.9,
           0.9500000000000001,
           1
          ],
          [
           0,
           0.05,
           0.1,
           0.15000000000000002,
           0.2,
           0.25,
           0.30000000000000004,
           0.35000000000000003,
           0.4,
           0.45,
           0.5,
           0.55,
           0.6000000000000001,
           0.65,
           0.7000000000000001,
           0.75,
           0.8,
           0.8500000000000001,
           0.9,
           0.9500000000000001,
           1
          ],
          [
           0,
           0.05,
           0.1,
           0.15000000000000002,
           0.2,
           0.25,
           0.30000000000000004,
           0.35000000000000003,
           0.4,
           0.45,
           0.5,
           0.55,
           0.6000000000000001,
           0.65,
           0.7000000000000001,
           0.75,
           0.8,
           0.8500000000000001,
           0.9,
           0.9500000000000001,
           1
          ],
          [
           0,
           0.05,
           0.1,
           0.15000000000000002,
           0.2,
           0.25,
           0.30000000000000004,
           0.35000000000000003,
           0.4,
           0.45,
           0.5,
           0.55,
           0.6000000000000001,
           0.65,
           0.7000000000000001,
           0.75,
           0.8,
           0.8500000000000001,
           0.9,
           0.9500000000000001,
           1
          ],
          [
           0,
           0.05,
           0.1,
           0.15000000000000002,
           0.2,
           0.25,
           0.30000000000000004,
           0.35000000000000003,
           0.4,
           0.45,
           0.5,
           0.55,
           0.6000000000000001,
           0.65,
           0.7000000000000001,
           0.75,
           0.8,
           0.8500000000000001,
           0.9,
           0.9500000000000001,
           1
          ],
          [
           0,
           0.05,
           0.1,
           0.15000000000000002,
           0.2,
           0.25,
           0.30000000000000004,
           0.35000000000000003,
           0.4,
           0.45,
           0.5,
           0.55,
           0.6000000000000001,
           0.65,
           0.7000000000000001,
           0.75,
           0.8,
           0.8500000000000001,
           0.9,
           0.9500000000000001,
           1
          ],
          [
           0,
           0.05,
           0.1,
           0.15000000000000002,
           0.2,
           0.25,
           0.30000000000000004,
           0.35000000000000003,
           0.4,
           0.45,
           0.5,
           0.55,
           0.6000000000000001,
           0.65,
           0.7000000000000001,
           0.75,
           0.8,
           0.8500000000000001,
           0.9,
           0.9500000000000001,
           1
          ],
          [
           0,
           0.05,
           0.1,
           0.15000000000000002,
           0.2,
           0.25,
           0.30000000000000004,
           0.35000000000000003,
           0.4,
           0.45,
           0.5,
           0.55,
           0.6000000000000001,
           0.65,
           0.7000000000000001,
           0.75,
           0.8,
           0.8500000000000001,
           0.9,
           0.9500000000000001,
           1
          ],
          [
           0,
           0.05,
           0.1,
           0.15000000000000002,
           0.2,
           0.25,
           0.30000000000000004,
           0.35000000000000003,
           0.4,
           0.45,
           0.5,
           0.55,
           0.6000000000000001,
           0.65,
           0.7000000000000001,
           0.75,
           0.8,
           0.8500000000000001,
           0.9,
           0.9500000000000001,
           1
          ],
          [
           0,
           0.05,
           0.1,
           0.15000000000000002,
           0.2,
           0.25,
           0.30000000000000004,
           0.35000000000000003,
           0.4,
           0.45,
           0.5,
           0.55,
           0.6000000000000001,
           0.65,
           0.7000000000000001,
           0.75,
           0.8,
           0.8500000000000001,
           0.9,
           0.9500000000000001,
           1
          ],
          [
           0,
           0.05,
           0.1,
           0.15000000000000002,
           0.2,
           0.25,
           0.30000000000000004,
           0.35000000000000003,
           0.4,
           0.45,
           0.5,
           0.55,
           0.6000000000000001,
           0.65,
           0.7000000000000001,
           0.75,
           0.8,
           0.8500000000000001,
           0.9,
           0.9500000000000001,
           1
          ],
          [
           0,
           0.05,
           0.1,
           0.15000000000000002,
           0.2,
           0.25,
           0.30000000000000004,
           0.35000000000000003,
           0.4,
           0.45,
           0.5,
           0.55,
           0.6000000000000001,
           0.65,
           0.7000000000000001,
           0.75,
           0.8,
           0.8500000000000001,
           0.9,
           0.9500000000000001,
           1
          ],
          [
           0,
           0.05,
           0.1,
           0.15000000000000002,
           0.2,
           0.25,
           0.30000000000000004,
           0.35000000000000003,
           0.4,
           0.45,
           0.5,
           0.55,
           0.6000000000000001,
           0.65,
           0.7000000000000001,
           0.75,
           0.8,
           0.8500000000000001,
           0.9,
           0.9500000000000001,
           1
          ]
         ],
         "y": [
          [
           0,
           0,
           0,
           0,
           0,
           0,
           0,
           0,
           0,
           0,
           0,
           0,
           0,
           0,
           0,
           0,
           0,
           0,
           0,
           0,
           0
          ],
          [
           0.05,
           0.05,
           0.05,
           0.05,
           0.05,
           0.05,
           0.05,
           0.05,
           0.05,
           0.05,
           0.05,
           0.05,
           0.05,
           0.05,
           0.05,
           0.05,
           0.05,
           0.05,
           0.05,
           0.05,
           0.05
          ],
          [
           0.1,
           0.1,
           0.1,
           0.1,
           0.1,
           0.1,
           0.1,
           0.1,
           0.1,
           0.1,
           0.1,
           0.1,
           0.1,
           0.1,
           0.1,
           0.1,
           0.1,
           0.1,
           0.1,
           0.1,
           0.1
          ],
          [
           0.15000000000000002,
           0.15000000000000002,
           0.15000000000000002,
           0.15000000000000002,
           0.15000000000000002,
           0.15000000000000002,
           0.15000000000000002,
           0.15000000000000002,
           0.15000000000000002,
           0.15000000000000002,
           0.15000000000000002,
           0.15000000000000002,
           0.15000000000000002,
           0.15000000000000002,
           0.15000000000000002,
           0.15000000000000002,
           0.15000000000000002,
           0.15000000000000002,
           0.15000000000000002,
           0.15000000000000002,
           0.15000000000000002
          ],
          [
           0.2,
           0.2,
           0.2,
           0.2,
           0.2,
           0.2,
           0.2,
           0.2,
           0.2,
           0.2,
           0.2,
           0.2,
           0.2,
           0.2,
           0.2,
           0.2,
           0.2,
           0.2,
           0.2,
           0.2,
           0.2
          ],
          [
           0.25,
           0.25,
           0.25,
           0.25,
           0.25,
           0.25,
           0.25,
           0.25,
           0.25,
           0.25,
           0.25,
           0.25,
           0.25,
           0.25,
           0.25,
           0.25,
           0.25,
           0.25,
           0.25,
           0.25,
           0.25
          ],
          [
           0.30000000000000004,
           0.30000000000000004,
           0.30000000000000004,
           0.30000000000000004,
           0.30000000000000004,
           0.30000000000000004,
           0.30000000000000004,
           0.30000000000000004,
           0.30000000000000004,
           0.30000000000000004,
           0.30000000000000004,
           0.30000000000000004,
           0.30000000000000004,
           0.30000000000000004,
           0.30000000000000004,
           0.30000000000000004,
           0.30000000000000004,
           0.30000000000000004,
           0.30000000000000004,
           0.30000000000000004,
           0.30000000000000004
          ],
          [
           0.35000000000000003,
           0.35000000000000003,
           0.35000000000000003,
           0.35000000000000003,
           0.35000000000000003,
           0.35000000000000003,
           0.35000000000000003,
           0.35000000000000003,
           0.35000000000000003,
           0.35000000000000003,
           0.35000000000000003,
           0.35000000000000003,
           0.35000000000000003,
           0.35000000000000003,
           0.35000000000000003,
           0.35000000000000003,
           0.35000000000000003,
           0.35000000000000003,
           0.35000000000000003,
           0.35000000000000003,
           0.35000000000000003
          ],
          [
           0.4,
           0.4,
           0.4,
           0.4,
           0.4,
           0.4,
           0.4,
           0.4,
           0.4,
           0.4,
           0.4,
           0.4,
           0.4,
           0.4,
           0.4,
           0.4,
           0.4,
           0.4,
           0.4,
           0.4,
           0.4
          ],
          [
           0.45,
           0.45,
           0.45,
           0.45,
           0.45,
           0.45,
           0.45,
           0.45,
           0.45,
           0.45,
           0.45,
           0.45,
           0.45,
           0.45,
           0.45,
           0.45,
           0.45,
           0.45,
           0.45,
           0.45,
           0.45
          ],
          [
           0.5,
           0.5,
           0.5,
           0.5,
           0.5,
           0.5,
           0.5,
           0.5,
           0.5,
           0.5,
           0.5,
           0.5,
           0.5,
           0.5,
           0.5,
           0.5,
           0.5,
           0.5,
           0.5,
           0.5,
           0.5
          ],
          [
           0.55,
           0.55,
           0.55,
           0.55,
           0.55,
           0.55,
           0.55,
           0.55,
           0.55,
           0.55,
           0.55,
           0.55,
           0.55,
           0.55,
           0.55,
           0.55,
           0.55,
           0.55,
           0.55,
           0.55,
           0.55
          ],
          [
           0.6000000000000001,
           0.6000000000000001,
           0.6000000000000001,
           0.6000000000000001,
           0.6000000000000001,
           0.6000000000000001,
           0.6000000000000001,
           0.6000000000000001,
           0.6000000000000001,
           0.6000000000000001,
           0.6000000000000001,
           0.6000000000000001,
           0.6000000000000001,
           0.6000000000000001,
           0.6000000000000001,
           0.6000000000000001,
           0.6000000000000001,
           0.6000000000000001,
           0.6000000000000001,
           0.6000000000000001,
           0.6000000000000001
          ],
          [
           0.65,
           0.65,
           0.65,
           0.65,
           0.65,
           0.65,
           0.65,
           0.65,
           0.65,
           0.65,
           0.65,
           0.65,
           0.65,
           0.65,
           0.65,
           0.65,
           0.65,
           0.65,
           0.65,
           0.65,
           0.65
          ],
          [
           0.7000000000000001,
           0.7000000000000001,
           0.7000000000000001,
           0.7000000000000001,
           0.7000000000000001,
           0.7000000000000001,
           0.7000000000000001,
           0.7000000000000001,
           0.7000000000000001,
           0.7000000000000001,
           0.7000000000000001,
           0.7000000000000001,
           0.7000000000000001,
           0.7000000000000001,
           0.7000000000000001,
           0.7000000000000001,
           0.7000000000000001,
           0.7000000000000001,
           0.7000000000000001,
           0.7000000000000001,
           0.7000000000000001
          ],
          [
           0.75,
           0.75,
           0.75,
           0.75,
           0.75,
           0.75,
           0.75,
           0.75,
           0.75,
           0.75,
           0.75,
           0.75,
           0.75,
           0.75,
           0.75,
           0.75,
           0.75,
           0.75,
           0.75,
           0.75,
           0.75
          ],
          [
           0.8,
           0.8,
           0.8,
           0.8,
           0.8,
           0.8,
           0.8,
           0.8,
           0.8,
           0.8,
           0.8,
           0.8,
           0.8,
           0.8,
           0.8,
           0.8,
           0.8,
           0.8,
           0.8,
           0.8,
           0.8
          ],
          [
           0.8500000000000001,
           0.8500000000000001,
           0.8500000000000001,
           0.8500000000000001,
           0.8500000000000001,
           0.8500000000000001,
           0.8500000000000001,
           0.8500000000000001,
           0.8500000000000001,
           0.8500000000000001,
           0.8500000000000001,
           0.8500000000000001,
           0.8500000000000001,
           0.8500000000000001,
           0.8500000000000001,
           0.8500000000000001,
           0.8500000000000001,
           0.8500000000000001,
           0.8500000000000001,
           0.8500000000000001,
           0.8500000000000001
          ],
          [
           0.9,
           0.9,
           0.9,
           0.9,
           0.9,
           0.9,
           0.9,
           0.9,
           0.9,
           0.9,
           0.9,
           0.9,
           0.9,
           0.9,
           0.9,
           0.9,
           0.9,
           0.9,
           0.9,
           0.9,
           0.9
          ],
          [
           0.9500000000000001,
           0.9500000000000001,
           0.9500000000000001,
           0.9500000000000001,
           0.9500000000000001,
           0.9500000000000001,
           0.9500000000000001,
           0.9500000000000001,
           0.9500000000000001,
           0.9500000000000001,
           0.9500000000000001,
           0.9500000000000001,
           0.9500000000000001,
           0.9500000000000001,
           0.9500000000000001,
           0.9500000000000001,
           0.9500000000000001,
           0.9500000000000001,
           0.9500000000000001,
           0.9500000000000001,
           0.9500000000000001
          ],
          [
           1,
           1,
           1,
           1,
           1,
           1,
           1,
           1,
           1,
           1,
           1,
           1,
           1,
           1,
           1,
           1,
           1,
           1,
           1,
           1,
           1
          ]
         ],
         "z": [
          [
           0,
           0,
           0,
           0,
           0,
           0,
           0,
           0,
           0,
           0,
           0,
           0,
           0,
           0,
           0,
           0,
           0,
           0,
           0,
           0,
           0
          ],
          [
           0.0007054653705059755,
           0.0007729880889878471,
           0.0009063117284163758,
           0.0011026625371982623,
           0.0013556356516812862,
           0.0016557190847776848,
           0.001990893350658607,
           0.0023472925814741474,
           0.002709905204490326,
           0.003063287051355723,
           0.0033922570523934326,
           0.0036825452446543894,
           0.0039213644241369305,
           0.004097880042686186,
           0.004203557449905082,
           0.004232370804031771,
           0.004180863367807874,
           0.0040480538789834375,
           0.003835187635987336,
           0.003545333252558236,
           0.0031828260810375375
          ],
          [
           0.0022560557352792054,
           0.0024109597372632408,
           0.002651772585854917,
           0.0029750850598255774,
           0.0033726231483099944,
           0.003831761326360539,
           0.004336241912284544,
           0.004867048718042222,
           0.0054033856203229425,
           0.0059237127906334175,
           0.006406796399072046,
           0.006832732504366779,
           0.00718391312523825,
           0.00744591253659721,
           0.007608284960057832,
           0.0076652813853556045,
           0.00761651382426054,
           0.007467620781788753,
           0.007231019628083979,
           0.0069268722161318075,
           0.006584443074893032
          ],
          [
           0.004079967847025023,
           0.004329718793399606,
           0.0046727296673966245,
           0.005104829482291184,
           0.005616392393636982,
           0.006192976184248078,
           0.006816135162559078,
           0.007464386716832694,
           0.00811429288509935,
           0.008741607084186254,
           0.00932242943614725,
           0.009834310200746876,
           0.01025723797241429,
           0.01057444556260212,
           0.010772959327343956,
           0.010843803666244933,
           0.010781746705302686,
           0.010584428989072303,
           0.010250644666111752,
           0.009777430267292442,
           0.009155439733798287
          ],
          [
           0.006004482700625924,
           0.006351666848356974,
           0.006794427234019795,
           0.007328197158958161,
           0.007942515379388504,
           0.008621657008401229,
           0.009345494150360678,
           0.0100905256993582,
           0.01083101897455141,
           0.011540206129938335,
           0.012191479339458189,
           0.012759533236302412,
           0.013221413251585656,
           0.013557447019111213,
           0.013752066762497628,
           0.01379457968766562,
           0.013680020737381837,
           0.013410343414389847,
           0.012996394701000447,
           0.01246141837684167,
           0.011847297543807478
          ],
          [
           0.00796248611915662,
           0.008407857283001086,
           0.008949227700320694,
           0.009581353018998096,
           0.01029272476211851,
           0.011066256995620027,
           0.011880183769156782,
           0.01270914106527865,
           0.013525388262845994,
           0.014300115444487171,
           0.015004780082268021,
           0.015612416827056719,
           0.01609886432642782,
           0.01644384890753403,
           0.016631849516244968,
           0.016652629585759193,
           0.01650123954830257,
           0.016177135408462662,
           0.01568176990077591,
           0.015013505121099835,
           0.014157827227634645
          ],
          [
           0.009923987030077353,
           0.010467131909342675,
           0.011105441417398887,
           0.011833173153723675,
           0.012637960286370098,
           0.013501534264296233,
           0.01440070041146746,
           0.015308505328313182,
           0.016195536590024706,
           0.017031291433249218,
           0.017785547145443892,
           0.01842966460379436,
           0.018937760395433156,
           0.01928769619757975,
           0.019461864424370923,
           0.019447811822752792,
           0.019238866446984026,
           0.018835170478702312,
           0.01824596407128376,
           0.01749477378356845,
           0.01663060564869484
          ],
          [
           0.011876711464492096,
           0.012517156003548413,
           0.013251917797914237,
           0.014074643494829675,
           0.014972049073827653,
           0.015924677292371348,
           0.016907896615230733,
           0.017893105002216414,
           0.018849082857407273,
           0.019743432572538078,
           0.020544042486887015,
           0.02122051840298078,
           0.021745533852209342,
           0.022096056795574803,
           0.022254405843816882,
           0.02220905333866985,
           0.021954985732304033,
           0.021493176831175576,
           0.02082818357149796,
           0.019961776841781742,
           0.01887840732746887
          ],
          [
           0.013820885329106414,
           0.014558238320157013,
           0.01538906600788903,
           0.016306472668507488,
           0.017296257978598906,
           0.01833772040786863,
           0.019404734584150263,
           0.02046704193749349,
           0.021491694066455347,
           0.02244458250795278,
           0.023291982560897484,
           0.024002034329988486,
           0.02454608210756226,
           0.02489979615500193,
           0.025044016967948002,
           0.024965311966719028,
           0.02465636529628834,
           0.024116632019503426,
           0.023354376488747608,
           0.022392663316340822,
           0.02128479562532537
          ],
          [
           0.015759825456026055,
           0.01659394400335601,
           0.01752100558910752,
           0.018533501825936494,
           0.019616294962501835,
           0.02074745794048294,
           0.021899388033418954,
           0.0230401478340283,
           0.02413496783605018,
           0.025147837851423382,
           0.026043114867257744,
           0.0267870816347483,
           0.027349403185190635,
           0.0277044457529404,
           0.02783243645621325,
           0.027720430147551656,
           0.02736295725789306,
           0.02676193023775475,
           0.025924625974921234,
           0.024856808729487256,
           0.02354427374959528
          ],
          [
           0.01769972776246198,
           0.018630839699870227,
           0.019654665890725953,
           0.02076313176562694,
           0.02194013327740474,
           0.023162426474840014,
           0.024400814349769817,
           0.025621568289619923,
           0.0267880198564745,
           0.027862252137929033,
           0.02880681441126165,
           0.029586379928118522,
           0.030169262953364306,
           0.030528707143296474,
           0.030643857386151274,
           0.030500350865734327,
           0.03009056705333002,
           0.029413901454589997,
           0.02847829501453747,
           0.02730634987195174,
           0.02595411539103537
          ],
          [
           0.019647556355189,
           0.020676214619306688,
           0.02179773930948614,
           0.02300342034978864,
           0.02427615069348721,
           0.02559135634407994,
           0.026918233379182865,
           0.02822123748197125,
           0.02946175190811151,
           0.03059985201260862,
           0.031596083131239294,
           0.03241317372162733,
           0.03301761905931022,
           0.03338109394312605,
           0.03348168278908792,
           0.033304934081303195,
           0.032844694414522646,
           0.032103397010283086,
           0.031090587475937514,
           0.02981609836228377,
           0.028268562604370162
          ],
          [
           0.02161059592922654,
           0.022737756215371663,
           0.02395827548606988,
           0.02526284730195205,
           0.026633333974860562,
           0.0280437518124812,
           0.02946158109421182,
           0.030849334123458583,
           0.03216631067921938,
           0.0333704630257321,
           0.03442028840133504,
           0.03527666549304698,
           0.03590454992700831,
           0.036274438394365505,
           0.03636350050604742,
           0.036156274227601926,
           0.03564487972362729,
           0.03482899505503867,
           0.03371679355003954,
           0.03233071725059666,
           0.030728727864094474
          ],
          [
           0.02359633393919025,
           0.02482329729030086,
           0.026144505246549654,
           0.027549985859940174,
           0.029020519825891267,
           0.030528668888730515,
           0.03204014619396878,
           0.03351546624893098,
           0.034911792934396724,
           0.03618489556182447,
           0.037291119837809195,
           0.03818928315523473,
           0.03884241474845129,
           0.03921928511666828,
           0.03929570844938701,
           0.03905564742455436,
           0.03849214968156123,
           0.03760792412598668,
           0.036414431889254195,
           0.03492547999334117,
           0.03313353361036553
          ],
          [
           0.025612135313497042,
           0.026940593245807998,
           0.02836451149471264,
           0.02987328111556531,
           0.03144656973676052,
           0.03305541244692045,
           0.03466365944259575,
           0.03622970855039709,
           0.03770844378654248,
           0.03905329283114489,
           0.04021831292494116,
           0.04116021601332065,
           0.041840246539229575,
           0.04222582308846723,
           0.042291841330908464,
           0.042021512394831984,
           0.04140662101274373,
           0.04044730572695954,
           0.03915242205285241,
           0.03754467727757005,
           0.03568355427606823
          ],
          [
           0.027665371398601257,
           0.02909736138332053,
           0.030626413962205,
           0.032241217779127807,
           0.03392027061650271,
           0.035633016488153535,
           0.03734136185896064,
           0.039001500502364284,
           0.040565957768869954,
           0.0419857562304331,
           0.0432126003027582,
           0.044200977838758426,
           0.04491008471025926,
           0.045305499588411347,
           0.045360578080410496,
           0.04505759971128065,
           0.044388751494208845,
           0.04335689550778332,
           0.04197517443642007,
           0.040261242679785925,
           0.038212098497245606
          ],
          [
           0.0297633143887559,
           0.03130125441895193,
           0.03293818012956096,
           0.034662093543023076,
           0.03645028127357608,
           0.03827052151113519,
           0.04008268431242534,
           0.04184064721194303,
           0.043494438067311014,
           0.04499250726790871,
           0.046284028209607975,
           0.04732112826486734,
           0.048060959291919,
           0.048467520275849774,
           0.048513134008269954,
           0.04817944587380385,
           0.04745778018278113,
           0.046348819901352534,
           0.04486246398140159,
           0.043022154577734395,
           0.04088879578071469
          ],
          [
           0.031913199488575295,
           0.033559849775251616,
           0.035307784896916994,
           0.03714425895291118,
           0.03904528843092159,
           0.040976909797195704,
           0.0428968564539951,
           0.04475657579127623,
           0.046503488618166555,
           0.04808338419029479,
           0.0494428390806787,
           0.05053154730498188,
           0.05130445455071664,
           0.051723606538458755,
           0.051759661089850306,
           0.05139308720519675,
           0.0506151663590122,
           0.049428869421074384,
           0.04784889253177771,
           0.04589663501845909,
           0.04357415476322679
          ],
          [
           0.03412223905045897,
           0.03588073800123315,
           0.037743139942266524,
           0.03969595483364352,
           0.041713875996970406,
           0.04376111466879462,
           0.04579316889927143,
           0.047758941880146955,
           0.049603111553923274,
           0.05126864190160485,
           0.05269932261329546,
           0.05384222821884155,
           0.05464999804175097,
           0.05508284834853594,
           0.05511022466039983,
           0.05471196703006442,
           0.053878796756675174,
           0.05261197314170085,
           0.05092273366583577,
           0.04883573539909092,
           0.04641340526704241
          ],
          [
           0.03639763905125304,
           0.038271466612044724,
           0.04025218380268081,
           0.04232549753615422,
           0.044464716446487085,
           0.04663214201285637,
           0.04878092309525628,
           0.05085728508871834,
           0.052803026375305206,
           0.05455816529719559,
           0.05606361570650109,
           0.05726376803406774,
           0.05810885680776323,
           0.05855700892811777,
           0.05857590136616064,
           0.05814403205468577,
           0.05725172938317369,
           0.055902076079698215,
           0.05411128049779579,
           0.05190443417610391,
           0.049289081303983906
          ],
          [
           0.038746643380755064,
           0.040739661441156816,
           0.042842879154687985,
           0.0450411939221258,
           0.04730646547674566,
           0.04959899086434083,
           0.05186945944327537,
           0.05406129512605351,
           0.05611327683755474,
           0.05796231504661331,
           0.05954625770584521,
           0.06080660353743106,
           0.06169101326873094,
           0.06215552539323421,
           0.06216638899836635,
           0.06170139708153122,
           0.060750520576985156,
           0.05931560044161022,
           0.057409462296666436,
           0.05505845592146308,
           0.0523267790116152
          ]
         ]
        }
       ],
       "layout": {
        "height": 600,
        "margin": {
         "b": 20,
         "l": 10,
         "r": 10,
         "t": 60
        },
        "scene": {
         "xaxis": {
          "title": {
           "text": "x"
          }
         },
         "yaxis": {
          "title": {
           "text": "t"
          }
         },
         "zaxis": {
          "title": {
           "text": "|u(x,t)-u0(x,t)|"
          }
         }
        },
        "template": {
         "data": {
          "bar": [
           {
            "error_x": {
             "color": "#2a3f5f"
            },
            "error_y": {
             "color": "#2a3f5f"
            },
            "marker": {
             "line": {
              "color": "#E5ECF6",
              "width": 0.5
             },
             "pattern": {
              "fillmode": "overlay",
              "size": 10,
              "solidity": 0.2
             }
            },
            "type": "bar"
           }
          ],
          "barpolar": [
           {
            "marker": {
             "line": {
              "color": "#E5ECF6",
              "width": 0.5
             },
             "pattern": {
              "fillmode": "overlay",
              "size": 10,
              "solidity": 0.2
             }
            },
            "type": "barpolar"
           }
          ],
          "carpet": [
           {
            "aaxis": {
             "endlinecolor": "#2a3f5f",
             "gridcolor": "white",
             "linecolor": "white",
             "minorgridcolor": "white",
             "startlinecolor": "#2a3f5f"
            },
            "baxis": {
             "endlinecolor": "#2a3f5f",
             "gridcolor": "white",
             "linecolor": "white",
             "minorgridcolor": "white",
             "startlinecolor": "#2a3f5f"
            },
            "type": "carpet"
           }
          ],
          "choropleth": [
           {
            "colorbar": {
             "outlinewidth": 0,
             "ticks": ""
            },
            "type": "choropleth"
           }
          ],
          "contour": [
           {
            "colorbar": {
             "outlinewidth": 0,
             "ticks": ""
            },
            "colorscale": [
             [
              0,
              "#0d0887"
             ],
             [
              0.1111111111111111,
              "#46039f"
             ],
             [
              0.2222222222222222,
              "#7201a8"
             ],
             [
              0.3333333333333333,
              "#9c179e"
             ],
             [
              0.4444444444444444,
              "#bd3786"
             ],
             [
              0.5555555555555556,
              "#d8576b"
             ],
             [
              0.6666666666666666,
              "#ed7953"
             ],
             [
              0.7777777777777778,
              "#fb9f3a"
             ],
             [
              0.8888888888888888,
              "#fdca26"
             ],
             [
              1,
              "#f0f921"
             ]
            ],
            "type": "contour"
           }
          ],
          "contourcarpet": [
           {
            "colorbar": {
             "outlinewidth": 0,
             "ticks": ""
            },
            "type": "contourcarpet"
           }
          ],
          "heatmap": [
           {
            "colorbar": {
             "outlinewidth": 0,
             "ticks": ""
            },
            "colorscale": [
             [
              0,
              "#0d0887"
             ],
             [
              0.1111111111111111,
              "#46039f"
             ],
             [
              0.2222222222222222,
              "#7201a8"
             ],
             [
              0.3333333333333333,
              "#9c179e"
             ],
             [
              0.4444444444444444,
              "#bd3786"
             ],
             [
              0.5555555555555556,
              "#d8576b"
             ],
             [
              0.6666666666666666,
              "#ed7953"
             ],
             [
              0.7777777777777778,
              "#fb9f3a"
             ],
             [
              0.8888888888888888,
              "#fdca26"
             ],
             [
              1,
              "#f0f921"
             ]
            ],
            "type": "heatmap"
           }
          ],
          "heatmapgl": [
           {
            "colorbar": {
             "outlinewidth": 0,
             "ticks": ""
            },
            "colorscale": [
             [
              0,
              "#0d0887"
             ],
             [
              0.1111111111111111,
              "#46039f"
             ],
             [
              0.2222222222222222,
              "#7201a8"
             ],
             [
              0.3333333333333333,
              "#9c179e"
             ],
             [
              0.4444444444444444,
              "#bd3786"
             ],
             [
              0.5555555555555556,
              "#d8576b"
             ],
             [
              0.6666666666666666,
              "#ed7953"
             ],
             [
              0.7777777777777778,
              "#fb9f3a"
             ],
             [
              0.8888888888888888,
              "#fdca26"
             ],
             [
              1,
              "#f0f921"
             ]
            ],
            "type": "heatmapgl"
           }
          ],
          "histogram": [
           {
            "marker": {
             "pattern": {
              "fillmode": "overlay",
              "size": 10,
              "solidity": 0.2
             }
            },
            "type": "histogram"
           }
          ],
          "histogram2d": [
           {
            "colorbar": {
             "outlinewidth": 0,
             "ticks": ""
            },
            "colorscale": [
             [
              0,
              "#0d0887"
             ],
             [
              0.1111111111111111,
              "#46039f"
             ],
             [
              0.2222222222222222,
              "#7201a8"
             ],
             [
              0.3333333333333333,
              "#9c179e"
             ],
             [
              0.4444444444444444,
              "#bd3786"
             ],
             [
              0.5555555555555556,
              "#d8576b"
             ],
             [
              0.6666666666666666,
              "#ed7953"
             ],
             [
              0.7777777777777778,
              "#fb9f3a"
             ],
             [
              0.8888888888888888,
              "#fdca26"
             ],
             [
              1,
              "#f0f921"
             ]
            ],
            "type": "histogram2d"
           }
          ],
          "histogram2dcontour": [
           {
            "colorbar": {
             "outlinewidth": 0,
             "ticks": ""
            },
            "colorscale": [
             [
              0,
              "#0d0887"
             ],
             [
              0.1111111111111111,
              "#46039f"
             ],
             [
              0.2222222222222222,
              "#7201a8"
             ],
             [
              0.3333333333333333,
              "#9c179e"
             ],
             [
              0.4444444444444444,
              "#bd3786"
             ],
             [
              0.5555555555555556,
              "#d8576b"
             ],
             [
              0.6666666666666666,
              "#ed7953"
             ],
             [
              0.7777777777777778,
              "#fb9f3a"
             ],
             [
              0.8888888888888888,
              "#fdca26"
             ],
             [
              1,
              "#f0f921"
             ]
            ],
            "type": "histogram2dcontour"
           }
          ],
          "mesh3d": [
           {
            "colorbar": {
             "outlinewidth": 0,
             "ticks": ""
            },
            "type": "mesh3d"
           }
          ],
          "parcoords": [
           {
            "line": {
             "colorbar": {
              "outlinewidth": 0,
              "ticks": ""
             }
            },
            "type": "parcoords"
           }
          ],
          "pie": [
           {
            "automargin": true,
            "type": "pie"
           }
          ],
          "scatter": [
           {
            "marker": {
             "colorbar": {
              "outlinewidth": 0,
              "ticks": ""
             }
            },
            "type": "scatter"
           }
          ],
          "scatter3d": [
           {
            "line": {
             "colorbar": {
              "outlinewidth": 0,
              "ticks": ""
             }
            },
            "marker": {
             "colorbar": {
              "outlinewidth": 0,
              "ticks": ""
             }
            },
            "type": "scatter3d"
           }
          ],
          "scattercarpet": [
           {
            "marker": {
             "colorbar": {
              "outlinewidth": 0,
              "ticks": ""
             }
            },
            "type": "scattercarpet"
           }
          ],
          "scattergeo": [
           {
            "marker": {
             "colorbar": {
              "outlinewidth": 0,
              "ticks": ""
             }
            },
            "type": "scattergeo"
           }
          ],
          "scattergl": [
           {
            "marker": {
             "colorbar": {
              "outlinewidth": 0,
              "ticks": ""
             }
            },
            "type": "scattergl"
           }
          ],
          "scattermapbox": [
           {
            "marker": {
             "colorbar": {
              "outlinewidth": 0,
              "ticks": ""
             }
            },
            "type": "scattermapbox"
           }
          ],
          "scatterpolar": [
           {
            "marker": {
             "colorbar": {
              "outlinewidth": 0,
              "ticks": ""
             }
            },
            "type": "scatterpolar"
           }
          ],
          "scatterpolargl": [
           {
            "marker": {
             "colorbar": {
              "outlinewidth": 0,
              "ticks": ""
             }
            },
            "type": "scatterpolargl"
           }
          ],
          "scatterternary": [
           {
            "marker": {
             "colorbar": {
              "outlinewidth": 0,
              "ticks": ""
             }
            },
            "type": "scatterternary"
           }
          ],
          "surface": [
           {
            "colorbar": {
             "outlinewidth": 0,
             "ticks": ""
            },
            "colorscale": [
             [
              0,
              "#0d0887"
             ],
             [
              0.1111111111111111,
              "#46039f"
             ],
             [
              0.2222222222222222,
              "#7201a8"
             ],
             [
              0.3333333333333333,
              "#9c179e"
             ],
             [
              0.4444444444444444,
              "#bd3786"
             ],
             [
              0.5555555555555556,
              "#d8576b"
             ],
             [
              0.6666666666666666,
              "#ed7953"
             ],
             [
              0.7777777777777778,
              "#fb9f3a"
             ],
             [
              0.8888888888888888,
              "#fdca26"
             ],
             [
              1,
              "#f0f921"
             ]
            ],
            "type": "surface"
           }
          ],
          "table": [
           {
            "cells": {
             "fill": {
              "color": "#EBF0F8"
             },
             "line": {
              "color": "white"
             }
            },
            "header": {
             "fill": {
              "color": "#C8D4E3"
             },
             "line": {
              "color": "white"
             }
            },
            "type": "table"
           }
          ]
         },
         "layout": {
          "annotationdefaults": {
           "arrowcolor": "#2a3f5f",
           "arrowhead": 0,
           "arrowwidth": 1
          },
          "autotypenumbers": "strict",
          "coloraxis": {
           "colorbar": {
            "outlinewidth": 0,
            "ticks": ""
           }
          },
          "colorscale": {
           "diverging": [
            [
             0,
             "#8e0152"
            ],
            [
             0.1,
             "#c51b7d"
            ],
            [
             0.2,
             "#de77ae"
            ],
            [
             0.3,
             "#f1b6da"
            ],
            [
             0.4,
             "#fde0ef"
            ],
            [
             0.5,
             "#f7f7f7"
            ],
            [
             0.6,
             "#e6f5d0"
            ],
            [
             0.7,
             "#b8e186"
            ],
            [
             0.8,
             "#7fbc41"
            ],
            [
             0.9,
             "#4d9221"
            ],
            [
             1,
             "#276419"
            ]
           ],
           "sequential": [
            [
             0,
             "#0d0887"
            ],
            [
             0.1111111111111111,
             "#46039f"
            ],
            [
             0.2222222222222222,
             "#7201a8"
            ],
            [
             0.3333333333333333,
             "#9c179e"
            ],
            [
             0.4444444444444444,
             "#bd3786"
            ],
            [
             0.5555555555555556,
             "#d8576b"
            ],
            [
             0.6666666666666666,
             "#ed7953"
            ],
            [
             0.7777777777777778,
             "#fb9f3a"
            ],
            [
             0.8888888888888888,
             "#fdca26"
            ],
            [
             1,
             "#f0f921"
            ]
           ],
           "sequentialminus": [
            [
             0,
             "#0d0887"
            ],
            [
             0.1111111111111111,
             "#46039f"
            ],
            [
             0.2222222222222222,
             "#7201a8"
            ],
            [
             0.3333333333333333,
             "#9c179e"
            ],
            [
             0.4444444444444444,
             "#bd3786"
            ],
            [
             0.5555555555555556,
             "#d8576b"
            ],
            [
             0.6666666666666666,
             "#ed7953"
            ],
            [
             0.7777777777777778,
             "#fb9f3a"
            ],
            [
             0.8888888888888888,
             "#fdca26"
            ],
            [
             1,
             "#f0f921"
            ]
           ]
          },
          "colorway": [
           "#636efa",
           "#EF553B",
           "#00cc96",
           "#ab63fa",
           "#FFA15A",
           "#19d3f3",
           "#FF6692",
           "#B6E880",
           "#FF97FF",
           "#FECB52"
          ],
          "font": {
           "color": "#2a3f5f"
          },
          "geo": {
           "bgcolor": "white",
           "lakecolor": "white",
           "landcolor": "#E5ECF6",
           "showlakes": true,
           "showland": true,
           "subunitcolor": "white"
          },
          "hoverlabel": {
           "align": "left"
          },
          "hovermode": "closest",
          "mapbox": {
           "style": "light"
          },
          "paper_bgcolor": "white",
          "plot_bgcolor": "#E5ECF6",
          "polar": {
           "angularaxis": {
            "gridcolor": "white",
            "linecolor": "white",
            "ticks": ""
           },
           "bgcolor": "#E5ECF6",
           "radialaxis": {
            "gridcolor": "white",
            "linecolor": "white",
            "ticks": ""
           }
          },
          "scene": {
           "xaxis": {
            "backgroundcolor": "#E5ECF6",
            "gridcolor": "white",
            "gridwidth": 2,
            "linecolor": "white",
            "showbackground": true,
            "ticks": "",
            "zerolinecolor": "white"
           },
           "yaxis": {
            "backgroundcolor": "#E5ECF6",
            "gridcolor": "white",
            "gridwidth": 2,
            "linecolor": "white",
            "showbackground": true,
            "ticks": "",
            "zerolinecolor": "white"
           },
           "zaxis": {
            "backgroundcolor": "#E5ECF6",
            "gridcolor": "white",
            "gridwidth": 2,
            "linecolor": "white",
            "showbackground": true,
            "ticks": "",
            "zerolinecolor": "white"
           }
          },
          "shapedefaults": {
           "line": {
            "color": "#2a3f5f"
           }
          },
          "ternary": {
           "aaxis": {
            "gridcolor": "white",
            "linecolor": "white",
            "ticks": ""
           },
           "baxis": {
            "gridcolor": "white",
            "linecolor": "white",
            "ticks": ""
           },
           "bgcolor": "#E5ECF6",
           "caxis": {
            "gridcolor": "white",
            "linecolor": "white",
            "ticks": ""
           }
          },
          "title": {
           "x": 0.05
          },
          "xaxis": {
           "automargin": true,
           "gridcolor": "white",
           "linecolor": "white",
           "ticks": "",
           "title": {
            "standoff": 15
           },
           "zerolinecolor": "white",
           "zerolinewidth": 2
          },
          "yaxis": {
           "automargin": true,
           "gridcolor": "white",
           "linecolor": "white",
           "ticks": "",
           "title": {
            "standoff": 15
           },
           "zerolinecolor": "white",
           "zerolinewidth": 2
          }
         }
        },
        "title": {
         "text": "Модуль ошибки в каждой точке сетки (2 порядок точности производной)"
        },
        "width": 1000
       }
      }
     },
     "metadata": {},
     "output_type": "display_data"
    }
   ],
   "source": [
    "error_graph(order=2)"
   ]
  },
  {
   "cell_type": "markdown",
   "metadata": {},
   "source": [
    "Максимальная ошибка для данных $h$ и $\\tau$:"
   ]
  },
  {
   "cell_type": "code",
   "execution_count": 116,
   "metadata": {},
   "outputs": [
    {
     "name": "stdout",
     "output_type": "stream",
     "text": [
      "1 порядок:\t 0.05627825312139778\n",
      "2 порядок:\t 0.06216638899836635\n"
     ]
    }
   ],
   "source": [
    "def max_error(X=X, T=T, order=1):\n",
    "    Xs, Ts = np.meshgrid(X, T)\n",
    "    print(f\"{order} порядок:\\t\", np.max(np.abs(solution(Xs, Ts) - solver_h(order=order))))\n",
    "\n",
    "max_error(order=1)\n",
    "max_error(order=2)"
   ]
  }
 ],
 "metadata": {
  "interpreter": {
   "hash": "3a6f8b2227394587c5aa47911b9013af12e55eb00aba98c34627975f605aae29"
  },
  "kernelspec": {
   "display_name": "Python 3.10.2 64-bit",
   "language": "python",
   "name": "python3"
  },
  "language_info": {
   "codemirror_mode": {
    "name": "ipython",
    "version": 3
   },
   "file_extension": ".py",
   "mimetype": "text/x-python",
   "name": "python",
   "nbconvert_exporter": "python",
   "pygments_lexer": "ipython3",
   "version": "3.10.2"
  },
  "orig_nbformat": 4
 },
 "nbformat": 4,
 "nbformat_minor": 2
}
