{
 "cells": [
  {
   "cell_type": "markdown",
   "metadata": {},
   "source": [
    "<h3><center><b>Свирин Максим Сергеевич | Б19-501</b></center></h3>"
   ]
  },
  {
   "cell_type": "markdown",
   "metadata": {},
   "source": [
    "<center>Будем искать численное решение уравнения теплопроводности:</center>\n",
    "\n",
    "$$\n",
    "\\begin{cases}\n",
    "u_t=a^2u_{xx}+f(x,t)\n",
    "\\\\\n",
    "u(x,0)=\\phi(x)\n",
    "\\\\\n",
    "\\alpha_{1}u_x(0,t)+\\beta_{1}u(0,t)=\\gamma_{1}\n",
    "\\\\\n",
    "\\alpha_{2}u_x(l,t)+\\beta_{2}u(l,t)=\\gamma_{2}\n",
    "\\end{cases}\n",
    "$$"
   ]
  },
  {
   "cell_type": "markdown",
   "metadata": {},
   "source": [
    "---\n",
    "\n",
    "<center>Для решения будет использована разностная схема с весами:</center><br/>\n",
    "\n",
    "<center><img width=\"40%\" height=\"40%\" src=\"./src/scheme.svg\" class=\"edge\"></center>"
   ]
  },
  {
   "cell_type": "markdown",
   "metadata": {},
   "source": [
    "$$\n",
    "\\begin{cases}\n",
    "\\frac{u_k^{n+1} - u_k^n}{\\tau} = a^2 \\cdot \\frac{1}{h^2} \\bigg( \\sigma \\Big( u_{k+1}^{n+1} - 2u_{k}^{n+1} + u_{k-1}^{n+1} \\Big) + (1-\\sigma) \\Big( u_{k+1}^{n} - 2u_{k}^{n} + u_{k-1}^{n} \\Big) \\bigg) + f_{k}^{n+\\frac{1}{2}}\n",
    "\\\\\n",
    "u_{k}^{0}=\\phi_{k}=\\phi(x=x_k)\n",
    "\\\\\n",
    "\\alpha_{1} \\frac{u_{1}^{n+1} - u_{0}^{n+1}}{h} +\\beta_{1}u_{0}^{n+1}=\\gamma_{1}\n",
    "\\\\\n",
    "\\alpha_{2} \\frac{u_{M}^{n+1} - u_{M-1}^{n+1}}{h} +\\beta_{2}u_{M}^{n+1}=\\gamma_{2}\n",
    "\\end{cases}\n",
    "$$"
   ]
  },
  {
   "cell_type": "markdown",
   "metadata": {},
   "source": [
    "Проведём некоторые преобразования и получим:\n",
    "\n",
    "$$\n",
    "\\begin{cases}\n",
    "u_{k+1}^{n+1}\\left( \\frac{a^2\\tau\\sigma}{h^2} \\right) + u_{k}^{n+1} \\left( -\\frac{2a^2\\tau\\sigma}{h^2} - 1 \\right) + u_{k-1}^{n+1} \\left( \\frac{a^2\\tau\\sigma}{h^2} \\right) = - u_{k}^{n} - \\tau f_{k}^{n+\\frac{1}{2}} + (\\sigma - 1) \\frac{a^2\\tau}{h^2} \\left( u_{k+1}^{n} - 2u_{k}^{n} + u_{k-1}^{n} \\right)\n",
    "\\\\\n",
    "u_{k}^{0}=\\phi_{k}\n",
    "\\\\\n",
    "u_{0}^{n+1} \\left( - \\frac{\\alpha_{1}}{h} + \\beta_{1} \\right) + u_{1}^{n+1} \\frac{\\alpha_{1}}{h}  = \\gamma_{1} = d_0\n",
    "\\\\\n",
    "u_{M}^{n+1} \\left( \\frac{\\alpha_{2}}{h} + \\beta_{2} \\right) + u_{M-1}^{n+1} \\left( - \\frac{\\alpha_{2}}{h} \\right)  = \\gamma_{2} = d_M\n",
    "\n",
    "\\end{cases}\n",
    "$$\n",
    "\n",
    "---"
   ]
  },
  {
   "cell_type": "markdown",
   "metadata": {},
   "source": [
    "Переобозначим коэффициенты:\n",
    "\n",
    "Для $k=\\overline{1,M-1}$:\n",
    "$$\n",
    "\\begin{cases}\n",
    "a_k = \\frac{a^2\\tau\\sigma}{h^2}\n",
    "\\\\\n",
    "b_k = -\\frac{2a^2\\tau\\sigma}{h^2} - 1\n",
    "\\\\\n",
    "c_k = \\frac{a^2\\tau\\sigma}{h^2}\n",
    "\\\\\n",
    "d_k = - u_{k}^{n} - \\tau f_{k}^{n+\\frac{1}{2}} + (\\sigma - 1) \\frac{a^2\\tau}{h^2} \\left( u_{k+1}^{n} - 2u_{k}^{n} + u_{k-1}^{n} \\right)\n",
    "\\end{cases}\n",
    "$$\n",
    "\n",
    "Для остальных k:\n",
    "$$\n",
    "\\begin{cases}\n",
    "a_0 = 0\n",
    "\\\\\n",
    "b_0 = - \\frac{\\alpha_{1}}{h} + \\beta_{1}\n",
    "\\\\\n",
    "c_0 = \\frac{\\alpha_{1}}{h}\n",
    "\\\\\n",
    "d_0 = \\gamma_{1}\n",
    "\\\\\n",
    "a_M = - \\frac{\\alpha_{2}}{h}\n",
    "\\\\\n",
    "b_M = \\frac{\\alpha_{2}}{h} + \\beta_{2}\n",
    "\\\\\n",
    "c_M = 0\n",
    "\\\\\n",
    "d_M = \\gamma_{2}\n",
    "\\end{cases}\n",
    "$$\n",
    "\n",
    "После переобозначения имеем:\n",
    "$$\n",
    "\\begin{cases}\n",
    "u_{k+1}^{n+1} a_k + u_{k}^{n+1} b_k + u_{k-1}^{n+1} c_k = d_k \\qquad  k=\\overline{1,M-1}\n",
    "\\\\\n",
    "u_{k}^{0}=\\phi_{k}\n",
    "\\\\\n",
    "u_{0}^{n+1} b_0 + u_{1}^{n+1} c_0 = d_0\n",
    "\\\\\n",
    "u_{M-1}^{n+1} a_M + u_{0}^{n+1} b_M = d_M\n",
    "\n",
    "\\end{cases}\n",
    "$$\n",
    "\n",
    "---"
   ]
  },
  {
   "cell_type": "markdown",
   "metadata": {},
   "source": [
    "Составим матрицу из полученных уравнений:\n",
    "\n",
    "$$\\begin{pmatrix}\n",
    "b_0 & c_0 & & & \\\\\n",
    "a_1 & b_1 & c_1 & & \\\\\n",
    "& a_2 & \\ddots & \\ddots & \\\\\n",
    "& & \\ddots & \\ddots & c_{M-1} \\\\\n",
    "& & & a_M & b_M \\\\\n",
    "\\end{pmatrix}\n",
    "\\begin{pmatrix}\n",
    "u_0^{n+1} \\\\\n",
    "u_1^{n+1} \\\\\n",
    "u_2^{n+1} \\\\\n",
    "\\dots \\\\\n",
    "u_M^{n+1}\n",
    "\\end{pmatrix}\n",
    "=\n",
    "\\begin{pmatrix}\n",
    "d_0 \\\\\n",
    "d_1 \\\\\n",
    "d_2 \\\\\n",
    "\\dots \\\\\n",
    "d_M\n",
    "\\end{pmatrix}$$"
   ]
  },
  {
   "cell_type": "markdown",
   "metadata": {},
   "source": [
    "Мы имеем $N$ систем уравнений $(M+1) \\times (M+1)$\n",
    "\n",
    "---"
   ]
  },
  {
   "cell_type": "markdown",
   "metadata": {},
   "source": [
    "<center><img width=\"50%\" height=\"50%\" src=\"./src/task.jpg\"></center>"
   ]
  },
  {
   "cell_type": "markdown",
   "metadata": {},
   "source": [
    "<center><img width=\"50%\" height=\"50%\" src=\"./src/14.jpg\"></center>"
   ]
  },
  {
   "cell_type": "code",
   "execution_count": 48,
   "metadata": {},
   "outputs": [],
   "source": [
    "import numpy as np\n",
    "import matplotlib.pyplot as plt\n",
    "from matplotlib.widgets import Slider\n",
    "# import math\n",
    "# import sympy\n",
    "import plotly.graph_objects as gr\n",
    "# from mpl_toolkits import mplot3d\n",
    "# from mpl_toolkits.mplot3d import axes3d"
   ]
  },
  {
   "cell_type": "code",
   "execution_count": 49,
   "metadata": {},
   "outputs": [],
   "source": [
    "from ipywidgets import interact, interactive, fixed, interact_manual\n",
    "import ipywidgets as widgets"
   ]
  },
  {
   "cell_type": "markdown",
   "metadata": {},
   "source": [
    "Зададим функции и постоянные, используемые в уравнении:"
   ]
  },
  {
   "cell_type": "code",
   "execution_count": 50,
   "metadata": {},
   "outputs": [],
   "source": [
    "# Правая часть уравнения теплопроводности\n",
    "def f(x, t):\n",
    "    return (-3) * (1 + np.cosh(1 - x - t)**2 + np.sinh(2 - 2*x - 2*t)) / (8 * np.cosh(1 - x - t)**(3/2))\n",
    "\n",
    "# Функкция начального условия\n",
    "def phi(x):\n",
    "    return 3 / 2 * np.cosh(1 - x)**(1/2)\n",
    "\n",
    "# Граничные условия\n",
    "A1 = 0\n",
    "B1 = 1\n",
    "C1 = lambda t: 3 / 2 * (np.cosh(1 - t))**(1/2)\n",
    "\n",
    "A2 = -2\n",
    "B2 = 1\n",
    "C2 = lambda t: 3 / 2 * (np.cosh(t) - np.sinh(t)) / np.cosh(t)**(1/2)\n",
    "\n",
    "# Параметр a уравнения\n",
    "a = 1\n",
    "\n",
    "# Настоящее решение уравнения\n",
    "def solution(x, t):\n",
    "    return 3 / 2 * np.cosh(1 - x - t)**(1/2)"
   ]
  },
  {
   "cell_type": "code",
   "execution_count": 51,
   "metadata": {},
   "outputs": [],
   "source": [
    "# Правая часть уравнения теплопроводности\n",
    "def f(x, t):\n",
    "    return (2 - 8 * x**2 / 3) * np.exp(t - x*x)\n",
    "\n",
    "# Функкция начального условия\n",
    "def phi(x):\n",
    "    return 2 / 3 * np.exp(-x*x)\n",
    "\n",
    "# Граничные условия\n",
    "A1 = -1\n",
    "B1 = 1\n",
    "C1 = lambda t: 2 / 3 * np.exp(t)\n",
    "\n",
    "A2 = 1\n",
    "B2 = 1\n",
    "C2 = lambda t: -2 / 3 * np.exp(t-1)\n",
    "\n",
    "# Параметр a уравнения\n",
    "a = 1\n",
    "\n",
    "# Настоящее решение уравнения\n",
    "def solution(x, t):\n",
    "    return 2 / 3 * np.exp(t - x*x)"
   ]
  },
  {
   "cell_type": "markdown",
   "metadata": {},
   "source": [
    "Зададим параметры пространственно-временной сетки:"
   ]
  },
  {
   "cell_type": "code",
   "execution_count": 52,
   "metadata": {},
   "outputs": [],
   "source": [
    "h = 0.05\n",
    "l = 1\n",
    "N = int(l / h)+1\n",
    "X = np.linspace(0, l, num=N)\n",
    "\n",
    "# T = float(input(\"Введите максимальное время T:\\t\"))\n",
    "t = 1\n",
    "\n",
    "# dt = float(input(\"Введите шаг временной сетки dt:\\t\"))\n",
    "dt = 0.05\n",
    "\n",
    "M = int(t / dt) + 1\n",
    "T = np.linspace(0, t, num=M)\n",
    "\n",
    "# Задаём сигму\n",
    "sigma = 0.5"
   ]
  },
  {
   "cell_type": "markdown",
   "metadata": {},
   "source": [
    "Напишем алгоритм решения системы уравнений с тридиагональной матрицей:"
   ]
  },
  {
   "cell_type": "code",
   "execution_count": 53,
   "metadata": {},
   "outputs": [],
   "source": [
    "def TridiagMatrixMethod(m, u, l=l, A1=A1, B1=B1, C1=C1, A2=A2, B2=B2, C2=C2, sigma=sigma, h=h, N=N, dt=dt, X=X, T=T, f=f, order=1, type=\"3D\"):\n",
    "    \n",
    "    # Функция \"прямого хода\" по матрице\n",
    "    def forward_path(A, B, C, D, n=N-1):\n",
    "        AA = [-C[0]  / B[0]]\n",
    "        BB = [D[0] / B[0]]\n",
    "        for i in range(1, n):\n",
    "            AA.append(- C[i] / (B[i] + A[i] * AA[i-1]))\n",
    "            BB.append((D[i] - A[i]*BB[i-1]) / (B[i] + A[i] * AA[i-1]))\n",
    "        return AA, BB\n",
    "\n",
    "    # Функция \"обратного хода\" по матрице\n",
    "    def backward_path(AA, BB, n=N-1):\n",
    "        Y = []\n",
    "        Y.append(BB[n-1])\n",
    "        for i in range(n - 2, -1, -1):\n",
    "            Y.append(BB[i] + AA[i] * Y[n - i - 2])\n",
    "        return Y[::-1]\n",
    "    \n",
    "    X = np.linspace(0, l, N)\n",
    "    \n",
    "    cur = a * a * dt / h / h\n",
    "\n",
    "    A = [0]\n",
    "    B = [0]\n",
    "    C = [0]\n",
    "    D = [0]\n",
    "    \n",
    "    for i in range(1, N - 1):\n",
    "        A.append(cur * sigma)\n",
    "        B.append((-2) * cur * sigma - 1)\n",
    "        C.append(cur * sigma)\n",
    "        if type==\"3D\":\n",
    "            D.append(-u[m][i] - dt*f(X[i], T[m] + dt / 2) + (sigma - 1) * a * a * dt / h / h * (u[m][i+1] - 2 * u[m][i] + u[m][i-1]))\n",
    "        elif type==\"2D\":\n",
    "            D.append(-u[i] - dt*f(X[i], T[m] + dt / 2) + (sigma - 1) * a * a * dt / h / h * (u[i+1] - 2 * u[i] + u[i-1]))\n",
    "        else:\n",
    "            raise ValueError(\"Incorrect order of algorithm (avail.: 1, 2)\")\n",
    "\n",
    "    if order == 1:\n",
    "        A[0] = (0)\n",
    "        B[0] = (-A1 / h + B1)\n",
    "        C[0] = (A1 / h)\n",
    "        D[0] = (C1(T[m+1]))\n",
    "\n",
    "        A.append(-A2 / h)\n",
    "        B.append(A2 / h + B2)\n",
    "        C.append(0)\n",
    "        D.append(C2(T[m+1]))\n",
    "    \n",
    "    elif order == 2:\n",
    "        \n",
    "        A[0] = (0)\n",
    "        B[0] = (A1 - h*B1 + A1 / (2*cur*sigma))\n",
    "        C[0] = (-A1)\n",
    "        A.append((A2))\n",
    "        B.append(-(A2 + h*B2 + A2/(2*cur*sigma)))\n",
    "        C.append(0)\n",
    "        if type==\"3D\":\n",
    "            D[0] = (-h*C1(T[m+1]) + A1 / (2*cur*sigma)*(u[m][0] + dt*f(X[0],T[m]+dt/2)) + (sigma-1)/sigma*((A1-h*B1)*u[m][0] - A1*u[m][1] + h*C1(T[m])))\n",
    "            D.append(((-h*C2(T[m+1]) - A2/(2*cur*sigma)*(u[m][-1] + dt*f(X[-1],T[m]+dt/2)) - (sigma-1)/sigma*((A2+h*B2)*u[m][-1] - A2*u[m][-2] - h*C2(T[m])))))\n",
    "        elif type==\"2D\":\n",
    "            D[0] = (-h*C1(T[m+1]) + A1 / (2*cur*sigma)*(u[0] + dt*f(X[0],T[m]+dt/2)) + (sigma-1)/sigma*((A1-h*B1)*u[0] - A1*u[1] + h*C1(T[m])))\n",
    "            D.append(((-h*C2(T[m+1]) - A2/(2*cur*sigma)*(u[-1] + dt*f(X[-1],T[m]+dt/2)) - (sigma-1)/sigma*((A2+h*B2)*u[-1] - A2*u[-2] - h*C2(T[m])))))\n",
    "        else:\n",
    "            raise ValueError(\"Incorrect order of algorithm (avail.: 1, 2)\")\n",
    "    else:\n",
    "        raise ValueError(\"Incorrect order of algorithm (avail.: 1, 2)\")\n",
    "\n",
    "    AA, BB = forward_path(A, B, C, D, N)\n",
    "    Y = backward_path(AA, BB, N)\n",
    "\n",
    "    return Y"
   ]
  },
  {
   "cell_type": "markdown",
   "metadata": {},
   "source": [
    "Построим решения нашей задачи на основе вышеизложенной теории:"
   ]
  },
  {
   "cell_type": "code",
   "execution_count": 54,
   "metadata": {},
   "outputs": [],
   "source": [
    "def solver_h(X=X, T=T, order=1):\n",
    "    N = len(X)\n",
    "    M = len(T)\n",
    "    u = np.zeros(shape=(M, N))\n",
    "    u[0] = [phi(x) for x in X]\n",
    "    for i in range(1, M):\n",
    "        u[i] = TridiagMatrixMethod(m=i-1, u=u, X=X, T=T, N=N, order=order)\n",
    "    return u"
   ]
  },
  {
   "cell_type": "markdown",
   "metadata": {},
   "source": [
    "Сделаем визуализацию решения:"
   ]
  },
  {
   "cell_type": "code",
   "execution_count": 55,
   "metadata": {},
   "outputs": [
    {
     "data": {
      "image/png": "[encoded data removed]",
      "text/plain": [
       "<Figure size 720x720 with 1 Axes>"
      ]
     },
     "metadata": {
      "needs_background": "light"
     },
     "output_type": "display_data"
    }
   ],
   "source": [
    "%matplotlib inline\n",
    "def plot_u(X=X, T=T, order=1):\n",
    "  fig = plt.figure(figsize=(10, 10))\n",
    "  ax = fig.add_subplot(projection='3d')\n",
    "\n",
    "  Xs, Ts = np.meshgrid(X, T)\n",
    "  u = solver_h(order=order)\n",
    "\n",
    "  ax.set_xlabel('x')\n",
    "  ax.set_ylabel('t')\n",
    "  ax.set_zlabel('u(x,t)')\n",
    "  ax.title.set_text(\"Полученное и оригинальное решения\")\n",
    "  \n",
    "  ax.plot_surface(Xs, Ts, solution(Xs, Ts), color=\"purple\", alpha=1, label=\"Real\")\n",
    "  ax.plot_surface(Xs, Ts, u, color=\"yellow\", alpha=0.5, label=\"Calc\")\n",
    "\n",
    "plot_u(order=1)"
   ]
  },
  {
   "cell_type": "code",
   "execution_count": 56,
   "metadata": {},
   "outputs": [
    {
     "data": {
      "image/png": "[encoded data removed]",
      "text/plain": [
       "<Figure size 720x720 with 1 Axes>"
      ]
     },
     "metadata": {
      "needs_background": "light"
     },
     "output_type": "display_data"
    }
   ],
   "source": [
    "plot_u(order=2)"
   ]
  },
  {
   "cell_type": "markdown",
   "metadata": {},
   "source": [
    "Оценим ошибки полученного решения:"
   ]
  },
  {
   "cell_type": "code",
   "execution_count": 57,
   "metadata": {},
   "outputs": [],
   "source": [
    "def error_graph(X=X, T=T, order=1):\n",
    "    Xs, Ts = np.meshgrid(X, T)\n",
    "    fig = gr.Figure(data=[gr.Surface(z=np.abs(solution(Xs, Ts) - solver_h(order=order)), x=Xs, y=Ts)])\n",
    "    fig.update_layout(scene = dict(\n",
    "                        xaxis_title='x',\n",
    "                        yaxis_title='t',\n",
    "                        zaxis_title='|u(x,t)-u0(x,t)|'),\n",
    "                        width=1000,\n",
    "                        height=600,\n",
    "                        margin=dict(r=10, b=20, l=10, t=60), \n",
    "                        title=f\"Модуль ошибки в каждой точке сетки ({order} порядок точности производной)\")\n",
    "    fig.show()"
   ]
  },
  {
   "cell_type": "code",
   "execution_count": 58,
   "metadata": {},
   "outputs": [
    {
     "data": {
      "application/vnd.plotly.v1+json": {
       "config": {
        "plotlyServerURL": "https://plot.ly"
       },
       "data": [
        {
         "type": "surface",
         "x": [
          [
           0,
           0.05,
           0.1,
           0.15000000000000002,
           0.2,
           0.25,
           0.30000000000000004,
           0.35000000000000003,
           0.4,
           0.45,
           0.5,
           0.55,
           0.6000000000000001,
           0.65,
           0.7000000000000001,
           0.75,
           0.8,
           0.8500000000000001,
           0.9,
           0.9500000000000001,
           1
          ],
          [
           0,
           0.05,
           0.1,
           0.15000000000000002,
           0.2,
           0.25,
           0.30000000000000004,
           0.35000000000000003,
           0.4,
           0.45,
           0.5,
           0.55,
           0.6000000000000001,
           0.65,
           0.7000000000000001,
           0.75,
           0.8,
           0.8500000000000001,
           0.9,
           0.9500000000000001,
           1
          ],
          [
           0,
           0.05,
           0.1,
           0.15000000000000002,
           0.2,
           0.25,
           0.30000000000000004,
           0.35000000000000003,
           0.4,
           0.45,
           0.5,
           0.55,
           0.6000000000000001,
           0.65,
           0.7000000000000001,
           0.75,
           0.8,
           0.8500000000000001,
           0.9,
           0.9500000000000001,
           1
          ],
          [
           0,
           0.05,
           0.1,
           0.15000000000000002,
           0.2,
           0.25,
           0.30000000000000004,
           0.35000000000000003,
           0.4,
           0.45,
           0.5,
           0.55,
           0.6000000000000001,
           0.65,
           0.7000000000000001,
           0.75,
           0.8,
           0.8500000000000001,
           0.9,
           0.9500000000000001,
           1
          ],
          [
           0,
           0.05,
           0.1,
           0.15000000000000002,
           0.2,
           0.25,
           0.30000000000000004,
           0.35000000000000003,
           0.4,
           0.45,
           0.5,
           0.55,
           0.6000000000000001,
           0.65,
           0.7000000000000001,
           0.75,
           0.8,
           0.8500000000000001,
           0.9,
           0.9500000000000001,
           1
          ],
          [
           0,
           0.05,
           0.1,
           0.15000000000000002,
           0.2,
           0.25,
           0.30000000000000004,
           0.35000000000000003,
           0.4,
           0.45,
           0.5,
           0.55,
           0.6000000000000001,
           0.65,
           0.7000000000000001,
           0.75,
           0.8,
           0.8500000000000001,
           0.9,
           0.9500000000000001,
           1
          ],
          [
           0,
           0.05,
           0.1,
           0.15000000000000002,
           0.2,
           0.25,
           0.30000000000000004,
           0.35000000000000003,
           0.4,
           0.45,
           0.5,
           0.55,
           0.6000000000000001,
           0.65,
           0.7000000000000001,
           0.75,
           0.8,
           0.8500000000000001,
           0.9,
           0.9500000000000001,
           1
          ],
          [
           0,
           0.05,
           0.1,
           0.15000000000000002,
           0.2,
           0.25,
           0.30000000000000004,
           0.35000000000000003,
           0.4,
           0.45,
           0.5,
           0.55,
           0.6000000000000001,
           0.65,
           0.7000000000000001,
           0.75,
           0.8,
           0.8500000000000001,
           0.9,
           0.9500000000000001,
           1
          ],
          [
           0,
           0.05,
           0.1,
           0.15000000000000002,
           0.2,
           0.25,
           0.30000000000000004,
           0.35000000000000003,
           0.4,
           0.45,
           0.5,
           0.55,
           0.6000000000000001,
           0.65,
           0.7000000000000001,
           0.75,
           0.8,
           0.8500000000000001,
           0.9,
           0.9500000000000001,
           1
          ],
          [
           0,
           0.05,
           0.1,
           0.15000000000000002,
           0.2,
           0.25,
           0.30000000000000004,
           0.35000000000000003,
           0.4,
           0.45,
           0.5,
           0.55,
           0.6000000000000001,
           0.65,
           0.7000000000000001,
           0.75,
           0.8,
           0.8500000000000001,
           0.9,
           0.9500000000000001,
           1
          ],
          [
           0,
           0.05,
           0.1,
           0.15000000000000002,
           0.2,
           0.25,
           0.30000000000000004,
           0.35000000000000003,
           0.4,
           0.45,
           0.5,
           0.55,
           0.6000000000000001,
           0.65,
           0.7000000000000001,
           0.75,
           0.8,
           0.8500000000000001,
           0.9,
           0.9500000000000001,
           1
          ],
          [
           0,
           0.05,
           0.1,
           0.15000000000000002,
           0.2,
           0.25,
           0.30000000000000004,
           0.35000000000000003,
           0.4,
           0.45,
           0.5,
           0.55,
           0.6000000000000001,
           0.65,
           0.7000000000000001,
           0.75,
           0.8,
           0.8500000000000001,
           0.9,
           0.9500000000000001,
           1
          ],
          [
           0,
           0.05,
           0.1,
           0.15000000000000002,
           0.2,
           0.25,
           0.30000000000000004,
           0.35000000000000003,
           0.4,
           0.45,
           0.5,
           0.55,
           0.6000000000000001,
           0.65,
           0.7000000000000001,
           0.75,
           0.8,
           0.8500000000000001,
           0.9,
           0.9500000000000001,
           1
          ],
          [
           0,
           0.05,
           0.1,
           0.15000000000000002,
           0.2,
           0.25,
           0.30000000000000004,
           0.35000000000000003,
           0.4,
           0.45,
           0.5,
           0.55,
           0.6000000000000001,
           0.65,
           0.7000000000000001,
           0.75,
           0.8,
           0.8500000000000001,
           0.9,
           0.9500000000000001,
           1
          ],
          [
           0,
           0.05,
           0.1,
           0.15000000000000002,
           0.2,
           0.25,
           0.30000000000000004,
           0.35000000000000003,
           0.4,
           0.45,
           0.5,
           0.55,
           0.6000000000000001,
           0.65,
           0.7000000000000001,
           0.75,
           0.8,
           0.8500000000000001,
           0.9,
           0.9500000000000001,
           1
          ],
          [
           0,
           0.05,
           0.1,
           0.15000000000000002,
           0.2,
           0.25,
           0.30000000000000004,
           0.35000000000000003,
           0.4,
           0.45,
           0.5,
           0.55,
           0.6000000000000001,
           0.65,
           0.7000000000000001,
           0.75,
           0.8,
           0.8500000000000001,
           0.9,
           0.9500000000000001,
           1
          ],
          [
           0,
           0.05,
           0.1,
           0.15000000000000002,
           0.2,
           0.25,
           0.30000000000000004,
           0.35000000000000003,
           0.4,
           0.45,
           0.5,
           0.55,
           0.6000000000000001,
           0.65,
           0.7000000000000001,
           0.75,
           0.8,
           0.8500000000000001,
           0.9,
           0.9500000000000001,
           1
          ],
          [
           0,
           0.05,
           0.1,
           0.15000000000000002,
           0.2,
           0.25,
           0.30000000000000004,
           0.35000000000000003,
           0.4,
           0.45,
           0.5,
           0.55,
           0.6000000000000001,
           0.65,
           0.7000000000000001,
           0.75,
           0.8,
           0.8500000000000001,
           0.9,
           0.9500000000000001,
           1
          ],
          [
           0,
           0.05,
           0.1,
           0.15000000000000002,
           0.2,
           0.25,
           0.30000000000000004,
           0.35000000000000003,
           0.4,
           0.45,
           0.5,
           0.55,
           0.6000000000000001,
           0.65,
           0.7000000000000001,
           0.75,
           0.8,
           0.8500000000000001,
           0.9,
           0.9500000000000001,
           1
          ],
          [
           0,
           0.05,
           0.1,
           0.15000000000000002,
           0.2,
           0.25,
           0.30000000000000004,
           0.35000000000000003,
           0.4,
           0.45,
           0.5,
           0.55,
           0.6000000000000001,
           0.65,
           0.7000000000000001,
           0.75,
           0.8,
           0.8500000000000001,
           0.9,
           0.9500000000000001,
           1
          ],
          [
           0,
           0.05,
           0.1,
           0.15000000000000002,
           0.2,
           0.25,
           0.30000000000000004,
           0.35000000000000003,
           0.4,
           0.45,
           0.5,
           0.55,
           0.6000000000000001,
           0.65,
           0.7000000000000001,
           0.75,
           0.8,
           0.8500000000000001,
           0.9,
           0.9500000000000001,
           1
          ]
         ],
         "y": [
          [
           0,
           0,
           0,
           0,
           0,
           0,
           0,
           0,
           0,
           0,
           0,
           0,
           0,
           0,
           0,
           0,
           0,
           0,
           0,
           0,
           0
          ],
          [
           0.05,
           0.05,
           0.05,
           0.05,
           0.05,
           0.05,
           0.05,
           0.05,
           0.05,
           0.05,
           0.05,
           0.05,
           0.05,
           0.05,
           0.05,
           0.05,
           0.05,
           0.05,
           0.05,
           0.05,
           0.05
          ],
          [
           0.1,
           0.1,
           0.1,
           0.1,
           0.1,
           0.1,
           0.1,
           0.1,
           0.1,
           0.1,
           0.1,
           0.1,
           0.1,
           0.1,
           0.1,
           0.1,
           0.1,
           0.1,
           0.1,
           0.1,
           0.1
          ],
          [
           0.15000000000000002,
           0.15000000000000002,
           0.15000000000000002,
           0.15000000000000002,
           0.15000000000000002,
           0.15000000000000002,
           0.15000000000000002,
           0.15000000000000002,
           0.15000000000000002,
           0.15000000000000002,
           0.15000000000000002,
           0.15000000000000002,
           0.15000000000000002,
           0.15000000000000002,
           0.15000000000000002,
           0.15000000000000002,
           0.15000000000000002,
           0.15000000000000002,
           0.15000000000000002,
           0.15000000000000002,
           0.15000000000000002
          ],
          [
           0.2,
           0.2,
           0.2,
           0.2,
           0.2,
           0.2,
           0.2,
           0.2,
           0.2,
           0.2,
           0.2,
           0.2,
           0.2,
           0.2,
           0.2,
           0.2,
           0.2,
           0.2,
           0.2,
           0.2,
           0.2
          ],
          [
           0.25,
           0.25,
           0.25,
           0.25,
           0.25,
           0.25,
           0.25,
           0.25,
           0.25,
           0.25,
           0.25,
           0.25,
           0.25,
           0.25,
           0.25,
           0.25,
           0.25,
           0.25,
           0.25,
           0.25,
           0.25
          ],
          [
           0.30000000000000004,
           0.30000000000000004,
           0.30000000000000004,
           0.30000000000000004,
           0.30000000000000004,
           0.30000000000000004,
           0.30000000000000004,
           0.30000000000000004,
           0.30000000000000004,
           0.30000000000000004,
           0.30000000000000004,
           0.30000000000000004,
           0.30000000000000004,
           0.30000000000000004,
           0.30000000000000004,
           0.30000000000000004,
           0.30000000000000004,
           0.30000000000000004,
           0.30000000000000004,
           0.30000000000000004,
           0.30000000000000004
          ],
          [
           0.35000000000000003,
           0.35000000000000003,
           0.35000000000000003,
           0.35000000000000003,
           0.35000000000000003,
           0.35000000000000003,
           0.35000000000000003,
           0.35000000000000003,
           0.35000000000000003,
           0.35000000000000003,
           0.35000000000000003,
           0.35000000000000003,
           0.35000000000000003,
           0.35000000000000003,
           0.35000000000000003,
           0.35000000000000003,
           0.35000000000000003,
           0.35000000000000003,
           0.35000000000000003,
           0.35000000000000003,
           0.35000000000000003
          ],
          [
           0.4,
           0.4,
           0.4,
           0.4,
           0.4,
           0.4,
           0.4,
           0.4,
           0.4,
           0.4,
           0.4,
           0.4,
           0.4,
           0.4,
           0.4,
           0.4,
           0.4,
           0.4,
           0.4,
           0.4,
           0.4
          ],
          [
           0.45,
           0.45,
           0.45,
           0.45,
           0.45,
           0.45,
           0.45,
           0.45,
           0.45,
           0.45,
           0.45,
           0.45,
           0.45,
           0.45,
           0.45,
           0.45,
           0.45,
           0.45,
           0.45,
           0.45,
           0.45
          ],
          [
           0.5,
           0.5,
           0.5,
           0.5,
           0.5,
           0.5,
           0.5,
           0.5,
           0.5,
           0.5,
           0.5,
           0.5,
           0.5,
           0.5,
           0.5,
           0.5,
           0.5,
           0.5,
           0.5,
           0.5,
           0.5
          ],
          [
           0.55,
           0.55,
           0.55,
           0.55,
           0.55,
           0.55,
           0.55,
           0.55,
           0.55,
           0.55,
           0.55,
           0.55,
           0.55,
           0.55,
           0.55,
           0.55,
           0.55,
           0.55,
           0.55,
           0.55,
           0.55
          ],
          [
           0.6000000000000001,
           0.6000000000000001,
           0.6000000000000001,
           0.6000000000000001,
           0.6000000000000001,
           0.6000000000000001,
           0.6000000000000001,
           0.6000000000000001,
           0.6000000000000001,
           0.6000000000000001,
           0.6000000000000001,
           0.6000000000000001,
           0.6000000000000001,
           0.6000000000000001,
           0.6000000000000001,
           0.6000000000000001,
           0.6000000000000001,
           0.6000000000000001,
           0.6000000000000001,
           0.6000000000000001,
           0.6000000000000001
          ],
          [
           0.65,
           0.65,
           0.65,
           0.65,
           0.65,
           0.65,
           0.65,
           0.65,
           0.65,
           0.65,
           0.65,
           0.65,
           0.65,
           0.65,
           0.65,
           0.65,
           0.65,
           0.65,
           0.65,
           0.65,
           0.65
          ],
          [
           0.7000000000000001,
           0.7000000000000001,
           0.7000000000000001,
           0.7000000000000001,
           0.7000000000000001,
           0.7000000000000001,
           0.7000000000000001,
           0.7000000000000001,
           0.7000000000000001,
           0.7000000000000001,
           0.7000000000000001,
           0.7000000000000001,
           0.7000000000000001,
           0.7000000000000001,
           0.7000000000000001,
           0.7000000000000001,
           0.7000000000000001,
           0.7000000000000001,
           0.7000000000000001,
           0.7000000000000001,
           0.7000000000000001
          ],
          [
           0.75,
           0.75,
           0.75,
           0.75,
           0.75,
           0.75,
           0.75,
           0.75,
           0.75,
           0.75,
           0.75,
           0.75,
           0.75,
           0.75,
           0.75,
           0.75,
           0.75,
           0.75,
           0.75,
           0.75,
           0.75
          ],
          [
           0.8,
           0.8,
           0.8,
           0.8,
           0.8,
           0.8,
           0.8,
           0.8,
           0.8,
           0.8,
           0.8,
           0.8,
           0.8,
           0.8,
           0.8,
           0.8,
           0.8,
           0.8,
           0.8,
           0.8,
           0.8
          ],
          [
           0.8500000000000001,
           0.8500000000000001,
           0.8500000000000001,
           0.8500000000000001,
           0.8500000000000001,
           0.8500000000000001,
           0.8500000000000001,
           0.8500000000000001,
           0.8500000000000001,
           0.8500000000000001,
           0.8500000000000001,
           0.8500000000000001,
           0.8500000000000001,
           0.8500000000000001,
           0.8500000000000001,
           0.8500000000000001,
           0.8500000000000001,
           0.8500000000000001,
           0.8500000000000001,
           0.8500000000000001,
           0.8500000000000001
          ],
          [
           0.9,
           0.9,
           0.9,
           0.9,
           0.9,
           0.9,
           0.9,
           0.9,
           0.9,
           0.9,
           0.9,
           0.9,
           0.9,
           0.9,
           0.9,
           0.9,
           0.9,
           0.9,
           0.9,
           0.9,
           0.9
          ],
          [
           0.9500000000000001,
           0.9500000000000001,
           0.9500000000000001,
           0.9500000000000001,
           0.9500000000000001,
           0.9500000000000001,
           0.9500000000000001,
           0.9500000000000001,
           0.9500000000000001,
           0.9500000000000001,
           0.9500000000000001,
           0.9500000000000001,
           0.9500000000000001,
           0.9500000000000001,
           0.9500000000000001,
           0.9500000000000001,
           0.9500000000000001,
           0.9500000000000001,
           0.9500000000000001,
           0.9500000000000001,
           0.9500000000000001
          ],
          [
           1,
           1,
           1,
           1,
           1,
           1,
           1,
           1,
           1,
           1,
           1,
           1,
           1,
           1,
           1,
           1,
           1,
           1,
           1,
           1,
           1
          ]
         ],
         "z": [
          [
           0,
           0,
           0,
           0,
           0,
           0,
           0,
           0,
           0,
           0,
           0,
           0,
           0,
           0,
           0,
           0,
           0,
           0,
           0,
           0,
           0
          ],
          [
           0.005421016538550094,
           0.003942137195651618,
           0.0028634296846290486,
           0.0020767579742108078,
           0.0015030235893082056,
           0.0010842714860985758,
           0.0007779155454644693,
           0.000552505287702787,
           0.00038460935445328026,
           0.0002565028617660392,
           0.00015442606193094566,
           0.00006723889557269658,
           0.000014664318993884429,
           0.00010028966508485171,
           0.00019892224790274415,
           0.0003210371963449643,
           0.0004793345877005528,
           0.0006900019837121629,
           0.0009743307884234054,
           0.001360847799542264,
           0.0018881746523903842
          ],
          [
           0.009528662988565917,
           0.008165445129779902,
           0.006830649823791779,
           0.005606525441002486,
           0.004527971771785433,
           0.003601850506655957,
           0.0028192634906700764,
           0.00216318143027594,
           0.0016130325226582087,
           0.0011473331103295514,
           0.0007450858892770196,
           0.0003864336932485335,
           0.000052903260242320727,
           0.00027251963513363897,
           0.0006052892601853266,
           0.0009589874321317415,
           0.001344586028636685,
           0.001769003777036815,
           0.0022325604917621256,
           0.0027247508985827062,
           0.0032174890944506873
          ],
          [
           0.01135647693330899,
           0.009990328847619745,
           0.008784831313368713,
           0.007670372557400773,
           0.006622542687335753,
           0.0056369096192731005,
           0.004715634652137091,
           0.0038609776964538822,
           0.0030726690958301495,
           0.0023473428824546394,
           0.001678984764239444,
           0.0010598103791319424,
           0.00048126052224795046,
           0.00006505407969104038,
           0.0005865668940414626,
           0.0010892466441244641,
           0.001577559577199017,
           0.0020552538547242705,
           0.002527585607791205,
           0.0030060414090626875,
           0.0035173004731944846
          ],
          [
           0.013204337387063392,
           0.011831425462729417,
           0.010488894987372488,
           0.009232346228453148,
           0.00807147897424565,
           0.0069987458412448245,
           0.006002449565850054,
           0.005071881344668516,
           0.004198685288660409,
           0.0033766519674236495,
           0.0026010222671913885,
           0.0018677701215094045,
           0.0011730164528380715,
           0.0005125823732152757,
           0.00011835010502903032,
           0.0007254651171971771,
           0.0013153075940528502,
           0.0018946980590728302,
           0.0024688110227583104,
           0.0030364471497696943,
           0.003579810326560684
          ],
          [
           0.014571166989490014,
           0.013162355802951442,
           0.011863533456267783,
           0.010623146480915224,
           0.009432584471024241,
           0.008295714960173561,
           0.007216953268215032,
           0.006197766353316481,
           0.005236560780472521,
           0.004329602661852228,
           0.003471999400030623,
           0.0026584408945419247,
           0.0018836922453869809,
           0.0011429364686952326,
           0.0004320768327138458,
           0.0002519425834867639,
           0.0009108640454911776,
           0.0015452119738568193,
           0.002155582010187007,
           0.002746913907857751,
           0.003339336635042156
          ],
          [
           0.01602689042487382,
           0.014581280130632313,
           0.013175223796945912,
           0.011849210867159066,
           0.010602735346339487,
           0.009425591553785306,
           0.008308423916511543,
           0.00724487854794531,
           0.006230969828058153,
           0.005263960393042111,
           0.00434151904216129,
           0.0034612748681381866,
           0.002620655318451348,
           0.0018168428279571325,
           0.001046700658020372,
           0.0003065708187528493,
           0.00040804281884443405,
           0.0011026445050957845,
           0.0017829524490405868,
           0.0024511412801836996,
           0.003094729118460371
          ],
          [
           0.017334530379879864,
           0.015839098246491212,
           0.0144379365745122,
           0.013090687295996717,
           0.011795150571437873,
           0.01055584087608219,
           0.009374937566134944,
           0.008251320980343424,
           0.007181767793733473,
           0.006162188413152858,
           0.00518837589589094,
           0.004256305452052689,
           0.0033621697295945774,
           0.0025023335130519575,
           0.001673355800175913,
           0.0008721850876206583,
           0.00009655389974050355,
           0.0006546182781665411,
           0.0013815735515029237,
           0.002086928798712473,
           0.0027868419568946035
          ],
          [
           0.018735214203543404,
           0.01718870579741638,
           0.01569134264880301,
           0.014273486227506682,
           0.012929663609180131,
           0.011649706391945958,
           0.010426361639808701,
           0.009255348492034132,
           0.008133887175321375,
           0.00705954922923735,
           0.006029718905144255,
           0.005041496102916043,
           0.00409181427543881,
           0.0031775964064932882,
           0.0022958199566075477,
           0.0014433882696914813,
           0.000616749392462812,
           0.0001886247037613531,
           0.0009782309194299454,
           0.0017558507452354877,
           0.0025125100365506747
          ],
          [
           0.02008792520457825,
           0.0184817324183133,
           0.01696458549572033,
           0.01550374883809047,
           0.014099753916108515,
           0.012755884248085603,
           0.011471940973639905,
           0.010244929434750638,
           0.009070701345469279,
           0.007945013199318174,
           0.006863929836433691,
           0.0058238351064580085,
           0.004821285167363687,
           0.003852853250519317,
           0.00291506254194962,
           0.0020044954681801563,
           0.0011181615644498821,
           0.0002540855481890647,
           0.0005884410321212452,
           0.0014110688303060615,
           0.0022272279353420243
          ],
          [
           0.02152517738512061,
           0.019856999445281742,
           0.018246646524606724,
           0.01671711757987504,
           0.015260335492299326,
           0.013866825888277923,
           0.012530708707666038,
           0.011248483222788153,
           0.010017380005553522,
           0.008834488221960535,
           0.007696534185477555,
           0.006599984717141183,
           0.005541247147047734,
           0.004516850111464077,
           0.0035235406962250693,
           0.002558224999995473,
           0.0016176523754889427,
           0.0006978130556425377,
           0.000206513182366308,
           0.0011000029420293322,
           0.0019762651779725027
          ],
          [
           0.022956966877623497,
           0.021219668128272806,
           0.019570634494556982,
           0.017982561575335065,
           0.016456960991789726,
           0.01499546636284177,
           0.01359598715568966,
           0.012254344376067428,
           0.010965897812322156,
           0.009726281930256486,
           0.008531533207766673,
           0.00737796812147995,
           0.006262015421361511,
           0.00518007999421255,
           0.004128469597534878,
           0.003103439230420557,
           0.0021014625367987705,
           0.001119818927077354,
           0.0001571777860460699,
           0.0007877706164514664,
           0.0017265136199648978
          ],
          [
           0.02446829740521239,
           0.022658640527565055,
           0.020914942690354987,
           0.01925458207672026,
           0.017668070736996278,
           0.01614667590744623,
           0.014685265915994838,
           0.013280414275483876,
           0.011928897139839023,
           0.010627151890769015,
           0.009371284085940235,
           0.008157249291096624,
           0.006981034450568524,
           0.005838794541809245,
           0.0047269389614945645,
           0.003642127665576811,
           0.002581062080250218,
           0.0015399337088229936,
           0.0005137352900110859,
           0.0005027419561405289,
           0.0015051114628265028
          ],
          [
           0.02599932581356046,
           0.024110711442428157,
           0.0223122015108006,
           0.02058045325411495,
           0.018917029970517918,
           0.017321913475348172,
           0.01579156791383629,
           0.014321041397689305,
           0.012905367993678585,
           0.011539990482626772,
           0.01022071071055608,
           0.008943533008979654,
           0.007704539987201775,
           0.006499812434623609,
           0.0053253755807251,
           0.004177196441242592,
           0.0030513465503674286,
           0.0019445039789373064,
           0.0008546952029312438,
           0.0002194031617780423,
           0.0012878850104098838
          ],
          [
           0.027609554950427162,
           0.025637970009723787,
           0.023740419493639697,
           0.021929833953297617,
           0.02019594018167359,
           0.018530595225864754,
           0.0169289503197525,
           0.015387266470454852,
           0.013901688409469815,
           0.012467991302897774,
           0.01108172330835,
           0.009738395261272181,
           0.008433610500043542,
           0.007163146436169776,
           0.005923020075567997,
           0.004709523388684578,
           0.003519117186967291,
           0.002347982344680588,
           0.001191232804847453,
           0.00004331797291068362,
           0.0010929923103842887
          ],
          [
           0.029258089143845423,
           0.02719706698366653,
           0.025229918261058693,
           0.02333621839559008,
           0.021517060622078255,
           0.01977089028392398,
           0.018093042014499128,
           0.016477993492189924,
           0.014920470608546177,
           0.013415620271173045,
           0.011958867749823465,
           0.010545776174846644,
           0.00917197972680428,
           0.007833157082856035,
           0.006525000300588446,
           0.005243182211279618,
           0.003983425979018573,
           0.002741895160242702,
           0.001515983795650211,
           0.00030413717123278783,
           0.0009027471879365923
          ],
          [
           0.03098898823737639,
           0.028833835450652323,
           0.026761099396916066,
           0.02478008432536538,
           0.022880052409898655,
           0.02105323963442096,
           0.019294742127895725,
           0.01760029217531267,
           0.01596533890799945,
           0.014385012369715566,
           0.012854330429201033,
           0.011368363167001627,
           0.009922311128810257,
           0.008511543110581776,
           0.007131642835343288,
           0.0057784677924159755,
           0.004448124793305364,
           0.0031366340944244397,
           0.0018391300524355225,
           0.000549809290815384,
           0.0007299094799506634
          ],
          [
           0.03277385477451,
           0.03051800629828416,
           0.028361418196637622,
           0.026285810623707606,
           0.024291502270649357,
           0.02237553512332524,
           0.020532315458966055,
           0.018755825215455157,
           0.017040429760765585,
           0.015380873304834619,
           0.013772102729731728,
           0.012209164042954246,
           0.010687185579332237,
           0.009201390388961617,
           0.007747083921172293,
           0.006319606324288962,
           0.00491433317118295,
           0.003526954841184815,
           0.002154248214608745,
           0.0007942873928643568,
           0.0005613434278990415
          ],
          [
           0.03464674491115094,
           0.0322848635437849,
           0.030014347405100228,
           0.02784146287534406,
           0.025755154468523056,
           0.02374781944231219,
           0.021814251456065747,
           0.019949527195089134,
           0.01814837482583509,
           0.01640528619714421,
           0.014714740654490743,
           0.013071333255113116,
           0.01146981360793542,
           0.009905095949840348,
           0.008372292024711347,
           0.006866780377329462,
           0.00538423891939499,
           0.003920413262558653,
           0.002470356158366771,
           0.001028038724479985,
           0.00040628855313296075
          ],
          [
           0.03658788130101853,
           0.0341131416760585,
           0.03174451922721966,
           0.02946528445931107,
           0.027274796997735162,
           0.025168811161055737,
           0.023140919655385117,
           0.02118460914821907,
           0.019293802983693542,
           0.017462743489709665,
           0.01568581982878481,
           0.013957505848600116,
           0.012272379700156044,
           0.010625160046036086,
           0.009010707705874754,
           0.007423974334517469,
           0.005859958128965226,
           0.004313885901208181,
           0.0027819276572461638,
           0.0012616911663131392,
           0.00025479201335232293
          ],
          [
           0.03862458063265217,
           0.036030998321037844,
           0.0335384904463516,
           0.031150712023706673,
           0.028856333835185488,
           0.026647708627002942,
           0.024519141552156398,
           0.022464971328560956,
           0.020479186498875812,
           0.018555628478680974,
           0.016688204159829745,
           0.014870978766448939,
           0.013098189572123387,
           0.011364242286361792,
           0.009663734968602178,
           0.007991528346478205,
           0.006342813565565875,
           0.004712968730966938,
           0.003096865658978598,
           0.0014882392548574153,
           0.00011370328954907194
          ]
         ]
        }
       ],
       "layout": {
        "height": 600,
        "margin": {
         "b": 20,
         "l": 10,
         "r": 10,
         "t": 60
        },
        "scene": {
         "xaxis": {
          "title": {
           "text": "x"
          }
         },
         "yaxis": {
          "title": {
           "text": "t"
          }
         },
         "zaxis": {
          "title": {
           "text": "|u(x,t)-u0(x,t)|"
          }
         }
        },
        "template": {
         "data": {
          "bar": [
           {
            "error_x": {
             "color": "#2a3f5f"
            },
            "error_y": {
             "color": "#2a3f5f"
            },
            "marker": {
             "line": {
              "color": "#E5ECF6",
              "width": 0.5
             },
             "pattern": {
              "fillmode": "overlay",
              "size": 10,
              "solidity": 0.2
             }
            },
            "type": "bar"
           }
          ],
          "barpolar": [
           {
            "marker": {
             "line": {
              "color": "#E5ECF6",
              "width": 0.5
             },
             "pattern": {
              "fillmode": "overlay",
              "size": 10,
              "solidity": 0.2
             }
            },
            "type": "barpolar"
           }
          ],
          "carpet": [
           {
            "aaxis": {
             "endlinecolor": "#2a3f5f",
             "gridcolor": "white",
             "linecolor": "white",
             "minorgridcolor": "white",
             "startlinecolor": "#2a3f5f"
            },
            "baxis": {
             "endlinecolor": "#2a3f5f",
             "gridcolor": "white",
             "linecolor": "white",
             "minorgridcolor": "white",
             "startlinecolor": "#2a3f5f"
            },
            "type": "carpet"
           }
          ],
          "choropleth": [
           {
            "colorbar": {
             "outlinewidth": 0,
             "ticks": ""
            },
            "type": "choropleth"
           }
          ],
          "contour": [
           {
            "colorbar": {
             "outlinewidth": 0,
             "ticks": ""
            },
            "colorscale": [
             [
              0,
              "#0d0887"
             ],
             [
              0.1111111111111111,
              "#46039f"
             ],
             [
              0.2222222222222222,
              "#7201a8"
             ],
             [
              0.3333333333333333,
              "#9c179e"
             ],
             [
              0.4444444444444444,
              "#bd3786"
             ],
             [
              0.5555555555555556,
              "#d8576b"
             ],
             [
              0.6666666666666666,
              "#ed7953"
             ],
             [
              0.7777777777777778,
              "#fb9f3a"
             ],
             [
              0.8888888888888888,
              "#fdca26"
             ],
             [
              1,
              "#f0f921"
             ]
            ],
            "type": "contour"
           }
          ],
          "contourcarpet": [
           {
            "colorbar": {
             "outlinewidth": 0,
             "ticks": ""
            },
            "type": "contourcarpet"
           }
          ],
          "heatmap": [
           {
            "colorbar": {
             "outlinewidth": 0,
             "ticks": ""
            },
            "colorscale": [
             [
              0,
              "#0d0887"
             ],
             [
              0.1111111111111111,
              "#46039f"
             ],
             [
              0.2222222222222222,
              "#7201a8"
             ],
             [
              0.3333333333333333,
              "#9c179e"
             ],
             [
              0.4444444444444444,
              "#bd3786"
             ],
             [
              0.5555555555555556,
              "#d8576b"
             ],
             [
              0.6666666666666666,
              "#ed7953"
             ],
             [
              0.7777777777777778,
              "#fb9f3a"
             ],
             [
              0.8888888888888888,
              "#fdca26"
             ],
             [
              1,
              "#f0f921"
             ]
            ],
            "type": "heatmap"
           }
          ],
          "heatmapgl": [
           {
            "colorbar": {
             "outlinewidth": 0,
             "ticks": ""
            },
            "colorscale": [
             [
              0,
              "#0d0887"
             ],
             [
              0.1111111111111111,
              "#46039f"
             ],
             [
              0.2222222222222222,
              "#7201a8"
             ],
             [
              0.3333333333333333,
              "#9c179e"
             ],
             [
              0.4444444444444444,
              "#bd3786"
             ],
             [
              0.5555555555555556,
              "#d8576b"
             ],
             [
              0.6666666666666666,
              "#ed7953"
             ],
             [
              0.7777777777777778,
              "#fb9f3a"
             ],
             [
              0.8888888888888888,
              "#fdca26"
             ],
             [
              1,
              "#f0f921"
             ]
            ],
            "type": "heatmapgl"
           }
          ],
          "histogram": [
           {
            "marker": {
             "pattern": {
              "fillmode": "overlay",
              "size": 10,
              "solidity": 0.2
             }
            },
            "type": "histogram"
           }
          ],
          "histogram2d": [
           {
            "colorbar": {
             "outlinewidth": 0,
             "ticks": ""
            },
            "colorscale": [
             [
              0,
              "#0d0887"
             ],
             [
              0.1111111111111111,
              "#46039f"
             ],
             [
              0.2222222222222222,
              "#7201a8"
             ],
             [
              0.3333333333333333,
              "#9c179e"
             ],
             [
              0.4444444444444444,
              "#bd3786"
             ],
             [
              0.5555555555555556,
              "#d8576b"
             ],
             [
              0.6666666666666666,
              "#ed7953"
             ],
             [
              0.7777777777777778,
              "#fb9f3a"
             ],
             [
              0.8888888888888888,
              "#fdca26"
             ],
             [
              1,
              "#f0f921"
             ]
            ],
            "type": "histogram2d"
           }
          ],
          "histogram2dcontour": [
           {
            "colorbar": {
             "outlinewidth": 0,
             "ticks": ""
            },
            "colorscale": [
             [
              0,
              "#0d0887"
             ],
             [
              0.1111111111111111,
              "#46039f"
             ],
             [
              0.2222222222222222,
              "#7201a8"
             ],
             [
              0.3333333333333333,
              "#9c179e"
             ],
             [
              0.4444444444444444,
              "#bd3786"
             ],
             [
              0.5555555555555556,
              "#d8576b"
             ],
             [
              0.6666666666666666,
              "#ed7953"
             ],
             [
              0.7777777777777778,
              "#fb9f3a"
             ],
             [
              0.8888888888888888,
              "#fdca26"
             ],
             [
              1,
              "#f0f921"
             ]
            ],
            "type": "histogram2dcontour"
           }
          ],
          "mesh3d": [
           {
            "colorbar": {
             "outlinewidth": 0,
             "ticks": ""
            },
            "type": "mesh3d"
           }
          ],
          "parcoords": [
           {
            "line": {
             "colorbar": {
              "outlinewidth": 0,
              "ticks": ""
             }
            },
            "type": "parcoords"
           }
          ],
          "pie": [
           {
            "automargin": true,
            "type": "pie"
           }
          ],
          "scatter": [
           {
            "marker": {
             "colorbar": {
              "outlinewidth": 0,
              "ticks": ""
             }
            },
            "type": "scatter"
           }
          ],
          "scatter3d": [
           {
            "line": {
             "colorbar": {
              "outlinewidth": 0,
              "ticks": ""
             }
            },
            "marker": {
             "colorbar": {
              "outlinewidth": 0,
              "ticks": ""
             }
            },
            "type": "scatter3d"
           }
          ],
          "scattercarpet": [
           {
            "marker": {
             "colorbar": {
              "outlinewidth": 0,
              "ticks": ""
             }
            },
            "type": "scattercarpet"
           }
          ],
          "scattergeo": [
           {
            "marker": {
             "colorbar": {
              "outlinewidth": 0,
              "ticks": ""
             }
            },
            "type": "scattergeo"
           }
          ],
          "scattergl": [
           {
            "marker": {
             "colorbar": {
              "outlinewidth": 0,
              "ticks": ""
             }
            },
            "type": "scattergl"
           }
          ],
          "scattermapbox": [
           {
            "marker": {
             "colorbar": {
              "outlinewidth": 0,
              "ticks": ""
             }
            },
            "type": "scattermapbox"
           }
          ],
          "scatterpolar": [
           {
            "marker": {
             "colorbar": {
              "outlinewidth": 0,
              "ticks": ""
             }
            },
            "type": "scatterpolar"
           }
          ],
          "scatterpolargl": [
           {
            "marker": {
             "colorbar": {
              "outlinewidth": 0,
              "ticks": ""
             }
            },
            "type": "scatterpolargl"
           }
          ],
          "scatterternary": [
           {
            "marker": {
             "colorbar": {
              "outlinewidth": 0,
              "ticks": ""
             }
            },
            "type": "scatterternary"
           }
          ],
          "surface": [
           {
            "colorbar": {
             "outlinewidth": 0,
             "ticks": ""
            },
            "colorscale": [
             [
              0,
              "#0d0887"
             ],
             [
              0.1111111111111111,
              "#46039f"
             ],
             [
              0.2222222222222222,
              "#7201a8"
             ],
             [
              0.3333333333333333,
              "#9c179e"
             ],
             [
              0.4444444444444444,
              "#bd3786"
             ],
             [
              0.5555555555555556,
              "#d8576b"
             ],
             [
              0.6666666666666666,
              "#ed7953"
             ],
             [
              0.7777777777777778,
              "#fb9f3a"
             ],
             [
              0.8888888888888888,
              "#fdca26"
             ],
             [
              1,
              "#f0f921"
             ]
            ],
            "type": "surface"
           }
          ],
          "table": [
           {
            "cells": {
             "fill": {
              "color": "#EBF0F8"
             },
             "line": {
              "color": "white"
             }
            },
            "header": {
             "fill": {
              "color": "#C8D4E3"
             },
             "line": {
              "color": "white"
             }
            },
            "type": "table"
           }
          ]
         },
         "layout": {
          "annotationdefaults": {
           "arrowcolor": "#2a3f5f",
           "arrowhead": 0,
           "arrowwidth": 1
          },
          "autotypenumbers": "strict",
          "coloraxis": {
           "colorbar": {
            "outlinewidth": 0,
            "ticks": ""
           }
          },
          "colorscale": {
           "diverging": [
            [
             0,
             "#8e0152"
            ],
            [
             0.1,
             "#c51b7d"
            ],
            [
             0.2,
             "#de77ae"
            ],
            [
             0.3,
             "#f1b6da"
            ],
            [
             0.4,
             "#fde0ef"
            ],
            [
             0.5,
             "#f7f7f7"
            ],
            [
             0.6,
             "#e6f5d0"
            ],
            [
             0.7,
             "#b8e186"
            ],
            [
             0.8,
             "#7fbc41"
            ],
            [
             0.9,
             "#4d9221"
            ],
            [
             1,
             "#276419"
            ]
           ],
           "sequential": [
            [
             0,
             "#0d0887"
            ],
            [
             0.1111111111111111,
             "#46039f"
            ],
            [
             0.2222222222222222,
             "#7201a8"
            ],
            [
             0.3333333333333333,
             "#9c179e"
            ],
            [
             0.4444444444444444,
             "#bd3786"
            ],
            [
             0.5555555555555556,
             "#d8576b"
            ],
            [
             0.6666666666666666,
             "#ed7953"
            ],
            [
             0.7777777777777778,
             "#fb9f3a"
            ],
            [
             0.8888888888888888,
             "#fdca26"
            ],
            [
             1,
             "#f0f921"
            ]
           ],
           "sequentialminus": [
            [
             0,
             "#0d0887"
            ],
            [
             0.1111111111111111,
             "#46039f"
            ],
            [
             0.2222222222222222,
             "#7201a8"
            ],
            [
             0.3333333333333333,
             "#9c179e"
            ],
            [
             0.4444444444444444,
             "#bd3786"
            ],
            [
             0.5555555555555556,
             "#d8576b"
            ],
            [
             0.6666666666666666,
             "#ed7953"
            ],
            [
             0.7777777777777778,
             "#fb9f3a"
            ],
            [
             0.8888888888888888,
             "#fdca26"
            ],
            [
             1,
             "#f0f921"
            ]
           ]
          },
          "colorway": [
           "#636efa",
           "#EF553B",
           "#00cc96",
           "#ab63fa",
           "#FFA15A",
           "#19d3f3",
           "#FF6692",
           "#B6E880",
           "#FF97FF",
           "#FECB52"
          ],
          "font": {
           "color": "#2a3f5f"
          },
          "geo": {
           "bgcolor": "white",
           "lakecolor": "white",
           "landcolor": "#E5ECF6",
           "showlakes": true,
           "showland": true,
           "subunitcolor": "white"
          },
          "hoverlabel": {
           "align": "left"
          },
          "hovermode": "closest",
          "mapbox": {
           "style": "light"
          },
          "paper_bgcolor": "white",
          "plot_bgcolor": "#E5ECF6",
          "polar": {
           "angularaxis": {
            "gridcolor": "white",
            "linecolor": "white",
            "ticks": ""
           },
           "bgcolor": "#E5ECF6",
           "radialaxis": {
            "gridcolor": "white",
            "linecolor": "white",
            "ticks": ""
           }
          },
          "scene": {
           "xaxis": {
            "backgroundcolor": "#E5ECF6",
            "gridcolor": "white",
            "gridwidth": 2,
            "linecolor": "white",
            "showbackground": true,
            "ticks": "",
            "zerolinecolor": "white"
           },
           "yaxis": {
            "backgroundcolor": "#E5ECF6",
            "gridcolor": "white",
            "gridwidth": 2,
            "linecolor": "white",
            "showbackground": true,
            "ticks": "",
            "zerolinecolor": "white"
           },
           "zaxis": {
            "backgroundcolor": "#E5ECF6",
            "gridcolor": "white",
            "gridwidth": 2,
            "linecolor": "white",
            "showbackground": true,
            "ticks": "",
            "zerolinecolor": "white"
           }
          },
          "shapedefaults": {
           "line": {
            "color": "#2a3f5f"
           }
          },
          "ternary": {
           "aaxis": {
            "gridcolor": "white",
            "linecolor": "white",
            "ticks": ""
           },
           "baxis": {
            "gridcolor": "white",
            "linecolor": "white",
            "ticks": ""
           },
           "bgcolor": "#E5ECF6",
           "caxis": {
            "gridcolor": "white",
            "linecolor": "white",
            "ticks": ""
           }
          },
          "title": {
           "x": 0.05
          },
          "xaxis": {
           "automargin": true,
           "gridcolor": "white",
           "linecolor": "white",
           "ticks": "",
           "title": {
            "standoff": 15
           },
           "zerolinecolor": "white",
           "zerolinewidth": 2
          },
          "yaxis": {
           "automargin": true,
           "gridcolor": "white",
           "linecolor": "white",
           "ticks": "",
           "title": {
            "standoff": 15
           },
           "zerolinecolor": "white",
           "zerolinewidth": 2
          }
         }
        },
        "title": {
         "text": "Модуль ошибки в каждой точке сетки (1 порядок точности производной)"
        },
        "width": 1000
       }
      }
     },
     "metadata": {},
     "output_type": "display_data"
    }
   ],
   "source": [
    "error_graph(order=1)"
   ]
  },
  {
   "cell_type": "code",
   "execution_count": 59,
   "metadata": {},
   "outputs": [
    {
     "data": {
      "application/vnd.plotly.v1+json": {
       "config": {
        "plotlyServerURL": "https://plot.ly"
       },
       "data": [
        {
         "type": "surface",
         "x": [
          [
           0,
           0.05,
           0.1,
           0.15000000000000002,
           0.2,
           0.25,
           0.30000000000000004,
           0.35000000000000003,
           0.4,
           0.45,
           0.5,
           0.55,
           0.6000000000000001,
           0.65,
           0.7000000000000001,
           0.75,
           0.8,
           0.8500000000000001,
           0.9,
           0.9500000000000001,
           1
          ],
          [
           0,
           0.05,
           0.1,
           0.15000000000000002,
           0.2,
           0.25,
           0.30000000000000004,
           0.35000000000000003,
           0.4,
           0.45,
           0.5,
           0.55,
           0.6000000000000001,
           0.65,
           0.7000000000000001,
           0.75,
           0.8,
           0.8500000000000001,
           0.9,
           0.9500000000000001,
           1
          ],
          [
           0,
           0.05,
           0.1,
           0.15000000000000002,
           0.2,
           0.25,
           0.30000000000000004,
           0.35000000000000003,
           0.4,
           0.45,
           0.5,
           0.55,
           0.6000000000000001,
           0.65,
           0.7000000000000001,
           0.75,
           0.8,
           0.8500000000000001,
           0.9,
           0.9500000000000001,
           1
          ],
          [
           0,
           0.05,
           0.1,
           0.15000000000000002,
           0.2,
           0.25,
           0.30000000000000004,
           0.35000000000000003,
           0.4,
           0.45,
           0.5,
           0.55,
           0.6000000000000001,
           0.65,
           0.7000000000000001,
           0.75,
           0.8,
           0.8500000000000001,
           0.9,
           0.9500000000000001,
           1
          ],
          [
           0,
           0.05,
           0.1,
           0.15000000000000002,
           0.2,
           0.25,
           0.30000000000000004,
           0.35000000000000003,
           0.4,
           0.45,
           0.5,
           0.55,
           0.6000000000000001,
           0.65,
           0.7000000000000001,
           0.75,
           0.8,
           0.8500000000000001,
           0.9,
           0.9500000000000001,
           1
          ],
          [
           0,
           0.05,
           0.1,
           0.15000000000000002,
           0.2,
           0.25,
           0.30000000000000004,
           0.35000000000000003,
           0.4,
           0.45,
           0.5,
           0.55,
           0.6000000000000001,
           0.65,
           0.7000000000000001,
           0.75,
           0.8,
           0.8500000000000001,
           0.9,
           0.9500000000000001,
           1
          ],
          [
           0,
           0.05,
           0.1,
           0.15000000000000002,
           0.2,
           0.25,
           0.30000000000000004,
           0.35000000000000003,
           0.4,
           0.45,
           0.5,
           0.55,
           0.6000000000000001,
           0.65,
           0.7000000000000001,
           0.75,
           0.8,
           0.8500000000000001,
           0.9,
           0.9500000000000001,
           1
          ],
          [
           0,
           0.05,
           0.1,
           0.15000000000000002,
           0.2,
           0.25,
           0.30000000000000004,
           0.35000000000000003,
           0.4,
           0.45,
           0.5,
           0.55,
           0.6000000000000001,
           0.65,
           0.7000000000000001,
           0.75,
           0.8,
           0.8500000000000001,
           0.9,
           0.9500000000000001,
           1
          ],
          [
           0,
           0.05,
           0.1,
           0.15000000000000002,
           0.2,
           0.25,
           0.30000000000000004,
           0.35000000000000003,
           0.4,
           0.45,
           0.5,
           0.55,
           0.6000000000000001,
           0.65,
           0.7000000000000001,
           0.75,
           0.8,
           0.8500000000000001,
           0.9,
           0.9500000000000001,
           1
          ],
          [
           0,
           0.05,
           0.1,
           0.15000000000000002,
           0.2,
           0.25,
           0.30000000000000004,
           0.35000000000000003,
           0.4,
           0.45,
           0.5,
           0.55,
           0.6000000000000001,
           0.65,
           0.7000000000000001,
           0.75,
           0.8,
           0.8500000000000001,
           0.9,
           0.9500000000000001,
           1
          ],
          [
           0,
           0.05,
           0.1,
           0.15000000000000002,
           0.2,
           0.25,
           0.30000000000000004,
           0.35000000000000003,
           0.4,
           0.45,
           0.5,
           0.55,
           0.6000000000000001,
           0.65,
           0.7000000000000001,
           0.75,
           0.8,
           0.8500000000000001,
           0.9,
           0.9500000000000001,
           1
          ],
          [
           0,
           0.05,
           0.1,
           0.15000000000000002,
           0.2,
           0.25,
           0.30000000000000004,
           0.35000000000000003,
           0.4,
           0.45,
           0.5,
           0.55,
           0.6000000000000001,
           0.65,
           0.7000000000000001,
           0.75,
           0.8,
           0.8500000000000001,
           0.9,
           0.9500000000000001,
           1
          ],
          [
           0,
           0.05,
           0.1,
           0.15000000000000002,
           0.2,
           0.25,
           0.30000000000000004,
           0.35000000000000003,
           0.4,
           0.45,
           0.5,
           0.55,
           0.6000000000000001,
           0.65,
           0.7000000000000001,
           0.75,
           0.8,
           0.8500000000000001,
           0.9,
           0.9500000000000001,
           1
          ],
          [
           0,
           0.05,
           0.1,
           0.15000000000000002,
           0.2,
           0.25,
           0.30000000000000004,
           0.35000000000000003,
           0.4,
           0.45,
           0.5,
           0.55,
           0.6000000000000001,
           0.65,
           0.7000000000000001,
           0.75,
           0.8,
           0.8500000000000001,
           0.9,
           0.9500000000000001,
           1
          ],
          [
           0,
           0.05,
           0.1,
           0.15000000000000002,
           0.2,
           0.25,
           0.30000000000000004,
           0.35000000000000003,
           0.4,
           0.45,
           0.5,
           0.55,
           0.6000000000000001,
           0.65,
           0.7000000000000001,
           0.75,
           0.8,
           0.8500000000000001,
           0.9,
           0.9500000000000001,
           1
          ],
          [
           0,
           0.05,
           0.1,
           0.15000000000000002,
           0.2,
           0.25,
           0.30000000000000004,
           0.35000000000000003,
           0.4,
           0.45,
           0.5,
           0.55,
           0.6000000000000001,
           0.65,
           0.7000000000000001,
           0.75,
           0.8,
           0.8500000000000001,
           0.9,
           0.9500000000000001,
           1
          ],
          [
           0,
           0.05,
           0.1,
           0.15000000000000002,
           0.2,
           0.25,
           0.30000000000000004,
           0.35000000000000003,
           0.4,
           0.45,
           0.5,
           0.55,
           0.6000000000000001,
           0.65,
           0.7000000000000001,
           0.75,
           0.8,
           0.8500000000000001,
           0.9,
           0.9500000000000001,
           1
          ],
          [
           0,
           0.05,
           0.1,
           0.15000000000000002,
           0.2,
           0.25,
           0.30000000000000004,
           0.35000000000000003,
           0.4,
           0.45,
           0.5,
           0.55,
           0.6000000000000001,
           0.65,
           0.7000000000000001,
           0.75,
           0.8,
           0.8500000000000001,
           0.9,
           0.9500000000000001,
           1
          ],
          [
           0,
           0.05,
           0.1,
           0.15000000000000002,
           0.2,
           0.25,
           0.30000000000000004,
           0.35000000000000003,
           0.4,
           0.45,
           0.5,
           0.55,
           0.6000000000000001,
           0.65,
           0.7000000000000001,
           0.75,
           0.8,
           0.8500000000000001,
           0.9,
           0.9500000000000001,
           1
          ],
          [
           0,
           0.05,
           0.1,
           0.15000000000000002,
           0.2,
           0.25,
           0.30000000000000004,
           0.35000000000000003,
           0.4,
           0.45,
           0.5,
           0.55,
           0.6000000000000001,
           0.65,
           0.7000000000000001,
           0.75,
           0.8,
           0.8500000000000001,
           0.9,
           0.9500000000000001,
           1
          ],
          [
           0,
           0.05,
           0.1,
           0.15000000000000002,
           0.2,
           0.25,
           0.30000000000000004,
           0.35000000000000003,
           0.4,
           0.45,
           0.5,
           0.55,
           0.6000000000000001,
           0.65,
           0.7000000000000001,
           0.75,
           0.8,
           0.8500000000000001,
           0.9,
           0.9500000000000001,
           1
          ]
         ],
         "y": [
          [
           0,
           0,
           0,
           0,
           0,
           0,
           0,
           0,
           0,
           0,
           0,
           0,
           0,
           0,
           0,
           0,
           0,
           0,
           0,
           0,
           0
          ],
          [
           0.05,
           0.05,
           0.05,
           0.05,
           0.05,
           0.05,
           0.05,
           0.05,
           0.05,
           0.05,
           0.05,
           0.05,
           0.05,
           0.05,
           0.05,
           0.05,
           0.05,
           0.05,
           0.05,
           0.05,
           0.05
          ],
          [
           0.1,
           0.1,
           0.1,
           0.1,
           0.1,
           0.1,
           0.1,
           0.1,
           0.1,
           0.1,
           0.1,
           0.1,
           0.1,
           0.1,
           0.1,
           0.1,
           0.1,
           0.1,
           0.1,
           0.1,
           0.1
          ],
          [
           0.15000000000000002,
           0.15000000000000002,
           0.15000000000000002,
           0.15000000000000002,
           0.15000000000000002,
           0.15000000000000002,
           0.15000000000000002,
           0.15000000000000002,
           0.15000000000000002,
           0.15000000000000002,
           0.15000000000000002,
           0.15000000000000002,
           0.15000000000000002,
           0.15000000000000002,
           0.15000000000000002,
           0.15000000000000002,
           0.15000000000000002,
           0.15000000000000002,
           0.15000000000000002,
           0.15000000000000002,
           0.15000000000000002
          ],
          [
           0.2,
           0.2,
           0.2,
           0.2,
           0.2,
           0.2,
           0.2,
           0.2,
           0.2,
           0.2,
           0.2,
           0.2,
           0.2,
           0.2,
           0.2,
           0.2,
           0.2,
           0.2,
           0.2,
           0.2,
           0.2
          ],
          [
           0.25,
           0.25,
           0.25,
           0.25,
           0.25,
           0.25,
           0.25,
           0.25,
           0.25,
           0.25,
           0.25,
           0.25,
           0.25,
           0.25,
           0.25,
           0.25,
           0.25,
           0.25,
           0.25,
           0.25,
           0.25
          ],
          [
           0.30000000000000004,
           0.30000000000000004,
           0.30000000000000004,
           0.30000000000000004,
           0.30000000000000004,
           0.30000000000000004,
           0.30000000000000004,
           0.30000000000000004,
           0.30000000000000004,
           0.30000000000000004,
           0.30000000000000004,
           0.30000000000000004,
           0.30000000000000004,
           0.30000000000000004,
           0.30000000000000004,
           0.30000000000000004,
           0.30000000000000004,
           0.30000000000000004,
           0.30000000000000004,
           0.30000000000000004,
           0.30000000000000004
          ],
          [
           0.35000000000000003,
           0.35000000000000003,
           0.35000000000000003,
           0.35000000000000003,
           0.35000000000000003,
           0.35000000000000003,
           0.35000000000000003,
           0.35000000000000003,
           0.35000000000000003,
           0.35000000000000003,
           0.35000000000000003,
           0.35000000000000003,
           0.35000000000000003,
           0.35000000000000003,
           0.35000000000000003,
           0.35000000000000003,
           0.35000000000000003,
           0.35000000000000003,
           0.35000000000000003,
           0.35000000000000003,
           0.35000000000000003
          ],
          [
           0.4,
           0.4,
           0.4,
           0.4,
           0.4,
           0.4,
           0.4,
           0.4,
           0.4,
           0.4,
           0.4,
           0.4,
           0.4,
           0.4,
           0.4,
           0.4,
           0.4,
           0.4,
           0.4,
           0.4,
           0.4
          ],
          [
           0.45,
           0.45,
           0.45,
           0.45,
           0.45,
           0.45,
           0.45,
           0.45,
           0.45,
           0.45,
           0.45,
           0.45,
           0.45,
           0.45,
           0.45,
           0.45,
           0.45,
           0.45,
           0.45,
           0.45,
           0.45
          ],
          [
           0.5,
           0.5,
           0.5,
           0.5,
           0.5,
           0.5,
           0.5,
           0.5,
           0.5,
           0.5,
           0.5,
           0.5,
           0.5,
           0.5,
           0.5,
           0.5,
           0.5,
           0.5,
           0.5,
           0.5,
           0.5
          ],
          [
           0.55,
           0.55,
           0.55,
           0.55,
           0.55,
           0.55,
           0.55,
           0.55,
           0.55,
           0.55,
           0.55,
           0.55,
           0.55,
           0.55,
           0.55,
           0.55,
           0.55,
           0.55,
           0.55,
           0.55,
           0.55
          ],
          [
           0.6000000000000001,
           0.6000000000000001,
           0.6000000000000001,
           0.6000000000000001,
           0.6000000000000001,
           0.6000000000000001,
           0.6000000000000001,
           0.6000000000000001,
           0.6000000000000001,
           0.6000000000000001,
           0.6000000000000001,
           0.6000000000000001,
           0.6000000000000001,
           0.6000000000000001,
           0.6000000000000001,
           0.6000000000000001,
           0.6000000000000001,
           0.6000000000000001,
           0.6000000000000001,
           0.6000000000000001,
           0.6000000000000001
          ],
          [
           0.65,
           0.65,
           0.65,
           0.65,
           0.65,
           0.65,
           0.65,
           0.65,
           0.65,
           0.65,
           0.65,
           0.65,
           0.65,
           0.65,
           0.65,
           0.65,
           0.65,
           0.65,
           0.65,
           0.65,
           0.65
          ],
          [
           0.7000000000000001,
           0.7000000000000001,
           0.7000000000000001,
           0.7000000000000001,
           0.7000000000000001,
           0.7000000000000001,
           0.7000000000000001,
           0.7000000000000001,
           0.7000000000000001,
           0.7000000000000001,
           0.7000000000000001,
           0.7000000000000001,
           0.7000000000000001,
           0.7000000000000001,
           0.7000000000000001,
           0.7000000000000001,
           0.7000000000000001,
           0.7000000000000001,
           0.7000000000000001,
           0.7000000000000001,
           0.7000000000000001
          ],
          [
           0.75,
           0.75,
           0.75,
           0.75,
           0.75,
           0.75,
           0.75,
           0.75,
           0.75,
           0.75,
           0.75,
           0.75,
           0.75,
           0.75,
           0.75,
           0.75,
           0.75,
           0.75,
           0.75,
           0.75,
           0.75
          ],
          [
           0.8,
           0.8,
           0.8,
           0.8,
           0.8,
           0.8,
           0.8,
           0.8,
           0.8,
           0.8,
           0.8,
           0.8,
           0.8,
           0.8,
           0.8,
           0.8,
           0.8,
           0.8,
           0.8,
           0.8,
           0.8
          ],
          [
           0.8500000000000001,
           0.8500000000000001,
           0.8500000000000001,
           0.8500000000000001,
           0.8500000000000001,
           0.8500000000000001,
           0.8500000000000001,
           0.8500000000000001,
           0.8500000000000001,
           0.8500000000000001,
           0.8500000000000001,
           0.8500000000000001,
           0.8500000000000001,
           0.8500000000000001,
           0.8500000000000001,
           0.8500000000000001,
           0.8500000000000001,
           0.8500000000000001,
           0.8500000000000001,
           0.8500000000000001,
           0.8500000000000001
          ],
          [
           0.9,
           0.9,
           0.9,
           0.9,
           0.9,
           0.9,
           0.9,
           0.9,
           0.9,
           0.9,
           0.9,
           0.9,
           0.9,
           0.9,
           0.9,
           0.9,
           0.9,
           0.9,
           0.9,
           0.9,
           0.9
          ],
          [
           0.9500000000000001,
           0.9500000000000001,
           0.9500000000000001,
           0.9500000000000001,
           0.9500000000000001,
           0.9500000000000001,
           0.9500000000000001,
           0.9500000000000001,
           0.9500000000000001,
           0.9500000000000001,
           0.9500000000000001,
           0.9500000000000001,
           0.9500000000000001,
           0.9500000000000001,
           0.9500000000000001,
           0.9500000000000001,
           0.9500000000000001,
           0.9500000000000001,
           0.9500000000000001,
           0.9500000000000001,
           0.9500000000000001
          ],
          [
           1,
           1,
           1,
           1,
           1,
           1,
           1,
           1,
           1,
           1,
           1,
           1,
           1,
           1,
           1,
           1,
           1,
           1,
           1,
           1,
           1
          ]
         ],
         "z": [
          [
           0,
           0,
           0,
           0,
           0,
           0,
           0,
           0,
           0,
           0,
           0,
           0,
           0,
           0,
           0,
           0,
           0,
           0,
           0,
           0,
           0
          ],
          [
           0.000040446551889061766,
           0.00004146738850929754,
           0.00004067685166975199,
           0.00003826116785576872,
           0.000034410072732748986,
           0.000029320062120863355,
           0.000023193043755309617,
           0.000016231201439564913,
           0.000008628683525913061,
           5.605288478927051e-7,
           0.000007830979621092915,
           0.000016452613335826705,
           0.000025279570618652603,
           0.00003437878533824046,
           0.00004393760837329008,
           0.00005430005141154881,
           0.00006601377631210159,
           0.0000798923329578538,
           0.00009709891257103642,
           0.000119260255876108,
           0.00014862256299369436
          ],
          [
           0.000058216742497063656,
           0.000059838727064609465,
           0.00005884562768643242,
           0.000055309842997397496,
           0.00004938304472279498,
           0.00004127259160324748,
           0.00003122188952242588,
           0.000019493052025087998,
           0.0000063512121529774035,
           0.00000794935712300493,
           0.000023176420477111215,
           0.00003912657843740952,
           0.000055625044386165,
           0.00007251444845701727,
           0.00008962684112651109,
           0.00010673032577729336,
           0.00012343771210904242,
           0.0001390586478177691,
           0.00015236799635270915,
           0.00016125056140497973,
           0.00016216387232503848
          ],
          [
           0.00006497166988828074,
           0.00006650501596572322,
           0.0000647353424269026,
           0.000059805773148680075,
           0.000051901922636043984,
           0.000041261500224654135,
           0.000028173778828355367,
           0.000012973530881366102,
           0.000003967548023231515,
           0.000022249998761658674,
           0.00004145532880994729,
           0.00006115432572062485,
           0.00008091641202867539,
           0.0001003237633535603,
           0.00011899755993821648,
           0.00013664961718090618,
           0.0001531820155322161,
           0.0001688721533592008,
           0.0001847037948160546,
           0.00020294057090503026,
           0.00022809360121645028
          ],
          [
           0.00006433430279750851,
           0.00006572121104275741,
           0.00006341041950763682,
           0.00005751290409994336,
           0.00004824735951203252,
           0.0000359156359925894,
           0.000020885288699368232,
           0.000003574044649234942,
           0.00001556647247780152,
           0.000036069012953166,
           0.00005747138320566503,
           0.0000793392293980677,
           0.00010128950755727839,
           0.00012301108118706328,
           0.00014427468501687635,
           0.0001649165921387974,
           0.00018476605527600887,
           0.00020346165198226185,
           0.000220059141148643,
           0.00023226236028250913,
           0.00023499176556246448
          ],
          [
           0.00006097507535640645,
           0.00006199237430670745,
           0.00005905723455423839,
           0.00005232025929968742,
           0.00004200560381795171,
           0.000028416881129422755,
           0.000011929142123001668,
           0.000007025775820568292,
           0.000027976409097352217,
           0.00005042865250171058,
           0.0000738804384441405,
           0.00009783225156956288,
           0.00012179219098662486,
           0.00014527598553271126,
           0.00016780657285420109,
           0.00018892703775014175,
           0.000208259227329477,
           0.0002256757911633933,
           0.00024171866130368036,
           0.00025851382756847396,
           0.00028163675093129115
          ],
          [
           0.00005627429386534377,
           0.000057001764403707966,
           0.000053532245012588575,
           0.00004600232100659962,
           0.00003466234759397224,
           0.000019852975991718758,
           0.0000019899153820279736,
           0.000018449869902292804,
           0.000040943120532377364,
           0.00006493726651457532,
           0.00008986989917481036,
           0.0001151914197027315,
           0.00014039181406289014,
           0.00016503193995087706,
           0.00018877669384720352,
           0.00021141875018781953,
           0.00023286106873116053,
           0.0002529825594801416,
           0.00027122330822038077,
           0.00028555652087425276,
           0.0002901991463461484
          ],
          [
           0.0000512598379371898,
           0.000051576623064875093,
           0.00004750527360963819,
           0.00003920711202232141,
           0.000026937158903339586,
           0.000011046850146190224,
           0.000008027990647141436,
           0.00002978552526955447,
           0.00005367896470354072,
           0.00007913838753570435,
           0.0001055915812347985,
           0.0001324816201807577,
           0.00015927809266702564,
           0.00018547858547979246,
           0.00021059887055174809,
           0.00023415788762426448,
           0.00025568485569615884,
           0.0002748263197194789,
           0.0002917409259597381,
           0.0003081960792351568,
           0.00033022760927536865
          ],
          [
           0.00004614199697561272,
           0.00004614840874161974,
           0.00004154516982768364,
           0.00003249421931617036,
           0.00001927730729001098,
           0.000002273639219452228,
           0.00001805511682639871,
           0.00004117981281193117,
           0.0000665205118143275,
           0.00009346462062909122,
           0.00012138598558764091,
           0.0001496652400976295,
           0.0001777130541038563,
           0.0002049993537900363,
           0.00023109157143030856,
           0.00025569967480532085,
           0.0002787060220544868,
           0.00030010423169335443,
           0.0003196425179983753,
           0.0003356825692548693,
           0.0003421897109185945
          ],
          [
           0.00004129612864423038,
           0.00004090832252057197,
           0.00003571769935883928,
           0.000025899333159440374,
           0.000011738162299712585,
           0.000006371791373305236,
           0.0000279422731901402,
           0.000052410937239399935,
           0.00007916389711259963,
           0.00010755968244757774,
           0.00013695372607014367,
           0.00016672171583420603,
           0.0001962786589537746,
           0.0002250885684674797,
           0.0002526584244267882,
           0.0002785132191867046,
           0.0003021663843885136,
           0.00032315517470926647,
           0.0003413552739764403,
           0.0003581310671476601,
           0.00037963565584708814
          ],
          [
           0.000036603128316103906,
           0.00003590895576333075,
           0.000030173483433815207,
           0.000019583194531769266,
           0.00000445237780155594,
           0.000014797814459122094,
           0.000037654733852088285,
           0.00006353137496661887,
           0.00009178610247728702,
           0.00012174373582607423,
           0.0001527165443375722,
           0.00018402445468534978,
           0.00021501541361845788,
           0.000245089440415458,
           0.00027373275048647727,
           0.00030056809274503493,
           0.00032541384049800115,
           0.0003482908197685042,
           0.00036915982164142935,
           0.00038677605987252894,
           0.0003951176298890857
          ],
          [
           0.00003225987531862984,
           0.000031194601410211575,
           0.000024875925343614824,
           0.000013496416598313132,
           0.0000026260353986895524,
           0.000023052841387594114,
           0.000047242220686083414,
           0.00007457090540796685,
           0.00010435782496998058,
           0.00013588934558772525,
           0.00016844578787522657,
           0.00020132835480080047,
           0.00023388420712999736,
           0.00026552485099440304,
           0.00029572941518407614,
           0.00032402247209772916,
           0.0003499258836251462,
           0.00037293464037724267,
           0.00039273071997203424,
           0.00041029677308018764,
           0.0004316992558696664
          ],
          [
           0.00002810892537907783,
           0.00002674404916547246,
           0.000019860603742927196,
           0.000007669340349458764,
           0.000009481246866283044,
           0.00003112449148701124,
           0.00005669163324228954,
           0.00008553131326949348,
           0.00011693253004407822,
           0.00015014925177347926,
           0.00018442465021728527,
           0.00021901336862795162,
           0.000253201526539959,
           0.0002863269266750734,
           0.0003178065182094514,
           0.00034718270488653946,
           0.0003741951007967259,
           0.00039883941665397327,
           0.000421207830427206,
           0.00044041214253009997,
           0.000450601834315445
          ],
          [
           0.00002426847608050231,
           0.00002255044323895561,
           0.00001507523055765958,
           0.0000020562820561842443,
           0.000016151777712414273,
           0.000039061608409607373,
           0.00006607326863061758,
           0.0000964977506394682,
           0.00012958224441961264,
           0.00016453689883255684,
           0.00020056296527393158,
           0.00023688196127158445,
           0.00027276463935832496,
           0.0003075562338088478,
           0.00034068980541634986,
           0.00037167344749167164,
           0.0004000380362263467,
           0.0004252710848895447,
           0.00044692992348827065,
           0.00046566066572850673,
           0.00048732125671308024
          ],
          [
           0.00002060642751078312,
           0.000018592855175469936,
           0.000010527696478801474,
           0.000003353332205469073,
           0.000022664882936895836,
           0.000046890556389067584,
           0.00007540010341822168,
           0.0001074713737259092,
           0.00014231638774342414,
           0.00017910946125332394,
           0.00021701514795524623,
           0.0002552138815536953,
           0.00029292386550983096,
           0.00032941997098745457,
           0.00036405547482321055,
           0.0003963004137819137,
           0.00042581414173958887,
           0.00045253863553562645,
           0.0004766353557641434,
           0.0004975220745802034,
           0.0005096140367874535
          ],
          [
           0.000017199513536292343,
           0.000014843814394982502,
           0.000006166632741333444,
           0.000008594741437661924,
           0.000029045150938156183,
           0.00005464367165020079,
           0.00008472624293154318,
           0.00011853133934103255,
           0.00015522741340689983,
           0.00019394181132259547,
           0.00023379086227359736,
           0.0002739108874554308,
           0.00031348968429578683,
           0.0003517965202661788,
           0.0003882041130904845,
           0.00042218747879363416,
           0.00045327722195320774,
           0.0004809684010064208,
           0.0005047438052550035,
           0.0005249644048562763,
           0.000547208888151518
          ],
          [
           0.000013943487479517458,
           0.000011292111408378602,
           0.000001993723690807414,
           0.000013689488145285367,
           0.00003533179439396683,
           0.00006236205034126918,
           0.00009408249622011589,
           0.00012969333201784394,
           0.00016832184504966818,
           0.00020905392275083479,
           0.0002509657624982786,
           0.00029315347478742204,
           0.0003347583258779263,
           0.0003749866858531181,
           0.000413128307431343,
           0.00044858624735910624,
           0.000480943029437908,
           0.0005100727886574452,
           0.0005361609791039168,
           0.0005588790864480275,
           0.0005729618224011856
          ],
          [
           0.000010892540693197006,
           0.00000790353884849715,
           0.0000020373314093546924,
           0.000018666113988707878,
           0.00004154321086091706,
           0.00007006885932980822,
           0.0001035082017928346,
           0.00014101936657739955,
           0.00018168362766024515,
           0.00022453714484638176,
           0.00026860360728142574,
           0.0003129273182405079,
           0.0003566066343116958,
           0.0003988271205037641,
           0.00043889012629083624,
           0.00047622299024863146,
           0.0005103433207511721,
           0.0005407569887939667,
           0.0005669069312614905,
           0.0005889188210305152,
           0.0006120542372788362
          ],
          [
           0.000007962813191486617,
           0.000004673428759982556,
           0.00000592697697743283,
           0.000023547651748945242,
           0.000047718283647135706,
           0.00007780723778383347,
           0.00011304242680232335,
           0.000152538762408172,
           0.00019533042387887,
           0.00024040574168338047,
           0.00028674265155714806,
           0.0003333424564597731,
           0.00037925922421178093,
           0.0004236225403064786,
           0.00046565477824622725,
           0.0005046939615098722,
           0.0005402500032756219,
           0.0005721234251382379,
           0.0006004916301395324,
           0.0006252310384883275,
           0.0006414231661968639
          ],
          [
           0.000005195712010408471,
           0.000001567274083180692,
           0.000009715349580607935,
           0.000028358649117654622,
           0.00005387436213610819,
           0.00008559811335007161,
           0.00012271691633758408,
           0.00016429992553379513,
           0.00020933176422777144,
           0.0002567476759416376,
           0.000305469378852008,
           0.000354440766049402,
           0.00040266334594840636,
           0.00044923166386268143,
           0.0004933666095929823,
           0.0005344354715688393,
           0.0005719295855819428,
           0.0006053621356651995,
           0.0006341590462369817,
           0.0006582557685174129,
           0.000682580467799121
          ],
          [
           0.0000025216869745658954,
           0.000001416423282663004,
           0.000013404666091121342,
           0.000033121175735839614,
           0.00006004630857736615,
           0.00009348151935784088,
           0.00013257273671518632,
           0.00017634098998020598,
           0.00022371803870813167,
           0.0002735847703783101,
           0.00032481045580157186,
           0.0003762907377387048,
           0.00042698156315390534,
           0.00047592588796585567,
           0.0005222720653002,
           0.0005652918101266557,
           0.000604425542592324,
           0.0006393988151373042,
           0.0006703588585710296,
           0.0006973436922523835,
           0.0007157917034337213
          ]
         ]
        }
       ],
       "layout": {
        "height": 600,
        "margin": {
         "b": 20,
         "l": 10,
         "r": 10,
         "t": 60
        },
        "scene": {
         "xaxis": {
          "title": {
           "text": "x"
          }
         },
         "yaxis": {
          "title": {
           "text": "t"
          }
         },
         "zaxis": {
          "title": {
           "text": "|u(x,t)-u0(x,t)|"
          }
         }
        },
        "template": {
         "data": {
          "bar": [
           {
            "error_x": {
             "color": "#2a3f5f"
            },
            "error_y": {
             "color": "#2a3f5f"
            },
            "marker": {
             "line": {
              "color": "#E5ECF6",
              "width": 0.5
             },
             "pattern": {
              "fillmode": "overlay",
              "size": 10,
              "solidity": 0.2
             }
            },
            "type": "bar"
           }
          ],
          "barpolar": [
           {
            "marker": {
             "line": {
              "color": "#E5ECF6",
              "width": 0.5
             },
             "pattern": {
              "fillmode": "overlay",
              "size": 10,
              "solidity": 0.2
             }
            },
            "type": "barpolar"
           }
          ],
          "carpet": [
           {
            "aaxis": {
             "endlinecolor": "#2a3f5f",
             "gridcolor": "white",
             "linecolor": "white",
             "minorgridcolor": "white",
             "startlinecolor": "#2a3f5f"
            },
            "baxis": {
             "endlinecolor": "#2a3f5f",
             "gridcolor": "white",
             "linecolor": "white",
             "minorgridcolor": "white",
             "startlinecolor": "#2a3f5f"
            },
            "type": "carpet"
           }
          ],
          "choropleth": [
           {
            "colorbar": {
             "outlinewidth": 0,
             "ticks": ""
            },
            "type": "choropleth"
           }
          ],
          "contour": [
           {
            "colorbar": {
             "outlinewidth": 0,
             "ticks": ""
            },
            "colorscale": [
             [
              0,
              "#0d0887"
             ],
             [
              0.1111111111111111,
              "#46039f"
             ],
             [
              0.2222222222222222,
              "#7201a8"
             ],
             [
              0.3333333333333333,
              "#9c179e"
             ],
             [
              0.4444444444444444,
              "#bd3786"
             ],
             [
              0.5555555555555556,
              "#d8576b"
             ],
             [
              0.6666666666666666,
              "#ed7953"
             ],
             [
              0.7777777777777778,
              "#fb9f3a"
             ],
             [
              0.8888888888888888,
              "#fdca26"
             ],
             [
              1,
              "#f0f921"
             ]
            ],
            "type": "contour"
           }
          ],
          "contourcarpet": [
           {
            "colorbar": {
             "outlinewidth": 0,
             "ticks": ""
            },
            "type": "contourcarpet"
           }
          ],
          "heatmap": [
           {
            "colorbar": {
             "outlinewidth": 0,
             "ticks": ""
            },
            "colorscale": [
             [
              0,
              "#0d0887"
             ],
             [
              0.1111111111111111,
              "#46039f"
             ],
             [
              0.2222222222222222,
              "#7201a8"
             ],
             [
              0.3333333333333333,
              "#9c179e"
             ],
             [
              0.4444444444444444,
              "#bd3786"
             ],
             [
              0.5555555555555556,
              "#d8576b"
             ],
             [
              0.6666666666666666,
              "#ed7953"
             ],
             [
              0.7777777777777778,
              "#fb9f3a"
             ],
             [
              0.8888888888888888,
              "#fdca26"
             ],
             [
              1,
              "#f0f921"
             ]
            ],
            "type": "heatmap"
           }
          ],
          "heatmapgl": [
           {
            "colorbar": {
             "outlinewidth": 0,
             "ticks": ""
            },
            "colorscale": [
             [
              0,
              "#0d0887"
             ],
             [
              0.1111111111111111,
              "#46039f"
             ],
             [
              0.2222222222222222,
              "#7201a8"
             ],
             [
              0.3333333333333333,
              "#9c179e"
             ],
             [
              0.4444444444444444,
              "#bd3786"
             ],
             [
              0.5555555555555556,
              "#d8576b"
             ],
             [
              0.6666666666666666,
              "#ed7953"
             ],
             [
              0.7777777777777778,
              "#fb9f3a"
             ],
             [
              0.8888888888888888,
              "#fdca26"
             ],
             [
              1,
              "#f0f921"
             ]
            ],
            "type": "heatmapgl"
           }
          ],
          "histogram": [
           {
            "marker": {
             "pattern": {
              "fillmode": "overlay",
              "size": 10,
              "solidity": 0.2
             }
            },
            "type": "histogram"
           }
          ],
          "histogram2d": [
           {
            "colorbar": {
             "outlinewidth": 0,
             "ticks": ""
            },
            "colorscale": [
             [
              0,
              "#0d0887"
             ],
             [
              0.1111111111111111,
              "#46039f"
             ],
             [
              0.2222222222222222,
              "#7201a8"
             ],
             [
              0.3333333333333333,
              "#9c179e"
             ],
             [
              0.4444444444444444,
              "#bd3786"
             ],
             [
              0.5555555555555556,
              "#d8576b"
             ],
             [
              0.6666666666666666,
              "#ed7953"
             ],
             [
              0.7777777777777778,
              "#fb9f3a"
             ],
             [
              0.8888888888888888,
              "#fdca26"
             ],
             [
              1,
              "#f0f921"
             ]
            ],
            "type": "histogram2d"
           }
          ],
          "histogram2dcontour": [
           {
            "colorbar": {
             "outlinewidth": 0,
             "ticks": ""
            },
            "colorscale": [
             [
              0,
              "#0d0887"
             ],
             [
              0.1111111111111111,
              "#46039f"
             ],
             [
              0.2222222222222222,
              "#7201a8"
             ],
             [
              0.3333333333333333,
              "#9c179e"
             ],
             [
              0.4444444444444444,
              "#bd3786"
             ],
             [
              0.5555555555555556,
              "#d8576b"
             ],
             [
              0.6666666666666666,
              "#ed7953"
             ],
             [
              0.7777777777777778,
              "#fb9f3a"
             ],
             [
              0.8888888888888888,
              "#fdca26"
             ],
             [
              1,
              "#f0f921"
             ]
            ],
            "type": "histogram2dcontour"
           }
          ],
          "mesh3d": [
           {
            "colorbar": {
             "outlinewidth": 0,
             "ticks": ""
            },
            "type": "mesh3d"
           }
          ],
          "parcoords": [
           {
            "line": {
             "colorbar": {
              "outlinewidth": 0,
              "ticks": ""
             }
            },
            "type": "parcoords"
           }
          ],
          "pie": [
           {
            "automargin": true,
            "type": "pie"
           }
          ],
          "scatter": [
           {
            "marker": {
             "colorbar": {
              "outlinewidth": 0,
              "ticks": ""
             }
            },
            "type": "scatter"
           }
          ],
          "scatter3d": [
           {
            "line": {
             "colorbar": {
              "outlinewidth": 0,
              "ticks": ""
             }
            },
            "marker": {
             "colorbar": {
              "outlinewidth": 0,
              "ticks": ""
             }
            },
            "type": "scatter3d"
           }
          ],
          "scattercarpet": [
           {
            "marker": {
             "colorbar": {
              "outlinewidth": 0,
              "ticks": ""
             }
            },
            "type": "scattercarpet"
           }
          ],
          "scattergeo": [
           {
            "marker": {
             "colorbar": {
              "outlinewidth": 0,
              "ticks": ""
             }
            },
            "type": "scattergeo"
           }
          ],
          "scattergl": [
           {
            "marker": {
             "colorbar": {
              "outlinewidth": 0,
              "ticks": ""
             }
            },
            "type": "scattergl"
           }
          ],
          "scattermapbox": [
           {
            "marker": {
             "colorbar": {
              "outlinewidth": 0,
              "ticks": ""
             }
            },
            "type": "scattermapbox"
           }
          ],
          "scatterpolar": [
           {
            "marker": {
             "colorbar": {
              "outlinewidth": 0,
              "ticks": ""
             }
            },
            "type": "scatterpolar"
           }
          ],
          "scatterpolargl": [
           {
            "marker": {
             "colorbar": {
              "outlinewidth": 0,
              "ticks": ""
             }
            },
            "type": "scatterpolargl"
           }
          ],
          "scatterternary": [
           {
            "marker": {
             "colorbar": {
              "outlinewidth": 0,
              "ticks": ""
             }
            },
            "type": "scatterternary"
           }
          ],
          "surface": [
           {
            "colorbar": {
             "outlinewidth": 0,
             "ticks": ""
            },
            "colorscale": [
             [
              0,
              "#0d0887"
             ],
             [
              0.1111111111111111,
              "#46039f"
             ],
             [
              0.2222222222222222,
              "#7201a8"
             ],
             [
              0.3333333333333333,
              "#9c179e"
             ],
             [
              0.4444444444444444,
              "#bd3786"
             ],
             [
              0.5555555555555556,
              "#d8576b"
             ],
             [
              0.6666666666666666,
              "#ed7953"
             ],
             [
              0.7777777777777778,
              "#fb9f3a"
             ],
             [
              0.8888888888888888,
              "#fdca26"
             ],
             [
              1,
              "#f0f921"
             ]
            ],
            "type": "surface"
           }
          ],
          "table": [
           {
            "cells": {
             "fill": {
              "color": "#EBF0F8"
             },
             "line": {
              "color": "white"
             }
            },
            "header": {
             "fill": {
              "color": "#C8D4E3"
             },
             "line": {
              "color": "white"
             }
            },
            "type": "table"
           }
          ]
         },
         "layout": {
          "annotationdefaults": {
           "arrowcolor": "#2a3f5f",
           "arrowhead": 0,
           "arrowwidth": 1
          },
          "autotypenumbers": "strict",
          "coloraxis": {
           "colorbar": {
            "outlinewidth": 0,
            "ticks": ""
           }
          },
          "colorscale": {
           "diverging": [
            [
             0,
             "#8e0152"
            ],
            [
             0.1,
             "#c51b7d"
            ],
            [
             0.2,
             "#de77ae"
            ],
            [
             0.3,
             "#f1b6da"
            ],
            [
             0.4,
             "#fde0ef"
            ],
            [
             0.5,
             "#f7f7f7"
            ],
            [
             0.6,
             "#e6f5d0"
            ],
            [
             0.7,
             "#b8e186"
            ],
            [
             0.8,
             "#7fbc41"
            ],
            [
             0.9,
             "#4d9221"
            ],
            [
             1,
             "#276419"
            ]
           ],
           "sequential": [
            [
             0,
             "#0d0887"
            ],
            [
             0.1111111111111111,
             "#46039f"
            ],
            [
             0.2222222222222222,
             "#7201a8"
            ],
            [
             0.3333333333333333,
             "#9c179e"
            ],
            [
             0.4444444444444444,
             "#bd3786"
            ],
            [
             0.5555555555555556,
             "#d8576b"
            ],
            [
             0.6666666666666666,
             "#ed7953"
            ],
            [
             0.7777777777777778,
             "#fb9f3a"
            ],
            [
             0.8888888888888888,
             "#fdca26"
            ],
            [
             1,
             "#f0f921"
            ]
           ],
           "sequentialminus": [
            [
             0,
             "#0d0887"
            ],
            [
             0.1111111111111111,
             "#46039f"
            ],
            [
             0.2222222222222222,
             "#7201a8"
            ],
            [
             0.3333333333333333,
             "#9c179e"
            ],
            [
             0.4444444444444444,
             "#bd3786"
            ],
            [
             0.5555555555555556,
             "#d8576b"
            ],
            [
             0.6666666666666666,
             "#ed7953"
            ],
            [
             0.7777777777777778,
             "#fb9f3a"
            ],
            [
             0.8888888888888888,
             "#fdca26"
            ],
            [
             1,
             "#f0f921"
            ]
           ]
          },
          "colorway": [
           "#636efa",
           "#EF553B",
           "#00cc96",
           "#ab63fa",
           "#FFA15A",
           "#19d3f3",
           "#FF6692",
           "#B6E880",
           "#FF97FF",
           "#FECB52"
          ],
          "font": {
           "color": "#2a3f5f"
          },
          "geo": {
           "bgcolor": "white",
           "lakecolor": "white",
           "landcolor": "#E5ECF6",
           "showlakes": true,
           "showland": true,
           "subunitcolor": "white"
          },
          "hoverlabel": {
           "align": "left"
          },
          "hovermode": "closest",
          "mapbox": {
           "style": "light"
          },
          "paper_bgcolor": "white",
          "plot_bgcolor": "#E5ECF6",
          "polar": {
           "angularaxis": {
            "gridcolor": "white",
            "linecolor": "white",
            "ticks": ""
           },
           "bgcolor": "#E5ECF6",
           "radialaxis": {
            "gridcolor": "white",
            "linecolor": "white",
            "ticks": ""
           }
          },
          "scene": {
           "xaxis": {
            "backgroundcolor": "#E5ECF6",
            "gridcolor": "white",
            "gridwidth": 2,
            "linecolor": "white",
            "showbackground": true,
            "ticks": "",
            "zerolinecolor": "white"
           },
           "yaxis": {
            "backgroundcolor": "#E5ECF6",
            "gridcolor": "white",
            "gridwidth": 2,
            "linecolor": "white",
            "showbackground": true,
            "ticks": "",
            "zerolinecolor": "white"
           },
           "zaxis": {
            "backgroundcolor": "#E5ECF6",
            "gridcolor": "white",
            "gridwidth": 2,
            "linecolor": "white",
            "showbackground": true,
            "ticks": "",
            "zerolinecolor": "white"
           }
          },
          "shapedefaults": {
           "line": {
            "color": "#2a3f5f"
           }
          },
          "ternary": {
           "aaxis": {
            "gridcolor": "white",
            "linecolor": "white",
            "ticks": ""
           },
           "baxis": {
            "gridcolor": "white",
            "linecolor": "white",
            "ticks": ""
           },
           "bgcolor": "#E5ECF6",
           "caxis": {
            "gridcolor": "white",
            "linecolor": "white",
            "ticks": ""
           }
          },
          "title": {
           "x": 0.05
          },
          "xaxis": {
           "automargin": true,
           "gridcolor": "white",
           "linecolor": "white",
           "ticks": "",
           "title": {
            "standoff": 15
           },
           "zerolinecolor": "white",
           "zerolinewidth": 2
          },
          "yaxis": {
           "automargin": true,
           "gridcolor": "white",
           "linecolor": "white",
           "ticks": "",
           "title": {
            "standoff": 15
           },
           "zerolinecolor": "white",
           "zerolinewidth": 2
          }
         }
        },
        "title": {
         "text": "Модуль ошибки в каждой точке сетки (2 порядок точности производной)"
        },
        "width": 1000
       }
      }
     },
     "metadata": {},
     "output_type": "display_data"
    }
   ],
   "source": [
    "error_graph(order=2)"
   ]
  },
  {
   "cell_type": "markdown",
   "metadata": {},
   "source": [
    "Максимальная ошибка для данных $h$ и $\\tau$:"
   ]
  },
  {
   "cell_type": "code",
   "execution_count": 60,
   "metadata": {},
   "outputs": [],
   "source": [
    "def max_error(X=X, T=T, order=1):\n",
    "    Xs, Ts = np.meshgrid(X, T)\n",
    "    return np.max(np.abs(solution(Xs, Ts) - solver_h(X=X, T=T, order=order)))"
   ]
  },
  {
   "cell_type": "code",
   "execution_count": 61,
   "metadata": {},
   "outputs": [
    {
     "name": "stdout",
     "output_type": "stream",
     "text": [
      "Order 1 max error: 0.03862458063265217\n",
      "Order 2 max error: 0.0007157917034337213\n"
     ]
    }
   ],
   "source": [
    "print(f\"Order 1 max error: {max_error(X=X, T=T, order=1)}\")\n",
    "print(f\"Order 2 max error: {max_error(X=X, T=T, order=2)}\")"
   ]
  },
  {
   "cell_type": "markdown",
   "metadata": {},
   "source": [
    "Далее приведена реализация построения 2D графиков на основе предыдущего слоя."
   ]
  },
  {
   "cell_type": "code",
   "execution_count": 74,
   "metadata": {},
   "outputs": [],
   "source": [
    "%matplotlib widget\n",
    "def solver_h_2D(n=1, X=X, T=T, order=1):\n",
    "    N = len(X)\n",
    "    u = [phi(x) for x in X]\n",
    "    for i in range(1, n):\n",
    "        u = TridiagMatrixMethod(m=i-1, u=u, X=X, T=T, N=N, order=order, type=\"2D\")\n",
    "    # print(u)\n",
    "    return u\n",
    "\n",
    "def plot_2D(m=1, order=1):\n",
    "    global X\n",
    "    global T\n",
    "\n",
    "    plt.clf()\n",
    "    ax = plt.gca()\n",
    "    ax.set_xlim([-h, l+h])\n",
    "    ax.set_ylim([0, 2])\n",
    "    \n",
    "    u = solver_h_2D(n=m, order=order)\n",
    "    real_u = [solution(x, T[m-1]) for x in X]\n",
    "\n",
    "    plt.plot(X, u, label=\"Numerical Solution\")\n",
    "    plt.plot(X, real_u, label=\"Real Solution\")\n",
    "\n",
    "    plt.grid(True)\n",
    "    plt.legend()\n",
    "    try:\n",
    "        plt.savefig(f\"./graphs/t ={T[m-1]: .2f}, order = {order}.jpg\")\n",
    "    except Exception:\n",
    "        print(\"An error occured while saving graph to /graph directory. Check if it's created.\")\n",
    "        \n",
    "    plt.show() \n",
    "    "
   ]
  },
  {
   "cell_type": "code",
   "execution_count": 75,
   "metadata": {},
   "outputs": [
    {
     "data": {
      "application/vnd.jupyter.widget-view+json": {
       "model_id": "496511d29efb48da87617d0b07409c9b",
       "version_major": 2,
       "version_minor": 0
      },
      "text/plain": [
       "interactive(children=(IntSlider(value=1, description='m', max=21, min=1), IntSlider(value=1, description='orde…"
      ]
     },
     "metadata": {},
     "output_type": "display_data"
    },
    {
     "data": {
      "text/plain": [
       "<function __main__.plot_2D(m=1, order=1)>"
      ]
     },
     "execution_count": 75,
     "metadata": {},
     "output_type": "execute_result"
    }
   ],
   "source": [
    "interact(plot_2D, m=(1, len(T), 1), order=(1, 2, 1))"
   ]
  }
 ],
 "metadata": {
  "interpreter": {
   "hash": "3a6f8b2227394587c5aa47911b9013af12e55eb00aba98c34627975f605aae29"
  },
  "kernelspec": {
   "display_name": "Python 3",
   "language": "python",
   "name": "python3"
  },
  "language_info": {
   "codemirror_mode": {
    "name": "ipython",
    "version": 3
   },
   "file_extension": ".py",
   "mimetype": "text/x-python",
   "name": "python",
   "nbconvert_exporter": "python",
   "pygments_lexer": "ipython3",
   "version": "3.7.4"
  }
 },
 "nbformat": 4,
 "nbformat_minor": 2
}
